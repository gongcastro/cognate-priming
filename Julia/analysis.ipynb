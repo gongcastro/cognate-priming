{
 "cells": [
  {
   "cell_type": "markdown",
   "metadata": {},
   "source": [
    "# Main analysis\n",
    "\n",
    "This is the main analysis of the Cognate Priming experiment. We fit a series of incrementally more complex models on the processed data (see R folder). The aim of this analysis is to test:\n",
    "\n",
    "* If fixations to the target object grow slowlier across conditions (`condition`: cognate vs. non-cognate vs. unrelated trials)\n",
    "* If the effect of condition is mediated by the language background of participants (`group`: monolinguals vs. bilinguals)\n",
    "* How (and if) these effects change accross three age points (`age`: 21, 25 and 30 months)\n",
    "\n",
    "We will adjust our estimates to the vocabulary size (`vocabulary`: composite score of comprehensive and productive vocabulary size), and lexical frequency of the target (`frequency`, Zipf score as extracted from SUBTLEX). To account for repeated measures, we will add by-participant and by-trial random intercepts and slopes when necessary. Numeric predictors will be standardized and categorical predictors will be effect-coded (-0.5, 0.5).\n",
    "\n",
    "Formally, this is the extended model (`fit4`) we are fitting. We will compare its fit against that of simpler models:\n",
    "\n",
    "* `fit0`: includes an intercept\n",
    "* `fit1`: adds `vocabulary` and `frequency` main effects to `fit0`\n",
    "* `fit2`: adds `age` main effect to `fit1`\n",
    "* `fit3`: adds `group` main effect, the `age*group` interaction to `fit2`\n",
    "\n",
    "All `fit0`, `fit1`, `fit2`, and `fit3` will include participants-level and trial-level adjustments where necessary. Equation (\\ref{eq1}) shows the formula of `fit4`, the extended model."
   ]
  },
  {
   "cell_type": "markdown",
   "metadata": {},
   "source": [
    "$\n",
    "\\begin{equation}\\label{eqn:eq1}\\tag{1}\n",
    "\\begin{split}\n",
    "\\begin{aligned}\n",
    "y {}={} & (\\beta_{0}+P_{i0}+T_{j0}) + \\dots \\\\\n",
    "& (\\beta_{1}+P_{i1}+T_{j1}) \\times Condition + \\dots \\\\\n",
    "& (\\beta_{2}+T_{j2}) \\times  Group + \\dots \\\\\n",
    "& (\\beta_{3}+P_{i1}+T_{j1}) \\times Age + \\dots \\\\\n",
    "& \\beta_{4} \\times Vocabulary + \\dots \\\\\n",
    "& \\beta_{5} \\times Frequency + \\dots \\\\\n",
    "& (\\beta_{6}+T_{j6}) \\times (Condition \\times Group) + \\dots \\\\\n",
    "& (\\beta_{7}+P_{i7}+T_{j7}) \\times (Condition \\times Age) + \\dots \\\\\n",
    "& (\\beta_{8}+T_{j8}) \\times (Group \\times Age) + \\dots \\\\\n",
    "& (\\beta_{9}+T_{j9}) \\times (Condition \\times Group \\times Age) + \\epsilon, \\\\\n",
    "& \\epsilon \\sim \\mathcal{N}(0, 1)\\\\ \\\\\n",
    "Where: \\\\\n",
    " i &= \\text{participant index} \\\\\n",
    " j &= \\text{trial index} \\\\\n",
    " \\beta_{k} &= \\text{coefficient of fixed population level effect}\\\\\n",
    " P_{ik} &= \\text{participant-level adjustment for \\beta_{k}} \\\\\n",
    " T_{jk} &= \\text{trial-level adjustment for \\beta_{k}} \\\\\n",
    " \\epsilon &= \\text{model residual error}\n",
    "\\end{aligned}\n",
    "\\end{split}\n",
    "\\end{equation}\n",
    "$"
   ]
  },
  {
   "cell_type": "markdown",
   "metadata": {},
   "source": [
    "## Set up\n",
    "Define parameters and load packages. Running this cell may take a couple of minutes because packages are recomplied when loaded."
   ]
  },
  {
   "cell_type": "code",
   "execution_count": 158,
   "metadata": {},
   "outputs": [],
   "source": [
    "using CSV\n",
    "using DataFrames\n",
    "using DataFramesMeta\n",
    "using Statistics\n",
    "using StatsBase\n",
    "using StatsModels\n",
    "using MixedModels\n",
    "using Plots"
   ]
  },
  {
   "cell_type": "markdown",
   "metadata": {},
   "source": [
    "## Import and process data"
   ]
  },
  {
   "cell_type": "code",
   "execution_count": 188,
   "metadata": {
    "scrolled": true
   },
   "outputs": [
    {
     "data": {
      "text/html": [
       "<table class=\"data-frame\"><thead><tr><th></th><th>participant</th><th>age</th><th>group</th><th>trial</th><th>condition</th><th>time</th><th>target</th><th>fixation</th></tr><tr><th></th><th>String</th><th>Int64</th><th>String</th><th>Int64</th><th>String?</th><th>Int64</th><th>String?</th><th>Int64</th></tr></thead><tbody><p>10 rows × 9 columns (omitted printing of 1 columns)</p><tr><th>1</th><td>cognatepriming18</td><td>30</td><td>Bilingual</td><td>1</td><td>Cognate</td><td>1</td><td>boca</td><td>0</td></tr><tr><th>2</th><td>cognatepriming18</td><td>30</td><td>Bilingual</td><td>1</td><td>Cognate</td><td>2</td><td>boca</td><td>0</td></tr><tr><th>3</th><td>cognatepriming18</td><td>30</td><td>Bilingual</td><td>1</td><td>Cognate</td><td>3</td><td>boca</td><td>0</td></tr><tr><th>4</th><td>cognatepriming18</td><td>30</td><td>Bilingual</td><td>1</td><td>Cognate</td><td>4</td><td>boca</td><td>0</td></tr><tr><th>5</th><td>cognatepriming18</td><td>30</td><td>Bilingual</td><td>1</td><td>Cognate</td><td>5</td><td>boca</td><td>0</td></tr><tr><th>6</th><td>cognatepriming18</td><td>30</td><td>Bilingual</td><td>1</td><td>Cognate</td><td>6</td><td>boca</td><td>0</td></tr><tr><th>7</th><td>cognatepriming18</td><td>30</td><td>Bilingual</td><td>1</td><td>Cognate</td><td>7</td><td>boca</td><td>0</td></tr><tr><th>8</th><td>cognatepriming18</td><td>30</td><td>Bilingual</td><td>1</td><td>Cognate</td><td>8</td><td>boca</td><td>0</td></tr><tr><th>9</th><td>cognatepriming18</td><td>30</td><td>Bilingual</td><td>1</td><td>Cognate</td><td>9</td><td>boca</td><td>0</td></tr><tr><th>10</th><td>cognatepriming18</td><td>30</td><td>Bilingual</td><td>1</td><td>Cognate</td><td>10</td><td>boca</td><td>0</td></tr></tbody></table>"
      ],
      "text/latex": [
       "\\begin{tabular}{r|ccccccccc}\n",
       "\t& participant & age & group & trial & condition & time & target & fixation & \\\\\n",
       "\t\\hline\n",
       "\t& String & Int64 & String & Int64 & String? & Int64 & String? & Int64 & \\\\\n",
       "\t\\hline\n",
       "\t1 & cognatepriming18 & 30 & Bilingual & 1 & Cognate & 1 & boca & 0 & $\\dots$ \\\\\n",
       "\t2 & cognatepriming18 & 30 & Bilingual & 1 & Cognate & 2 & boca & 0 & $\\dots$ \\\\\n",
       "\t3 & cognatepriming18 & 30 & Bilingual & 1 & Cognate & 3 & boca & 0 & $\\dots$ \\\\\n",
       "\t4 & cognatepriming18 & 30 & Bilingual & 1 & Cognate & 4 & boca & 0 & $\\dots$ \\\\\n",
       "\t5 & cognatepriming18 & 30 & Bilingual & 1 & Cognate & 5 & boca & 0 & $\\dots$ \\\\\n",
       "\t6 & cognatepriming18 & 30 & Bilingual & 1 & Cognate & 6 & boca & 0 & $\\dots$ \\\\\n",
       "\t7 & cognatepriming18 & 30 & Bilingual & 1 & Cognate & 7 & boca & 0 & $\\dots$ \\\\\n",
       "\t8 & cognatepriming18 & 30 & Bilingual & 1 & Cognate & 8 & boca & 0 & $\\dots$ \\\\\n",
       "\t9 & cognatepriming18 & 30 & Bilingual & 1 & Cognate & 9 & boca & 0 & $\\dots$ \\\\\n",
       "\t10 & cognatepriming18 & 30 & Bilingual & 1 & Cognate & 10 & boca & 0 & $\\dots$ \\\\\n",
       "\\end{tabular}\n"
      ],
      "text/plain": [
       "\u001b[1m10×9 DataFrame\u001b[0m\n",
       "\u001b[1m Row \u001b[0m│\u001b[1m participant      \u001b[0m\u001b[1m age   \u001b[0m\u001b[1m group     \u001b[0m\u001b[1m trial \u001b[0m\u001b[1m condition \u001b[0m\u001b[1m time  \u001b[0m\u001b[1m target  \u001b[0m\u001b[1m f\u001b[0m ⋯\n",
       "\u001b[1m     \u001b[0m│\u001b[90m String           \u001b[0m\u001b[90m Int64 \u001b[0m\u001b[90m String    \u001b[0m\u001b[90m Int64 \u001b[0m\u001b[90m String?   \u001b[0m\u001b[90m Int64 \u001b[0m\u001b[90m String? \u001b[0m\u001b[90m I\u001b[0m ⋯\n",
       "─────┼──────────────────────────────────────────────────────────────────────────\n",
       "   1 │ cognatepriming18     30  Bilingual      1  Cognate        1  boca       ⋯\n",
       "   2 │ cognatepriming18     30  Bilingual      1  Cognate        2  boca\n",
       "   3 │ cognatepriming18     30  Bilingual      1  Cognate        3  boca\n",
       "   4 │ cognatepriming18     30  Bilingual      1  Cognate        4  boca\n",
       "   5 │ cognatepriming18     30  Bilingual      1  Cognate        5  boca       ⋯\n",
       "   6 │ cognatepriming18     30  Bilingual      1  Cognate        6  boca\n",
       "   7 │ cognatepriming18     30  Bilingual      1  Cognate        7  boca\n",
       "   8 │ cognatepriming18     30  Bilingual      1  Cognate        8  boca\n",
       "   9 │ cognatepriming18     30  Bilingual      1  Cognate        9  boca       ⋯\n",
       "  10 │ cognatepriming18     30  Bilingual      1  Cognate       10  boca\n",
       "\u001b[31m                                                               2 columns omitted\u001b[0m"
      ]
     },
     "execution_count": 188,
     "metadata": {},
     "output_type": "execute_result"
    }
   ],
   "source": [
    "colnames = [\"participant\", \"age\", \"group\", \"trial\", \"condition\", \"time\", \"target\", \"fixation\", \"n\"]\n",
    "raw = CSV.read(\n",
    "    \"../Results/gaze_time_bins.csv\",\n",
    "    DataFrame,\n",
    "    missingstrings = [\"NA\"],\n",
    "    datarow = 2,\n",
    "    header = colnames\n",
    ") \n",
    "first(raw, 10)"
   ]
  },
  {
   "cell_type": "markdown",
   "metadata": {},
   "source": [
    "Recode variables (`age`, `group` and `condition` should be categorical) and calculate the empirical logit of target fixations using formula (\\ref{logit}, Barr 2008). This transformation allows us to compute the probability of target fixation within each time bin while accounting for the bounded range {0, 1} of this variable in our models."
   ]
  },
  {
   "cell_type": "markdown",
   "metadata": {},
   "source": [
    "$\n",
    "\\begin{equation} \\tag{2}\n",
    "elogit(y) = \\frac{log(y + 1/2)}{N-y + 1/2}\n",
    "\\end{equation}\n",
    "$"
   ]
  },
  {
   "cell_type": "code",
   "execution_count": 191,
   "metadata": {},
   "outputs": [
    {
     "data": {
      "text/html": [
       "<table class=\"data-frame\"><thead><tr><th></th><th>variable</th><th>mean</th><th>min</th><th>median</th><th>max</th><th>nmissing</th></tr><tr><th></th><th>Symbol</th><th>Union…</th><th>Any</th><th>Union…</th><th>Any</th><th>Int64</th></tr></thead><tbody><p>8 rows × 7 columns (omitted printing of 1 columns)</p><tr><th>1</th><td>participant</td><td></td><td>cognatepriming18</td><td></td><td>cognatepriming82</td><td>0</td></tr><tr><th>2</th><td>trial</td><td>16.4849</td><td>1</td><td>16.0</td><td>32</td><td>0</td></tr><tr><th>3</th><td>target</td><td></td><td>abella</td><td></td><td>zanahoria</td><td>0</td></tr><tr><th>4</th><td>condition</td><td></td><td>Cognate</td><td></td><td>Unrelated</td><td>0</td></tr><tr><th>5</th><td>group</td><td></td><td>Bilingual</td><td></td><td>Monolingual</td><td>0</td></tr><tr><th>6</th><td>fixation_sum</td><td>94.0324</td><td>0</td><td>98.0</td><td>241</td><td>0</td></tr><tr><th>7</th><td>n_sum</td><td>239.708</td><td>209</td><td>240.0</td><td>241</td><td>0</td></tr><tr><th>8</th><td>logit</td><td>0.0784703</td><td>-0.00310133</td><td>0.0321393</td><td>10.9737</td><td>0</td></tr></tbody></table>"
      ],
      "text/latex": [
       "\\begin{tabular}{r|ccccccc}\n",
       "\t& variable & mean & min & median & max & nmissing & \\\\\n",
       "\t\\hline\n",
       "\t& Symbol & Union… & Any & Union… & Any & Int64 & \\\\\n",
       "\t\\hline\n",
       "\t1 & participant &  & cognatepriming18 &  & cognatepriming82 & 0 & $\\dots$ \\\\\n",
       "\t2 & trial & 16.4849 & 1 & 16.0 & 32 & 0 & $\\dots$ \\\\\n",
       "\t3 & target &  & abella &  & zanahoria & 0 & $\\dots$ \\\\\n",
       "\t4 & condition &  & Cognate &  & Unrelated & 0 & $\\dots$ \\\\\n",
       "\t5 & group &  & Bilingual &  & Monolingual & 0 & $\\dots$ \\\\\n",
       "\t6 & fixation\\_sum & 94.0324 & 0 & 98.0 & 241 & 0 & $\\dots$ \\\\\n",
       "\t7 & n\\_sum & 239.708 & 209 & 240.0 & 241 & 0 & $\\dots$ \\\\\n",
       "\t8 & logit & 0.0784703 & -0.00310133 & 0.0321393 & 10.9737 & 0 & $\\dots$ \\\\\n",
       "\\end{tabular}\n"
      ],
      "text/plain": [
       "\u001b[1m8×7 DataFrame\u001b[0m\n",
       "\u001b[1m Row \u001b[0m│\u001b[1m variable     \u001b[0m\u001b[1m mean      \u001b[0m\u001b[1m min              \u001b[0m\u001b[1m median    \u001b[0m\u001b[1m max              \u001b[0m\u001b[1m\u001b[0m ⋯\n",
       "\u001b[1m     \u001b[0m│\u001b[90m Symbol       \u001b[0m\u001b[90m Union…    \u001b[0m\u001b[90m Any              \u001b[0m\u001b[90m Union…    \u001b[0m\u001b[90m Any              \u001b[0m\u001b[90m\u001b[0m ⋯\n",
       "─────┼──────────────────────────────────────────────────────────────────────────\n",
       "   1 │ participant  \u001b[90m           \u001b[0m cognatepriming18 \u001b[90m           \u001b[0m cognatepriming82  ⋯\n",
       "   2 │ trial         16.4849    1                 16.0       32\n",
       "   3 │ target       \u001b[90m           \u001b[0m abella           \u001b[90m           \u001b[0m zanahoria\n",
       "   4 │ condition    \u001b[90m           \u001b[0m Cognate          \u001b[90m           \u001b[0m Unrelated\n",
       "   5 │ group        \u001b[90m           \u001b[0m Bilingual        \u001b[90m           \u001b[0m Monolingual       ⋯\n",
       "   6 │ fixation_sum  94.0324    0                 98.0       241\n",
       "   7 │ n_sum         239.708    209               240.0      241\n",
       "   8 │ logit         0.0784703  -0.00310133       0.0321393  10.9737\n",
       "\u001b[31m                                                               2 columns omitted\u001b[0m"
      ]
     },
     "execution_count": 191,
     "metadata": {},
     "output_type": "execute_result"
    }
   ],
   "source": [
    "logit(y, n) = @. log(y .+ 0.5) ./ (n-y .+ 0.5)\n",
    "# recode variables\n",
    "d = @linq raw |>\n",
    "    where(:time .<= 20) |>\n",
    "    groupby([:participant, :trial, :target, :condition, :group])\n",
    "d = combine(\n",
    "    d,\n",
    "    :fixation => sum,\n",
    "    :n => sum\n",
    ")\n",
    "d.logit = logit(d1.fixation_sum, d1.n_sum)\n",
    "d.condition = categorical(d.condition)\n",
    "d.group = categorical(d.group)\n",
    "d = dropmissing(d)\n",
    "describe(d)"
   ]
  },
  {
   "cell_type": "markdown",
   "metadata": {},
   "source": [
    "## Fit models"
   ]
  },
  {
   "cell_type": "code",
   "execution_count": 192,
   "metadata": {},
   "outputs": [
    {
     "data": {
      "text/plain": [
       "FormulaTerm\n",
       "Response:\n",
       "  logit(unknown)\n",
       "Predictors:\n",
       "  group(unknown)\n",
       "  condition(unknown)\n",
       "  (condition,participant)->(1 + condition) | participant\n",
       "  (condition,target)->(1 + condition) | target\n",
       "  group(unknown) & condition(unknown)"
      ]
     },
     "execution_count": 192,
     "metadata": {},
     "output_type": "execute_result"
    }
   ],
   "source": [
    "# define formulas\n",
    "f0 = @formula logit ~ 1 + (1 | participant) + (1 | target)\n",
    "f1 = @formula logit ~ group + (1 | participant) + (1 + group | target)\n",
    "f2 = @formula logit ~ group * condition + (1 + condition | participant) + (1 + condition | target)"
   ]
  },
  {
   "cell_type": "code",
   "execution_count": 193,
   "metadata": {},
   "outputs": [
    {
     "data": {
      "text/plain": [
       "Dict{Symbol,ContrastsCoding{Array{Float64,2}}} with 2 entries:\n",
       "  :group     => ContrastsCoding{Array{Float64,2}}([-0.5; 0.5], [\"Monolingual\", …\n",
       "  :condition => ContrastsCoding{Array{Float64,2}}([0.333333 0.333333; 0.333333 …"
      ]
     },
     "execution_count": 193,
     "metadata": {},
     "output_type": "execute_result"
    }
   ],
   "source": [
    "# define contrasts\n",
    "group_contr = Matrix([-1/2 1/2]')\n",
    "condition_contr = Matrix([1/3 1/3 -1/3; 1/3 -1/3 0]')\n",
    "contr = Dict(\n",
    "    :group => StatsModels.ContrastsCoding(group_contr, levels = [\"Monolingual\", \"Bilingual\"]),\n",
    "    :condition => StatsModels.ContrastsCoding(condition_contr, levels = [\"Cognate\", \"Non-cognate\", \"Unrelated\"]),\n",
    ")"
   ]
  },
  {
   "cell_type": "markdown",
   "metadata": {},
   "source": [
    "### Fit models"
   ]
  },
  {
   "cell_type": "code",
   "execution_count": 194,
   "metadata": {},
   "outputs": [
    {
     "data": {
      "text/plain": [
       "Linear mixed model fit by maximum likelihood\n",
       " logit ~ 1 + (1 | participant) + (1 | target)\n",
       "   logLik   -2 logLik     AIC       AICc        BIC    \n",
       " -1773.2267  3546.4535  3554.4535  3554.4751  3576.5452\n",
       "\n",
       "Variance components:\n",
       "               Column    Variance  Std.Dev. \n",
       "target      (Intercept)  0.0000000 0.0000000\n",
       "participant (Intercept)  0.0008434 0.0290414\n",
       "Residual                 0.3973535 0.6303598\n",
       " Number of obs: 1850; levels of grouping factors: 61, 59\n",
       "\n",
       "  Fixed-effects parameters:\n",
       "──────────────────────────────────────────────────\n",
       "                 Coef.  Std. Error     z  Pr(>|z|)\n",
       "──────────────────────────────────────────────────\n",
       "(Intercept)  0.0784553   0.0151432  5.18     <1e-6\n",
       "──────────────────────────────────────────────────"
      ]
     },
     "execution_count": 194,
     "metadata": {},
     "output_type": "execute_result"
    }
   ],
   "source": [
    "m0 = fit(MixedModel, f0, d, REML = false)"
   ]
  },
  {
   "cell_type": "code",
   "execution_count": 195,
   "metadata": {},
   "outputs": [
    {
     "data": {
      "text/plain": [
       "Linear mixed model fit by maximum likelihood\n",
       " logit ~ 1 + group + (1 | participant) + (1 + group | target)\n",
       "   logLik   -2 logLik     AIC       AICc        BIC    \n",
       " -1770.6394  3541.2788  3555.2788  3555.3396  3593.9393\n",
       "\n",
       "Variance components:\n",
       "                 Column       Variance  Std.Dev.   Corr.\n",
       "target      (Intercept)       0.0015379 0.0392160\n",
       "            group: Bilingual  0.0069101 0.0831269 -1.00\n",
       "participant (Intercept)       0.0004276 0.0206775\n",
       "Residual                      0.3932846 0.6271241\n",
       " Number of obs: 1850; levels of grouping factors: 61, 59\n",
       "\n",
       "  Fixed-effects parameters:\n",
       "─────────────────────────────────────────────────────────\n",
       "                       Coef.  Std. Error      z  Pr(>|z|)\n",
       "─────────────────────────────────────────────────────────\n",
       "(Intercept)        0.0734121   0.0159031   4.62    <1e-5\n",
       "group: Bilingual  -0.0501084   0.0320064  -1.57    0.1174\n",
       "─────────────────────────────────────────────────────────"
      ]
     },
     "execution_count": 195,
     "metadata": {},
     "output_type": "execute_result"
    }
   ],
   "source": [
    "m1 = fit(MixedModel, f1, d, REML = false, contrasts = contr)"
   ]
  },
  {
   "cell_type": "code",
   "execution_count": 196,
   "metadata": {},
   "outputs": [
    {
     "data": {
      "text/plain": [
       "Linear mixed model fit by maximum likelihood\n",
       " logit ~ 1 + group + condition + group & condition + (1 + condition | participant) + (1 + condition | target)\n",
       "   logLik   -2 logLik     AIC       AICc        BIC    \n",
       " -1764.4591  3528.9181  3566.9181  3567.3334  3671.8540\n",
       "\n",
       "Variance components:\n",
       "                    Column          Variance  Std.Dev.   Corr.\n",
       "target      (Intercept)             0.0017575 0.0419226\n",
       "            condition: Non-cognate  0.0279916 0.1673070 -0.42\n",
       "            condition: Unrelated    0.0263799 0.1624188 +0.31 +0.73\n",
       "participant (Intercept)             0.0000000 0.0000000\n",
       "            condition: Non-cognate  0.0406432 0.2016016   NaN\n",
       "            condition: Unrelated    0.0579646 0.2407584   NaN +1.00\n",
       "Residual                            0.3829266 0.6188107\n",
       " Number of obs: 1850; levels of grouping factors: 61, 59\n",
       "\n",
       "  Fixed-effects parameters:\n",
       "────────────────────────────────────────────────────────────────────────────────────\n",
       "                                                  Coef.  Std. Error      z  Pr(>|z|)\n",
       "────────────────────────────────────────────────────────────────────────────────────\n",
       "(Intercept)                                 0.0743985     0.0158639   4.69    <1e-5\n",
       "group: Bilingual                           -0.051191      0.0292815  -1.75    0.0804\n",
       "condition: Non-cognate                     -0.0320623     0.0563048  -0.57    0.5691\n",
       "condition: Unrelated                        0.0715899     0.0739985   0.97    0.3333\n",
       "group: Bilingual & condition: Non-cognate   0.000196401   0.102931    0.00    0.9985\n",
       "group: Bilingual & condition: Unrelated    -0.133266      0.13987    -0.95    0.3407\n",
       "────────────────────────────────────────────────────────────────────────────────────"
      ]
     },
     "execution_count": 196,
     "metadata": {},
     "output_type": "execute_result"
    }
   ],
   "source": [
    "m2 = fit(MixedModel, f2, d, REML = false, contrasts = contr)"
   ]
  },
  {
   "cell_type": "markdown",
   "metadata": {},
   "source": [
    "## Compare models"
   ]
  },
  {
   "cell_type": "code",
   "execution_count": 197,
   "metadata": {},
   "outputs": [
    {
     "name": "stderr",
     "output_type": "stream",
     "text": [
      "WARNING: redefinition of constant mods. This may fail, cause incorrect answers, or produce other errors.\n"
     ]
    },
    {
     "data": {
      "text/html": [
       "<table class=\"data-frame\"><thead><tr><th></th><th>dof</th><th>deviance</th><th>AIC</th><th>AICc</th><th>BIC</th></tr><tr><th></th><th>Int64</th><th>Float64</th><th>Float64</th><th>Float64</th><th>Float64</th></tr></thead><tbody><p>3 rows × 5 columns</p><tr><th>1</th><td>4</td><td>3546.45</td><td>3554.45</td><td>3554.48</td><td>3576.55</td></tr><tr><th>2</th><td>7</td><td>3541.28</td><td>3555.28</td><td>3555.34</td><td>3593.94</td></tr><tr><th>3</th><td>19</td><td>3528.92</td><td>3566.92</td><td>3567.33</td><td>3671.85</td></tr></tbody></table>"
      ],
      "text/latex": [
       "\\begin{tabular}{r|ccccc}\n",
       "\t& dof & deviance & AIC & AICc & BIC\\\\\n",
       "\t\\hline\n",
       "\t& Int64 & Float64 & Float64 & Float64 & Float64\\\\\n",
       "\t\\hline\n",
       "\t1 & 4 & 3546.45 & 3554.45 & 3554.48 & 3576.55 \\\\\n",
       "\t2 & 7 & 3541.28 & 3555.28 & 3555.34 & 3593.94 \\\\\n",
       "\t3 & 19 & 3528.92 & 3566.92 & 3567.33 & 3671.85 \\\\\n",
       "\\end{tabular}\n"
      ],
      "text/plain": [
       "\u001b[1m3×5 DataFrame\u001b[0m\n",
       "\u001b[1m Row \u001b[0m│\u001b[1m dof   \u001b[0m\u001b[1m deviance \u001b[0m\u001b[1m AIC     \u001b[0m\u001b[1m AICc    \u001b[0m\u001b[1m BIC     \u001b[0m\n",
       "\u001b[1m     \u001b[0m│\u001b[90m Int64 \u001b[0m\u001b[90m Float64  \u001b[0m\u001b[90m Float64 \u001b[0m\u001b[90m Float64 \u001b[0m\u001b[90m Float64 \u001b[0m\n",
       "─────┼────────────────────────────────────────────\n",
       "   1 │     4   3546.45  3554.45  3554.48  3576.55\n",
       "   2 │     7   3541.28  3555.28  3555.34  3593.94\n",
       "   3 │    19   3528.92  3566.92  3567.33  3671.85"
      ]
     },
     "execution_count": 197,
     "metadata": {},
     "output_type": "execute_result"
    }
   ],
   "source": [
    "const mods = [m0, m1, m2];\n",
    "\n",
    "gofsumry = DataFrame(\n",
    "    dof = dof.(mods),\n",
    "    deviance = deviance.(mods),\n",
    "    AIC = aic.(mods),\n",
    "    AICc = aicc.(mods),\n",
    "    BIC = bic.(mods)\n",
    ")"
   ]
  },
  {
   "cell_type": "markdown",
   "metadata": {},
   "source": [
    "## Diagnostics"
   ]
  },
  {
   "cell_type": "code",
   "execution_count": 198,
   "metadata": {},
   "outputs": [
    {
     "data": {
      "text/plain": [
       "Variance components:\n",
       "                    Column          Variance  Std.Dev.   Corr.\n",
       "target      (Intercept)             0.0017575 0.0419226\n",
       "            condition: Non-cognate  0.0279916 0.1673070 -0.42\n",
       "            condition: Unrelated    0.0263799 0.1624188 +0.31 +0.73\n",
       "participant (Intercept)             0.0000000 0.0000000\n",
       "            condition: Non-cognate  0.0406432 0.2016016   NaN\n",
       "            condition: Unrelated    0.0579646 0.2407584   NaN +1.00\n",
       "Residual                            0.3829266 0.6188107\n"
      ]
     },
     "execution_count": 198,
     "metadata": {},
     "output_type": "execute_result"
    }
   ],
   "source": [
    "VarCorr(m2)"
   ]
  },
  {
   "cell_type": "code",
   "execution_count": 199,
   "metadata": {},
   "outputs": [
    {
     "data": {
      "text/html": [
       "<table class=\"data-frame\"><thead><tr><th></th><th>target</th><th>participant</th></tr><tr><th></th><th>Float64</th><th>Float64</th></tr></thead><tbody><p>3 rows × 2 columns</p><tr><th>1</th><td>0.579164</td><td>1.0</td></tr><tr><th>2</th><td>1.0</td><td>1.0</td></tr><tr><th>3</th><td>1.0</td><td>1.0</td></tr></tbody></table>"
      ],
      "text/latex": [
       "\\begin{tabular}{r|cc}\n",
       "\t& target & participant\\\\\n",
       "\t\\hline\n",
       "\t& Float64 & Float64\\\\\n",
       "\t\\hline\n",
       "\t1 & 0.579164 & 1.0 \\\\\n",
       "\t2 & 1.0 & 1.0 \\\\\n",
       "\t3 & 1.0 & 1.0 \\\\\n",
       "\\end{tabular}\n"
      ],
      "text/plain": [
       "\u001b[1m3×2 DataFrame\u001b[0m\n",
       "\u001b[1m Row \u001b[0m│\u001b[1m target   \u001b[0m\u001b[1m participant \u001b[0m\n",
       "\u001b[1m     \u001b[0m│\u001b[90m Float64  \u001b[0m\u001b[90m Float64     \u001b[0m\n",
       "─────┼───────────────────────\n",
       "   1 │ 0.579164          1.0\n",
       "   2 │ 1.0               1.0\n",
       "   3 │ 1.0               1.0"
      ]
     },
     "execution_count": 199,
     "metadata": {},
     "output_type": "execute_result"
    }
   ],
   "source": [
    "DataFrame(m2.rePCA)"
   ]
  },
  {
   "cell_type": "code",
   "execution_count": 210,
   "metadata": {},
   "outputs": [
    {
     "data": {
      "text/html": [
       "<table class=\"data-frame\"><thead><tr><th></th><th>variable</th><th>mean</th><th>min</th><th>median</th><th>max</th><th>nmissing</th></tr><tr><th></th><th>Symbol</th><th>Union…</th><th>Any</th><th>Union…</th><th>Any</th><th>Int64</th></tr></thead><tbody><p>11 rows × 7 columns (omitted printing of 1 columns)</p><tr><th>1</th><td>participant</td><td></td><td>cognatepriming18</td><td></td><td>cognatepriming82</td><td>0</td></tr><tr><th>2</th><td>trial</td><td>16.4849</td><td>1</td><td>16.0</td><td>32</td><td>0</td></tr><tr><th>3</th><td>target</td><td></td><td>abella</td><td></td><td>zanahoria</td><td>0</td></tr><tr><th>4</th><td>condition</td><td></td><td>Cognate</td><td></td><td>Unrelated</td><td>0</td></tr><tr><th>5</th><td>group</td><td></td><td>Bilingual</td><td></td><td>Monolingual</td><td>0</td></tr><tr><th>6</th><td>fixation_sum</td><td>94.0324</td><td>0</td><td>98.0</td><td>241</td><td>0</td></tr><tr><th>7</th><td>n_sum</td><td>239.708</td><td>209</td><td>240.0</td><td>241</td><td>0</td></tr><tr><th>8</th><td>logit</td><td>0.0784703</td><td>-0.00310133</td><td>0.0321393</td><td>10.9737</td><td>0</td></tr><tr><th>9</th><td>logit_pred</td><td>0.0784703</td><td>-0.138991</td><td>0.051663</td><td>0.845005</td><td>0</td></tr><tr><th>10</th><td>prob</td><td>0.511984</td><td>0.499225</td><td>0.508034</td><td>0.999983</td><td>0</td></tr><tr><th>11</th><td>prod_pred</td><td>0.519552</td><td>0.465308</td><td>0.512913</td><td>0.699518</td><td>0</td></tr></tbody></table>"
      ],
      "text/latex": [
       "\\begin{tabular}{r|ccccccc}\n",
       "\t& variable & mean & min & median & max & nmissing & \\\\\n",
       "\t\\hline\n",
       "\t& Symbol & Union… & Any & Union… & Any & Int64 & \\\\\n",
       "\t\\hline\n",
       "\t1 & participant &  & cognatepriming18 &  & cognatepriming82 & 0 & $\\dots$ \\\\\n",
       "\t2 & trial & 16.4849 & 1 & 16.0 & 32 & 0 & $\\dots$ \\\\\n",
       "\t3 & target &  & abella &  & zanahoria & 0 & $\\dots$ \\\\\n",
       "\t4 & condition &  & Cognate &  & Unrelated & 0 & $\\dots$ \\\\\n",
       "\t5 & group &  & Bilingual &  & Monolingual & 0 & $\\dots$ \\\\\n",
       "\t6 & fixation\\_sum & 94.0324 & 0 & 98.0 & 241 & 0 & $\\dots$ \\\\\n",
       "\t7 & n\\_sum & 239.708 & 209 & 240.0 & 241 & 0 & $\\dots$ \\\\\n",
       "\t8 & logit & 0.0784703 & -0.00310133 & 0.0321393 & 10.9737 & 0 & $\\dots$ \\\\\n",
       "\t9 & logit\\_pred & 0.0784703 & -0.138991 & 0.051663 & 0.845005 & 0 & $\\dots$ \\\\\n",
       "\t10 & prob & 0.511984 & 0.499225 & 0.508034 & 0.999983 & 0 & $\\dots$ \\\\\n",
       "\t11 & prod\\_pred & 0.519552 & 0.465308 & 0.512913 & 0.699518 & 0 & $\\dots$ \\\\\n",
       "\\end{tabular}\n"
      ],
      "text/plain": [
       "\u001b[1m11×7 DataFrame\u001b[0m\n",
       "\u001b[1m Row \u001b[0m│\u001b[1m variable     \u001b[0m\u001b[1m mean      \u001b[0m\u001b[1m min              \u001b[0m\u001b[1m median    \u001b[0m\u001b[1m max              \u001b[0m\u001b[1m\u001b[0m ⋯\n",
       "\u001b[1m     \u001b[0m│\u001b[90m Symbol       \u001b[0m\u001b[90m Union…    \u001b[0m\u001b[90m Any              \u001b[0m\u001b[90m Union…    \u001b[0m\u001b[90m Any              \u001b[0m\u001b[90m\u001b[0m ⋯\n",
       "─────┼──────────────────────────────────────────────────────────────────────────\n",
       "   1 │ participant  \u001b[90m           \u001b[0m cognatepriming18 \u001b[90m           \u001b[0m cognatepriming82  ⋯\n",
       "   2 │ trial         16.4849    1                 16.0       32\n",
       "   3 │ target       \u001b[90m           \u001b[0m abella           \u001b[90m           \u001b[0m zanahoria\n",
       "   4 │ condition    \u001b[90m           \u001b[0m Cognate          \u001b[90m           \u001b[0m Unrelated\n",
       "   5 │ group        \u001b[90m           \u001b[0m Bilingual        \u001b[90m           \u001b[0m Monolingual       ⋯\n",
       "   6 │ fixation_sum  94.0324    0                 98.0       241\n",
       "   7 │ n_sum         239.708    209               240.0      241\n",
       "   8 │ logit         0.0784703  -0.00310133       0.0321393  10.9737\n",
       "   9 │ logit_pred    0.0784703  -0.138991         0.051663   0.845005          ⋯\n",
       "  10 │ prob          0.511984   0.499225          0.508034   0.999983\n",
       "  11 │ prod_pred     0.519552   0.465308          0.512913   0.699518\n",
       "\u001b[31m                                                               2 columns omitted\u001b[0m"
      ]
     },
     "execution_count": 210,
     "metadata": {},
     "output_type": "execute_result"
    }
   ],
   "source": [
    "logitprob(x) = exp.(x) ./ (1 + exp.(x))\n",
    "\n",
    "d.logit_pred = predict(m2)\n",
    "d.prob = logitprob.(d.logit)\n",
    "d.prod_pred = logitprob.(d.logit_pred)\n",
    "describe(d)"
   ]
  },
  {
   "cell_type": "code",
   "execution_count": 228,
   "metadata": {},
   "outputs": [
    {
     "data": {
      "image/svg+xml": [
       "<?xml version=\"1.0\" encoding=\"utf-8\"?>\n",
       "<svg xmlns=\"http://www.w3.org/2000/svg\" xmlns:xlink=\"http://www.w3.org/1999/xlink\" width=\"600\" height=\"400\" viewBox=\"0 0 2400 1600\">\n",
       "<defs>\n",
       "  <clipPath id=\"clip230\">\n",
       "    <rect x=\"0\" y=\"0\" width=\"2400\" height=\"1600\"/>\n",
       "  </clipPath>\n",
       "</defs>\n",
       "<path clip-path=\"url(#clip230)\" d=\"\n",
       "M0 1600 L2400 1600 L2400 0 L0 0  Z\n",
       "  \" fill=\"#ffffff\" fill-rule=\"evenodd\" fill-opacity=\"1\"/>\n",
       "<defs>\n",
       "  <clipPath id=\"clip231\">\n",
       "    <rect x=\"480\" y=\"0\" width=\"1681\" height=\"1600\"/>\n",
       "  </clipPath>\n",
       "</defs>\n",
       "<path clip-path=\"url(#clip230)\" d=\"\n",
       "M175.445 1423.18 L2352.76 1423.18 L2352.76 123.472 L175.445 123.472  Z\n",
       "  \" fill=\"#ffffff\" fill-rule=\"evenodd\" fill-opacity=\"1\"/>\n",
       "<defs>\n",
       "  <clipPath id=\"clip232\">\n",
       "    <rect x=\"175\" y=\"123\" width=\"2178\" height=\"1301\"/>\n",
       "  </clipPath>\n",
       "</defs>\n",
       "<polyline clip-path=\"url(#clip232)\" style=\"stroke:#000000; stroke-width:2; stroke-opacity:0.1; fill:none\" points=\"\n",
       "  328.87,1423.18 328.87,123.472 \n",
       "  \"/>\n",
       "<polyline clip-path=\"url(#clip232)\" style=\"stroke:#000000; stroke-width:2; stroke-opacity:0.1; fill:none\" points=\"\n",
       "  640.412,1423.18 640.412,123.472 \n",
       "  \"/>\n",
       "<polyline clip-path=\"url(#clip232)\" style=\"stroke:#000000; stroke-width:2; stroke-opacity:0.1; fill:none\" points=\"\n",
       "  951.954,1423.18 951.954,123.472 \n",
       "  \"/>\n",
       "<polyline clip-path=\"url(#clip232)\" style=\"stroke:#000000; stroke-width:2; stroke-opacity:0.1; fill:none\" points=\"\n",
       "  1263.5,1423.18 1263.5,123.472 \n",
       "  \"/>\n",
       "<polyline clip-path=\"url(#clip232)\" style=\"stroke:#000000; stroke-width:2; stroke-opacity:0.1; fill:none\" points=\"\n",
       "  1575.04,1423.18 1575.04,123.472 \n",
       "  \"/>\n",
       "<polyline clip-path=\"url(#clip232)\" style=\"stroke:#000000; stroke-width:2; stroke-opacity:0.1; fill:none\" points=\"\n",
       "  1886.58,1423.18 1886.58,123.472 \n",
       "  \"/>\n",
       "<polyline clip-path=\"url(#clip232)\" style=\"stroke:#000000; stroke-width:2; stroke-opacity:0.1; fill:none\" points=\"\n",
       "  2198.12,1423.18 2198.12,123.472 \n",
       "  \"/>\n",
       "<polyline clip-path=\"url(#clip230)\" style=\"stroke:#000000; stroke-width:4; stroke-opacity:1; fill:none\" points=\"\n",
       "  175.445,1423.18 2352.76,1423.18 \n",
       "  \"/>\n",
       "<polyline clip-path=\"url(#clip230)\" style=\"stroke:#000000; stroke-width:4; stroke-opacity:1; fill:none\" points=\"\n",
       "  328.87,1423.18 328.87,1407.58 \n",
       "  \"/>\n",
       "<polyline clip-path=\"url(#clip230)\" style=\"stroke:#000000; stroke-width:4; stroke-opacity:1; fill:none\" points=\"\n",
       "  640.412,1423.18 640.412,1407.58 \n",
       "  \"/>\n",
       "<polyline clip-path=\"url(#clip230)\" style=\"stroke:#000000; stroke-width:4; stroke-opacity:1; fill:none\" points=\"\n",
       "  951.954,1423.18 951.954,1407.58 \n",
       "  \"/>\n",
       "<polyline clip-path=\"url(#clip230)\" style=\"stroke:#000000; stroke-width:4; stroke-opacity:1; fill:none\" points=\"\n",
       "  1263.5,1423.18 1263.5,1407.58 \n",
       "  \"/>\n",
       "<polyline clip-path=\"url(#clip230)\" style=\"stroke:#000000; stroke-width:4; stroke-opacity:1; fill:none\" points=\"\n",
       "  1575.04,1423.18 1575.04,1407.58 \n",
       "  \"/>\n",
       "<polyline clip-path=\"url(#clip230)\" style=\"stroke:#000000; stroke-width:4; stroke-opacity:1; fill:none\" points=\"\n",
       "  1886.58,1423.18 1886.58,1407.58 \n",
       "  \"/>\n",
       "<polyline clip-path=\"url(#clip230)\" style=\"stroke:#000000; stroke-width:4; stroke-opacity:1; fill:none\" points=\"\n",
       "  2198.12,1423.18 2198.12,1407.58 \n",
       "  \"/>\n",
       "<path clip-path=\"url(#clip230)\" d=\"M 0 0 M283.152 1467.02 L312.828 1467.02 L312.828 1470.96 L283.152 1470.96 L283.152 1467.02 Z\" fill=\"#000000\" fill-rule=\"evenodd\" fill-opacity=\"1\" /><path clip-path=\"url(#clip230)\" d=\"M 0 0 M318.708 1479.92 L326.347 1479.92 L326.347 1453.55 L318.037 1455.22 L318.037 1450.96 L326.3 1449.29 L330.976 1449.29 L330.976 1479.92 L338.615 1479.92 L338.615 1483.85 L318.708 1483.85 L318.708 1479.92 Z\" fill=\"#000000\" fill-rule=\"evenodd\" fill-opacity=\"1\" /><path clip-path=\"url(#clip230)\" d=\"M 0 0 M343.685 1477.97 L348.569 1477.97 L348.569 1483.85 L343.685 1483.85 L343.685 1477.97 Z\" fill=\"#000000\" fill-rule=\"evenodd\" fill-opacity=\"1\" /><path clip-path=\"url(#clip230)\" d=\"M 0 0 M353.685 1449.29 L372.041 1449.29 L372.041 1453.23 L357.967 1453.23 L357.967 1461.7 Q358.985 1461.35 360.004 1461.19 Q361.022 1461 362.041 1461 Q367.828 1461 371.208 1464.18 Q374.587 1467.35 374.587 1472.76 Q374.587 1478.34 371.115 1481.44 Q367.643 1484.52 361.323 1484.52 Q359.147 1484.52 356.879 1484.15 Q354.634 1483.78 352.226 1483.04 L352.226 1478.34 Q354.31 1479.48 356.532 1480.03 Q358.754 1480.59 361.231 1480.59 Q365.235 1480.59 367.573 1478.48 Q369.911 1476.38 369.911 1472.76 Q369.911 1469.15 367.573 1467.05 Q365.235 1464.94 361.231 1464.94 Q359.356 1464.94 357.481 1465.36 Q355.629 1465.77 353.685 1466.65 L353.685 1449.29 Z\" fill=\"#000000\" fill-rule=\"evenodd\" fill-opacity=\"1\" /><path clip-path=\"url(#clip230)\" d=\"M 0 0 M594.197 1467.02 L623.873 1467.02 L623.873 1470.96 L594.197 1470.96 L594.197 1467.02 Z\" fill=\"#000000\" fill-rule=\"evenodd\" fill-opacity=\"1\" /><path clip-path=\"url(#clip230)\" d=\"M 0 0 M629.752 1479.92 L637.391 1479.92 L637.391 1453.55 L629.081 1455.22 L629.081 1450.96 L637.345 1449.29 L642.021 1449.29 L642.021 1479.92 L649.66 1479.92 L649.66 1483.85 L629.752 1483.85 L629.752 1479.92 Z\" fill=\"#000000\" fill-rule=\"evenodd\" fill-opacity=\"1\" /><path clip-path=\"url(#clip230)\" d=\"M 0 0 M654.729 1477.97 L659.613 1477.97 L659.613 1483.85 L654.729 1483.85 L654.729 1477.97 Z\" fill=\"#000000\" fill-rule=\"evenodd\" fill-opacity=\"1\" /><path clip-path=\"url(#clip230)\" d=\"M 0 0 M674.683 1452.37 Q671.072 1452.37 669.243 1455.94 Q667.437 1459.48 667.437 1466.61 Q667.437 1473.71 669.243 1477.28 Q671.072 1480.82 674.683 1480.82 Q678.317 1480.82 680.122 1477.28 Q681.951 1473.71 681.951 1466.61 Q681.951 1459.48 680.122 1455.94 Q678.317 1452.37 674.683 1452.37 M674.683 1448.67 Q680.493 1448.67 683.548 1453.27 Q686.627 1457.86 686.627 1466.61 Q686.627 1475.33 683.548 1479.94 Q680.493 1484.52 674.683 1484.52 Q668.872 1484.52 665.794 1479.94 Q662.738 1475.33 662.738 1466.61 Q662.738 1457.86 665.794 1453.27 Q668.872 1448.67 674.683 1448.67 Z\" fill=\"#000000\" fill-rule=\"evenodd\" fill-opacity=\"1\" /><path clip-path=\"url(#clip230)\" d=\"M 0 0 M905.623 1467.02 L935.299 1467.02 L935.299 1470.96 L905.623 1470.96 L905.623 1467.02 Z\" fill=\"#000000\" fill-rule=\"evenodd\" fill-opacity=\"1\" /><path clip-path=\"url(#clip230)\" d=\"M 0 0 M950.369 1452.37 Q946.757 1452.37 944.929 1455.94 Q943.123 1459.48 943.123 1466.61 Q943.123 1473.71 944.929 1477.28 Q946.757 1480.82 950.369 1480.82 Q954.003 1480.82 955.808 1477.28 Q957.637 1473.71 957.637 1466.61 Q957.637 1459.48 955.808 1455.94 Q954.003 1452.37 950.369 1452.37 M950.369 1448.67 Q956.179 1448.67 959.234 1453.27 Q962.313 1457.86 962.313 1466.61 Q962.313 1475.33 959.234 1479.94 Q956.179 1484.52 950.369 1484.52 Q944.558 1484.52 941.48 1479.94 Q938.424 1475.33 938.424 1466.61 Q938.424 1457.86 941.48 1453.27 Q944.558 1448.67 950.369 1448.67 Z\" fill=\"#000000\" fill-rule=\"evenodd\" fill-opacity=\"1\" /><path clip-path=\"url(#clip230)\" d=\"M 0 0 M967.382 1477.97 L972.267 1477.97 L972.267 1483.85 L967.382 1483.85 L967.382 1477.97 Z\" fill=\"#000000\" fill-rule=\"evenodd\" fill-opacity=\"1\" /><path clip-path=\"url(#clip230)\" d=\"M 0 0 M977.382 1449.29 L995.739 1449.29 L995.739 1453.23 L981.665 1453.23 L981.665 1461.7 Q982.683 1461.35 983.702 1461.19 Q984.72 1461 985.739 1461 Q991.526 1461 994.905 1464.18 Q998.285 1467.35 998.285 1472.76 Q998.285 1478.34 994.813 1481.44 Q991.341 1484.52 985.021 1484.52 Q982.845 1484.52 980.577 1484.15 Q978.331 1483.78 975.924 1483.04 L975.924 1478.34 Q978.007 1479.48 980.229 1480.03 Q982.452 1480.59 984.929 1480.59 Q988.933 1480.59 991.271 1478.48 Q993.609 1476.38 993.609 1472.76 Q993.609 1469.15 991.271 1467.05 Q988.933 1464.94 984.929 1464.94 Q983.054 1464.94 981.179 1465.36 Q979.327 1465.77 977.382 1466.65 L977.382 1449.29 Z\" fill=\"#000000\" fill-rule=\"evenodd\" fill-opacity=\"1\" /><path clip-path=\"url(#clip230)\" d=\"M 0 0 M1245.01 1452.37 Q1241.4 1452.37 1239.57 1455.94 Q1237.77 1459.48 1237.77 1466.61 Q1237.77 1473.71 1239.57 1477.28 Q1241.4 1480.82 1245.01 1480.82 Q1248.65 1480.82 1250.45 1477.28 Q1252.28 1473.71 1252.28 1466.61 Q1252.28 1459.48 1250.45 1455.94 Q1248.65 1452.37 1245.01 1452.37 M1245.01 1448.67 Q1250.82 1448.67 1253.88 1453.27 Q1256.96 1457.86 1256.96 1466.61 Q1256.96 1475.33 1253.88 1479.94 Q1250.82 1484.52 1245.01 1484.52 Q1239.2 1484.52 1236.12 1479.94 Q1233.07 1475.33 1233.07 1466.61 Q1233.07 1457.86 1236.12 1453.27 Q1239.2 1448.67 1245.01 1448.67 Z\" fill=\"#000000\" fill-rule=\"evenodd\" fill-opacity=\"1\" /><path clip-path=\"url(#clip230)\" d=\"M 0 0 M1262.03 1477.97 L1266.91 1477.97 L1266.91 1483.85 L1262.03 1483.85 L1262.03 1477.97 Z\" fill=\"#000000\" fill-rule=\"evenodd\" fill-opacity=\"1\" /><path clip-path=\"url(#clip230)\" d=\"M 0 0 M1281.98 1452.37 Q1278.37 1452.37 1276.54 1455.94 Q1274.73 1459.48 1274.73 1466.61 Q1274.73 1473.71 1276.54 1477.28 Q1278.37 1480.82 1281.98 1480.82 Q1285.61 1480.82 1287.42 1477.28 Q1289.25 1473.71 1289.25 1466.61 Q1289.25 1459.48 1287.42 1455.94 Q1285.61 1452.37 1281.98 1452.37 M1281.98 1448.67 Q1287.79 1448.67 1290.85 1453.27 Q1293.92 1457.86 1293.92 1466.61 Q1293.92 1475.33 1290.85 1479.94 Q1287.79 1484.52 1281.98 1484.52 Q1276.17 1484.52 1273.09 1479.94 Q1270.04 1475.33 1270.04 1466.61 Q1270.04 1457.86 1273.09 1453.27 Q1276.17 1448.67 1281.98 1448.67 Z\" fill=\"#000000\" fill-rule=\"evenodd\" fill-opacity=\"1\" /><path clip-path=\"url(#clip230)\" d=\"M 0 0 M1557.05 1452.37 Q1553.44 1452.37 1551.61 1455.94 Q1549.81 1459.48 1549.81 1466.61 Q1549.81 1473.71 1551.61 1477.28 Q1553.44 1480.82 1557.05 1480.82 Q1560.69 1480.82 1562.49 1477.28 Q1564.32 1473.71 1564.32 1466.61 Q1564.32 1459.48 1562.49 1455.94 Q1560.69 1452.37 1557.05 1452.37 M1557.05 1448.67 Q1562.86 1448.67 1565.92 1453.27 Q1569 1457.86 1569 1466.61 Q1569 1475.33 1565.92 1479.94 Q1562.86 1484.52 1557.05 1484.52 Q1551.24 1484.52 1548.16 1479.94 Q1545.11 1475.33 1545.11 1466.61 Q1545.11 1457.86 1548.16 1453.27 Q1551.24 1448.67 1557.05 1448.67 Z\" fill=\"#000000\" fill-rule=\"evenodd\" fill-opacity=\"1\" /><path clip-path=\"url(#clip230)\" d=\"M 0 0 M1574.07 1477.97 L1578.95 1477.97 L1578.95 1483.85 L1574.07 1483.85 L1574.07 1477.97 Z\" fill=\"#000000\" fill-rule=\"evenodd\" fill-opacity=\"1\" /><path clip-path=\"url(#clip230)\" d=\"M 0 0 M1584.07 1449.29 L1602.42 1449.29 L1602.42 1453.23 L1588.35 1453.23 L1588.35 1461.7 Q1589.37 1461.35 1590.39 1461.19 Q1591.4 1461 1592.42 1461 Q1598.21 1461 1601.59 1464.18 Q1604.97 1467.35 1604.97 1472.76 Q1604.97 1478.34 1601.5 1481.44 Q1598.02 1484.52 1591.71 1484.52 Q1589.53 1484.52 1587.26 1484.15 Q1585.02 1483.78 1582.61 1483.04 L1582.61 1478.34 Q1584.69 1479.48 1586.91 1480.03 Q1589.14 1480.59 1591.61 1480.59 Q1595.62 1480.59 1597.96 1478.48 Q1600.29 1476.38 1600.29 1472.76 Q1600.29 1469.15 1597.96 1467.05 Q1595.62 1464.94 1591.61 1464.94 Q1589.74 1464.94 1587.86 1465.36 Q1586.01 1465.77 1584.07 1466.65 L1584.07 1449.29 Z\" fill=\"#000000\" fill-rule=\"evenodd\" fill-opacity=\"1\" /><path clip-path=\"url(#clip230)\" d=\"M 0 0 M1858.48 1479.92 L1866.12 1479.92 L1866.12 1453.55 L1857.81 1455.22 L1857.81 1450.96 L1866.07 1449.29 L1870.75 1449.29 L1870.75 1479.92 L1878.39 1479.92 L1878.39 1483.85 L1858.48 1483.85 L1858.48 1479.92 Z\" fill=\"#000000\" fill-rule=\"evenodd\" fill-opacity=\"1\" /><path clip-path=\"url(#clip230)\" d=\"M 0 0 M1883.46 1477.97 L1888.34 1477.97 L1888.34 1483.85 L1883.46 1483.85 L1883.46 1477.97 Z\" fill=\"#000000\" fill-rule=\"evenodd\" fill-opacity=\"1\" /><path clip-path=\"url(#clip230)\" d=\"M 0 0 M1903.41 1452.37 Q1899.8 1452.37 1897.97 1455.94 Q1896.16 1459.48 1896.16 1466.61 Q1896.16 1473.71 1897.97 1477.28 Q1899.8 1480.82 1903.41 1480.82 Q1907.04 1480.82 1908.85 1477.28 Q1910.68 1473.71 1910.68 1466.61 Q1910.68 1459.48 1908.85 1455.94 Q1907.04 1452.37 1903.41 1452.37 M1903.41 1448.67 Q1909.22 1448.67 1912.27 1453.27 Q1915.35 1457.86 1915.35 1466.61 Q1915.35 1475.33 1912.27 1479.94 Q1909.22 1484.52 1903.41 1484.52 Q1897.6 1484.52 1894.52 1479.94 Q1891.46 1475.33 1891.46 1466.61 Q1891.46 1457.86 1894.52 1453.27 Q1897.6 1448.67 1903.41 1448.67 Z\" fill=\"#000000\" fill-rule=\"evenodd\" fill-opacity=\"1\" /><path clip-path=\"url(#clip230)\" d=\"M 0 0 M2170.52 1479.92 L2178.16 1479.92 L2178.16 1453.55 L2169.85 1455.22 L2169.85 1450.96 L2178.11 1449.29 L2182.79 1449.29 L2182.79 1479.92 L2190.43 1479.92 L2190.43 1483.85 L2170.52 1483.85 L2170.52 1479.92 Z\" fill=\"#000000\" fill-rule=\"evenodd\" fill-opacity=\"1\" /><path clip-path=\"url(#clip230)\" d=\"M 0 0 M2195.5 1477.97 L2200.38 1477.97 L2200.38 1483.85 L2195.5 1483.85 L2195.5 1477.97 Z\" fill=\"#000000\" fill-rule=\"evenodd\" fill-opacity=\"1\" /><path clip-path=\"url(#clip230)\" d=\"M 0 0 M2205.5 1449.29 L2223.85 1449.29 L2223.85 1453.23 L2209.78 1453.23 L2209.78 1461.7 Q2210.8 1461.35 2211.81 1461.19 Q2212.83 1461 2213.85 1461 Q2219.64 1461 2223.02 1464.18 Q2226.4 1467.35 2226.4 1472.76 Q2226.4 1478.34 2222.93 1481.44 Q2219.45 1484.52 2213.13 1484.52 Q2210.96 1484.52 2208.69 1484.15 Q2206.44 1483.78 2204.04 1483.04 L2204.04 1478.34 Q2206.12 1479.48 2208.34 1480.03 Q2210.56 1480.59 2213.04 1480.59 Q2217.05 1480.59 2219.38 1478.48 Q2221.72 1476.38 2221.72 1472.76 Q2221.72 1469.15 2219.38 1467.05 Q2217.05 1464.94 2213.04 1464.94 Q2211.17 1464.94 2209.29 1465.36 Q2207.44 1465.77 2205.5 1466.65 L2205.5 1449.29 Z\" fill=\"#000000\" fill-rule=\"evenodd\" fill-opacity=\"1\" /><path clip-path=\"url(#clip230)\" d=\"M 0 0 M1023.89 1508.52 L1064.09 1508.52 L1064.09 1513.93 L1047.22 1513.93 L1047.22 1556.04 L1040.76 1556.04 L1040.76 1513.93 L1023.89 1513.93 L1023.89 1508.52 Z\" fill=\"#000000\" fill-rule=\"evenodd\" fill-opacity=\"1\" /><path clip-path=\"url(#clip230)\" d=\"M 0 0 M1068.23 1520.4 L1074.08 1520.4 L1074.08 1556.04 L1068.23 1556.04 L1068.23 1520.4 M1068.23 1506.52 L1074.08 1506.52 L1074.08 1513.93 L1068.23 1513.93 L1068.23 1506.52 Z\" fill=\"#000000\" fill-rule=\"evenodd\" fill-opacity=\"1\" /><path clip-path=\"url(#clip230)\" d=\"M 0 0 M1107.98 1527.24 Q1110.18 1523.29 1113.23 1521.41 Q1116.29 1519.54 1120.43 1519.54 Q1126 1519.54 1129.02 1523.45 Q1132.04 1527.33 1132.04 1534.53 L1132.04 1556.04 L1126.16 1556.04 L1126.16 1534.72 Q1126.16 1529.59 1124.34 1527.11 Q1122.53 1524.63 1118.8 1524.63 Q1114.25 1524.63 1111.61 1527.65 Q1108.97 1530.68 1108.97 1535.9 L1108.97 1556.04 L1103.08 1556.04 L1103.08 1534.72 Q1103.08 1529.56 1101.27 1527.11 Q1099.45 1524.63 1095.66 1524.63 Q1091.18 1524.63 1088.53 1527.68 Q1085.89 1530.71 1085.89 1535.9 L1085.89 1556.04 L1080 1556.04 L1080 1520.4 L1085.89 1520.4 L1085.89 1525.93 Q1087.9 1522.66 1090.7 1521.1 Q1093.5 1519.54 1097.35 1519.54 Q1101.23 1519.54 1103.94 1521.51 Q1106.68 1523.48 1107.98 1527.24 Z\" fill=\"#000000\" fill-rule=\"evenodd\" fill-opacity=\"1\" /><path clip-path=\"url(#clip230)\" d=\"M 0 0 M1168.68 1536.76 L1168.68 1539.62 L1141.75 1539.62 Q1142.13 1545.67 1145.38 1548.85 Q1148.66 1552 1154.48 1552 Q1157.86 1552 1161.01 1551.17 Q1164.19 1550.35 1167.31 1548.69 L1167.31 1554.23 Q1164.16 1555.57 1160.85 1556.27 Q1157.54 1556.97 1154.13 1556.97 Q1145.6 1556.97 1140.61 1552 Q1135.64 1547.04 1135.64 1538.57 Q1135.64 1529.82 1140.35 1524.69 Q1145.09 1519.54 1153.11 1519.54 Q1160.31 1519.54 1164.48 1524.18 Q1168.68 1528.8 1168.68 1536.76 M1162.82 1535.04 Q1162.76 1530.23 1160.12 1527.37 Q1157.51 1524.5 1153.18 1524.5 Q1148.28 1524.5 1145.32 1527.27 Q1142.39 1530.04 1141.94 1535.07 L1162.82 1535.04 Z\" fill=\"#000000\" fill-rule=\"evenodd\" fill-opacity=\"1\" /><path clip-path=\"url(#clip230)\" d=\"M 0 0 M1221.13 1538.25 Q1221.13 1531.79 1218.46 1528.13 Q1215.82 1524.44 1211.17 1524.44 Q1206.52 1524.44 1203.85 1528.13 Q1201.21 1531.79 1201.21 1538.25 Q1201.21 1544.71 1203.85 1548.4 Q1206.52 1552.07 1211.17 1552.07 Q1215.82 1552.07 1218.46 1548.4 Q1221.13 1544.71 1221.13 1538.25 M1201.21 1525.81 Q1203.05 1522.62 1205.85 1521.1 Q1208.69 1519.54 1212.6 1519.54 Q1219.1 1519.54 1223.14 1524.69 Q1227.21 1529.85 1227.21 1538.25 Q1227.21 1546.65 1223.14 1551.81 Q1219.1 1556.97 1212.6 1556.97 Q1208.69 1556.97 1205.85 1555.44 Q1203.05 1553.88 1201.21 1550.7 L1201.21 1556.04 L1195.32 1556.04 L1195.32 1506.52 L1201.21 1506.52 L1201.21 1525.81 Z\" fill=\"#000000\" fill-rule=\"evenodd\" fill-opacity=\"1\" /><path clip-path=\"url(#clip230)\" d=\"M 0 0 M1233.35 1520.4 L1239.21 1520.4 L1239.21 1556.04 L1233.35 1556.04 L1233.35 1520.4 M1233.35 1506.52 L1239.21 1506.52 L1239.21 1513.93 L1233.35 1513.93 L1233.35 1506.52 Z\" fill=\"#000000\" fill-rule=\"evenodd\" fill-opacity=\"1\" /><path clip-path=\"url(#clip230)\" d=\"M 0 0 M1274.99 1534.53 L1274.99 1556.04 L1269.13 1556.04 L1269.13 1534.72 Q1269.13 1529.66 1267.16 1527.14 Q1265.18 1524.63 1261.24 1524.63 Q1256.49 1524.63 1253.76 1527.65 Q1251.02 1530.68 1251.02 1535.9 L1251.02 1556.04 L1245.13 1556.04 L1245.13 1520.4 L1251.02 1520.4 L1251.02 1525.93 Q1253.12 1522.72 1255.95 1521.13 Q1258.82 1519.54 1262.54 1519.54 Q1268.68 1519.54 1271.83 1523.36 Q1274.99 1527.14 1274.99 1534.53 Z\" fill=\"#000000\" fill-rule=\"evenodd\" fill-opacity=\"1\" /><path clip-path=\"url(#clip230)\" d=\"M 0 0 M1303.85 1521.45 L1303.85 1526.98 Q1301.37 1525.71 1298.7 1525.07 Q1296.02 1524.44 1293.16 1524.44 Q1288.8 1524.44 1286.6 1525.77 Q1284.44 1527.11 1284.44 1529.79 Q1284.44 1531.82 1286 1533 Q1287.56 1534.15 1292.27 1535.2 L1294.27 1535.64 Q1300.51 1536.98 1303.12 1539.43 Q1305.76 1541.85 1305.76 1546.21 Q1305.76 1551.17 1301.82 1554.07 Q1297.9 1556.97 1291.03 1556.97 Q1288.16 1556.97 1285.04 1556.39 Q1281.96 1555.85 1278.52 1554.74 L1278.52 1548.69 Q1281.77 1550.38 1284.92 1551.24 Q1288.07 1552.07 1291.15 1552.07 Q1295.29 1552.07 1297.52 1550.66 Q1299.75 1549.23 1299.75 1546.65 Q1299.75 1544.27 1298.13 1542.99 Q1296.53 1541.72 1291.09 1540.54 L1289.05 1540.07 Q1283.61 1538.92 1281.19 1536.56 Q1278.77 1534.18 1278.77 1530.04 Q1278.77 1525.01 1282.34 1522.27 Q1285.9 1519.54 1292.46 1519.54 Q1295.71 1519.54 1298.57 1520.01 Q1301.44 1520.49 1303.85 1521.45 Z\" fill=\"#000000\" fill-rule=\"evenodd\" fill-opacity=\"1\" /><path clip-path=\"url(#clip230)\" d=\"M 0 0 M1346.7 1506.58 Q1342.43 1513.9 1340.36 1521.06 Q1338.29 1528.23 1338.29 1535.58 Q1338.29 1542.93 1340.36 1550.16 Q1342.46 1557.35 1346.7 1564.64 L1341.6 1564.64 Q1336.83 1557.16 1334.44 1549.93 Q1332.09 1542.71 1332.09 1535.58 Q1332.09 1528.48 1334.44 1521.29 Q1336.8 1514.09 1341.6 1506.58 L1346.7 1506.58 Z\" fill=\"#000000\" fill-rule=\"evenodd\" fill-opacity=\"1\" /><path clip-path=\"url(#clip230)\" d=\"M 0 0 M1367.42 1512.76 Q1362.45 1512.76 1359.94 1517.66 Q1357.45 1522.53 1357.45 1532.33 Q1357.45 1542.1 1359.94 1547 Q1362.45 1551.87 1367.42 1551.87 Q1372.41 1551.87 1374.9 1547 Q1377.41 1542.1 1377.41 1532.33 Q1377.41 1522.53 1374.9 1517.66 Q1372.41 1512.76 1367.42 1512.76 M1367.42 1507.66 Q1375.4 1507.66 1379.61 1514 Q1383.84 1520.3 1383.84 1532.33 Q1383.84 1544.33 1379.61 1550.66 Q1375.4 1556.97 1367.42 1556.97 Q1359.43 1556.97 1355.19 1550.66 Q1350.99 1544.33 1350.99 1532.33 Q1350.99 1520.3 1355.19 1514 Q1359.43 1507.66 1367.42 1507.66 Z\" fill=\"#000000\" fill-rule=\"evenodd\" fill-opacity=\"1\" /><path clip-path=\"url(#clip230)\" d=\"M 0 0 M1390.81 1547.96 L1397.53 1547.96 L1397.53 1556.04 L1390.81 1556.04 L1390.81 1547.96 Z\" fill=\"#000000\" fill-rule=\"evenodd\" fill-opacity=\"1\" /><path clip-path=\"url(#clip230)\" d=\"M 0 0 M1405.61 1550.63 L1416.11 1550.63 L1416.11 1514.38 L1404.69 1516.67 L1404.69 1510.82 L1416.05 1508.52 L1422.48 1508.52 L1422.48 1550.63 L1432.98 1550.63 L1432.98 1556.04 L1405.61 1556.04 L1405.61 1550.63 Z\" fill=\"#000000\" fill-rule=\"evenodd\" fill-opacity=\"1\" /><path clip-path=\"url(#clip230)\" d=\"M 0 0 M1482.57 1521.45 L1482.57 1526.98 Q1480.09 1525.71 1477.42 1525.07 Q1474.74 1524.44 1471.88 1524.44 Q1467.52 1524.44 1465.32 1525.77 Q1463.16 1527.11 1463.16 1529.79 Q1463.16 1531.82 1464.72 1533 Q1466.28 1534.15 1470.99 1535.2 L1472.99 1535.64 Q1479.23 1536.98 1481.84 1539.43 Q1484.48 1541.85 1484.48 1546.21 Q1484.48 1551.17 1480.53 1554.07 Q1476.62 1556.97 1469.74 1556.97 Q1466.88 1556.97 1463.76 1556.39 Q1460.67 1555.85 1457.24 1554.74 L1457.24 1548.69 Q1460.48 1550.38 1463.63 1551.24 Q1466.78 1552.07 1469.87 1552.07 Q1474.01 1552.07 1476.24 1550.66 Q1478.47 1549.23 1478.47 1546.65 Q1478.47 1544.27 1476.84 1542.99 Q1475.25 1541.72 1469.81 1540.54 L1467.77 1540.07 Q1462.33 1538.92 1459.91 1536.56 Q1457.49 1534.18 1457.49 1530.04 Q1457.49 1525.01 1461.06 1522.27 Q1464.62 1519.54 1471.18 1519.54 Q1474.42 1519.54 1477.29 1520.01 Q1480.15 1520.49 1482.57 1521.45 Z\" fill=\"#000000\" fill-rule=\"evenodd\" fill-opacity=\"1\" /><path clip-path=\"url(#clip230)\" d=\"M 0 0 M1489.7 1506.58 L1494.79 1506.58 Q1499.57 1514.09 1501.92 1521.29 Q1504.31 1528.48 1504.31 1535.58 Q1504.31 1542.71 1501.92 1549.93 Q1499.57 1557.16 1494.79 1564.64 L1489.7 1564.64 Q1493.93 1557.35 1496 1550.16 Q1498.1 1542.93 1498.1 1535.58 Q1498.1 1528.23 1496 1521.06 Q1493.93 1513.9 1489.7 1506.58 Z\" fill=\"#000000\" fill-rule=\"evenodd\" fill-opacity=\"1\" /><polyline clip-path=\"url(#clip232)\" style=\"stroke:#000000; stroke-width:2; stroke-opacity:0.1; fill:none\" points=\"\n",
       "  175.445,1361.97 2352.76,1361.97 \n",
       "  \"/>\n",
       "<polyline clip-path=\"url(#clip232)\" style=\"stroke:#000000; stroke-width:2; stroke-opacity:0.1; fill:none\" points=\"\n",
       "  175.445,1098.81 2352.76,1098.81 \n",
       "  \"/>\n",
       "<polyline clip-path=\"url(#clip232)\" style=\"stroke:#000000; stroke-width:2; stroke-opacity:0.1; fill:none\" points=\"\n",
       "  175.445,835.663 2352.76,835.663 \n",
       "  \"/>\n",
       "<polyline clip-path=\"url(#clip232)\" style=\"stroke:#000000; stroke-width:2; stroke-opacity:0.1; fill:none\" points=\"\n",
       "  175.445,572.51 2352.76,572.51 \n",
       "  \"/>\n",
       "<polyline clip-path=\"url(#clip232)\" style=\"stroke:#000000; stroke-width:2; stroke-opacity:0.1; fill:none\" points=\"\n",
       "  175.445,309.358 2352.76,309.358 \n",
       "  \"/>\n",
       "<polyline clip-path=\"url(#clip230)\" style=\"stroke:#000000; stroke-width:4; stroke-opacity:1; fill:none\" points=\"\n",
       "  175.445,1423.18 175.445,123.472 \n",
       "  \"/>\n",
       "<polyline clip-path=\"url(#clip230)\" style=\"stroke:#000000; stroke-width:4; stroke-opacity:1; fill:none\" points=\"\n",
       "  175.445,1361.97 201.573,1361.97 \n",
       "  \"/>\n",
       "<polyline clip-path=\"url(#clip230)\" style=\"stroke:#000000; stroke-width:4; stroke-opacity:1; fill:none\" points=\"\n",
       "  175.445,1098.81 201.573,1098.81 \n",
       "  \"/>\n",
       "<polyline clip-path=\"url(#clip230)\" style=\"stroke:#000000; stroke-width:4; stroke-opacity:1; fill:none\" points=\"\n",
       "  175.445,835.663 201.573,835.663 \n",
       "  \"/>\n",
       "<polyline clip-path=\"url(#clip230)\" style=\"stroke:#000000; stroke-width:4; stroke-opacity:1; fill:none\" points=\"\n",
       "  175.445,572.51 201.573,572.51 \n",
       "  \"/>\n",
       "<polyline clip-path=\"url(#clip230)\" style=\"stroke:#000000; stroke-width:4; stroke-opacity:1; fill:none\" points=\"\n",
       "  175.445,309.358 201.573,309.358 \n",
       "  \"/>\n",
       "<path clip-path=\"url(#clip230)\" d=\"M 0 0 M127.501 1347.77 Q123.89 1347.77 122.061 1351.33 Q120.255 1354.87 120.255 1362 Q120.255 1369.11 122.061 1372.67 Q123.89 1376.21 127.501 1376.21 Q131.135 1376.21 132.941 1372.67 Q134.769 1369.11 134.769 1362 Q134.769 1354.87 132.941 1351.33 Q131.135 1347.77 127.501 1347.77 M127.501 1344.06 Q133.311 1344.06 136.367 1348.67 Q139.445 1353.25 139.445 1362 Q139.445 1370.73 136.367 1375.34 Q133.311 1379.92 127.501 1379.92 Q121.691 1379.92 118.612 1375.34 Q115.556 1370.73 115.556 1362 Q115.556 1353.25 118.612 1348.67 Q121.691 1344.06 127.501 1344.06 Z\" fill=\"#000000\" fill-rule=\"evenodd\" fill-opacity=\"1\" /><path clip-path=\"url(#clip230)\" d=\"M 0 0 M119.538 1112.16 L127.177 1112.16 L127.177 1085.79 L118.867 1087.46 L118.867 1083.2 L127.13 1081.53 L131.806 1081.53 L131.806 1112.16 L139.445 1112.16 L139.445 1116.09 L119.538 1116.09 L119.538 1112.16 Z\" fill=\"#000000\" fill-rule=\"evenodd\" fill-opacity=\"1\" /><path clip-path=\"url(#clip230)\" d=\"M 0 0 M123.126 849.007 L139.445 849.007 L139.445 852.943 L117.501 852.943 L117.501 849.007 Q120.163 846.253 124.746 841.623 Q129.353 836.971 130.533 835.628 Q132.779 833.105 133.658 831.369 Q134.561 829.609 134.561 827.92 Q134.561 825.165 132.617 823.429 Q130.695 821.693 127.593 821.693 Q125.394 821.693 122.941 822.457 Q120.51 823.221 117.732 824.771 L117.732 820.049 Q120.556 818.915 123.01 818.336 Q125.464 817.758 127.501 817.758 Q132.871 817.758 136.066 820.443 Q139.26 823.128 139.26 827.619 Q139.26 829.748 138.45 831.67 Q137.663 833.568 135.556 836.16 Q134.978 836.832 131.876 840.049 Q128.774 843.244 123.126 849.007 Z\" fill=\"#000000\" fill-rule=\"evenodd\" fill-opacity=\"1\" /><path clip-path=\"url(#clip230)\" d=\"M 0 0 M132.316 571.156 Q135.672 571.874 137.547 574.142 Q139.445 576.411 139.445 579.744 Q139.445 584.86 135.927 587.661 Q132.408 590.462 125.927 590.462 Q123.751 590.462 121.436 590.022 Q119.144 589.605 116.691 588.749 L116.691 584.235 Q118.635 585.369 120.95 585.948 Q123.265 586.527 125.788 586.527 Q130.186 586.527 132.478 584.79 Q134.792 583.054 134.792 579.744 Q134.792 576.689 132.64 574.976 Q130.51 573.24 126.691 573.24 L122.663 573.24 L122.663 569.397 L126.876 569.397 Q130.325 569.397 132.154 568.031 Q133.982 566.642 133.982 564.05 Q133.982 561.388 132.084 559.976 Q130.209 558.541 126.691 558.541 Q124.769 558.541 122.57 558.957 Q120.371 559.374 117.732 560.254 L117.732 556.087 Q120.394 555.346 122.709 554.976 Q125.047 554.605 127.107 554.605 Q132.431 554.605 135.533 557.036 Q138.635 559.443 138.635 563.564 Q138.635 566.434 136.992 568.425 Q135.348 570.392 132.316 571.156 Z\" fill=\"#000000\" fill-rule=\"evenodd\" fill-opacity=\"1\" /><path clip-path=\"url(#clip230)\" d=\"M 0 0 M129.862 296.152 L118.056 314.601 L129.862 314.601 L129.862 296.152 M128.635 292.078 L134.515 292.078 L134.515 314.601 L139.445 314.601 L139.445 318.49 L134.515 318.49 L134.515 326.638 L129.862 326.638 L129.862 318.49 L114.26 318.49 L114.26 313.976 L128.635 292.078 Z\" fill=\"#000000\" fill-rule=\"evenodd\" fill-opacity=\"1\" /><path clip-path=\"url(#clip230)\" d=\"M 0 0 M40.4842 1115.4 L40.4842 1108.97 L82.5933 1108.97 L82.5933 1085.83 L88.0042 1085.83 L88.0042 1115.4 L40.4842 1115.4 Z\" fill=\"#000000\" fill-rule=\"evenodd\" fill-opacity=\"1\" /><path clip-path=\"url(#clip230)\" d=\"M 0 0 M56.4621 1067.02 Q56.4621 1071.73 60.1542 1074.47 Q63.8145 1077.21 70.212 1077.21 Q76.6095 1077.21 80.3017 1074.5 Q83.9619 1071.77 83.9619 1067.02 Q83.9619 1062.34 80.2698 1059.61 Q76.5777 1056.87 70.212 1056.87 Q63.8781 1056.87 60.186 1059.61 Q56.4621 1062.34 56.4621 1067.02 M51.4968 1067.02 Q51.4968 1059.38 56.4621 1055.02 Q61.4273 1050.66 70.212 1050.66 Q78.9649 1050.66 83.9619 1055.02 Q88.9272 1059.38 88.9272 1067.02 Q88.9272 1074.69 83.9619 1079.05 Q78.9649 1083.38 70.212 1083.38 Q61.4273 1083.38 56.4621 1079.05 Q51.4968 1074.69 51.4968 1067.02 Z\" fill=\"#000000\" fill-rule=\"evenodd\" fill-opacity=\"1\" /><path clip-path=\"url(#clip230)\" d=\"M 0 0 M69.7664 1021.06 Q63.4007 1021.06 59.8996 1023.71 Q56.3984 1026.32 56.3984 1031.06 Q56.3984 1035.77 59.8996 1038.41 Q63.4007 1041.02 69.7664 1041.02 Q76.1003 1041.02 79.6014 1038.41 Q83.1026 1035.77 83.1026 1031.06 Q83.1026 1026.32 79.6014 1023.71 Q76.1003 1021.06 69.7664 1021.06 M83.58 1015.21 Q92.683 1015.21 97.1071 1019.25 Q101.563 1023.29 101.563 1031.63 Q101.563 1034.72 101.086 1037.46 Q100.64 1040.19 99.6852 1042.77 L93.9879 1042.77 Q95.3884 1040.19 96.0568 1037.68 Q96.7252 1035.16 96.7252 1032.55 Q96.7252 1026.79 93.7015 1023.93 Q90.7096 1021.06 84.6303 1021.06 L81.7339 1021.06 Q84.885 1022.88 86.4446 1025.71 Q88.0042 1028.54 88.0042 1032.49 Q88.0042 1039.05 83.0071 1043.06 Q78.01 1047.07 69.7664 1047.07 Q61.491 1047.07 56.4939 1043.06 Q51.4968 1039.05 51.4968 1032.49 Q51.4968 1028.54 53.0564 1025.71 Q54.616 1022.88 57.7671 1021.06 L52.3562 1021.06 L52.3562 1015.21 L83.58 1015.21 Z\" fill=\"#000000\" fill-rule=\"evenodd\" fill-opacity=\"1\" /><path clip-path=\"url(#clip230)\" d=\"M 0 0 M52.3562 1009.06 L52.3562 1003.21 L88.0042 1003.21 L88.0042 1009.06 L52.3562 1009.06 M38.479 1009.06 L38.479 1003.21 L45.895 1003.21 L45.895 1009.06 L38.479 1009.06 Z\" fill=\"#000000\" fill-rule=\"evenodd\" fill-opacity=\"1\" /><path clip-path=\"url(#clip230)\" d=\"M 0 0 M42.2347 991.272 L52.3562 991.272 L52.3562 979.209 L56.9077 979.209 L56.9077 991.272 L76.2594 991.272 Q80.6199 991.272 81.8613 990.094 Q83.1026 988.885 83.1026 985.224 L83.1026 979.209 L88.0042 979.209 L88.0042 985.224 Q88.0042 992.004 85.4897 994.582 Q82.9434 997.16 76.2594 997.16 L56.9077 997.16 L56.9077 1001.46 L52.3562 1001.46 L52.3562 997.16 L42.2347 997.16 L42.2347 991.272 Z\" fill=\"#000000\" fill-rule=\"evenodd\" fill-opacity=\"1\" /><path clip-path=\"url(#clip230)\" d=\"M 0 0 M56.4621 938.532 Q56.4621 943.243 60.1542 945.98 Q63.8145 948.717 70.212 948.717 Q76.6095 948.717 80.3017 946.012 Q83.9619 943.274 83.9619 938.532 Q83.9619 933.853 80.2698 931.116 Q76.5777 928.379 70.212 928.379 Q63.8781 928.379 60.186 931.116 Q56.4621 933.853 56.4621 938.532 M51.4968 938.532 Q51.4968 930.893 56.4621 926.533 Q61.4273 922.172 70.212 922.172 Q78.9649 922.172 83.9619 926.533 Q88.9272 930.893 88.9272 938.532 Q88.9272 946.203 83.9619 950.563 Q78.9649 954.892 70.212 954.892 Q61.4273 954.892 56.4621 950.563 Q51.4968 946.203 51.4968 938.532 Z\" fill=\"#000000\" fill-rule=\"evenodd\" fill-opacity=\"1\" /><path clip-path=\"url(#clip230)\" d=\"M 0 0 M38.479 897.982 L43.3487 897.982 L43.3487 903.584 Q43.3487 906.735 44.6219 907.977 Q45.895 909.186 49.2052 909.186 L52.3562 909.186 L52.3562 899.542 L56.9077 899.542 L56.9077 909.186 L88.0042 909.186 L88.0042 915.074 L56.9077 915.074 L56.9077 920.676 L52.3562 920.676 L52.3562 915.074 L49.8736 915.074 Q43.9216 915.074 41.2162 912.305 Q38.479 909.536 38.479 903.521 L38.479 897.982 Z\" fill=\"#000000\" fill-rule=\"evenodd\" fill-opacity=\"1\" /><path clip-path=\"url(#clip230)\" d=\"M 0 0 M42.2347 865.326 L52.3562 865.326 L52.3562 853.263 L56.9077 853.263 L56.9077 865.326 L76.2594 865.326 Q80.6199 865.326 81.8613 864.149 Q83.1026 862.939 83.1026 859.279 L83.1026 853.263 L88.0042 853.263 L88.0042 859.279 Q88.0042 866.058 85.4897 868.637 Q82.9434 871.215 76.2594 871.215 L56.9077 871.215 L56.9077 875.511 L52.3562 875.511 L52.3562 871.215 L42.2347 871.215 L42.2347 865.326 Z\" fill=\"#000000\" fill-rule=\"evenodd\" fill-opacity=\"1\" /><path clip-path=\"url(#clip230)\" d=\"M 0 0 M70.0847 830.92 Q70.0847 838.017 71.7079 840.755 Q73.3312 843.492 77.2461 843.492 Q80.3653 843.492 82.2114 841.455 Q84.0256 839.386 84.0256 835.853 Q84.0256 830.983 80.5881 828.055 Q77.1188 825.095 71.3897 825.095 L70.0847 825.095 L70.0847 830.92 M67.6657 819.239 L88.0042 819.239 L88.0042 825.095 L82.5933 825.095 Q85.8398 827.1 87.3994 830.092 Q88.9272 833.084 88.9272 837.413 Q88.9272 842.887 85.8716 846.134 Q82.7843 849.348 77.6281 849.348 Q71.6125 849.348 68.5569 845.338 Q65.5014 841.296 65.5014 833.307 L65.5014 825.095 L64.9285 825.095 Q60.8862 825.095 58.6901 827.769 Q56.4621 830.41 56.4621 835.217 Q56.4621 838.272 57.1941 841.169 Q57.9262 844.065 59.3903 846.738 L53.9795 846.738 Q52.7381 843.524 52.1334 840.5 Q51.4968 837.476 51.4968 834.612 Q51.4968 826.877 55.5072 823.058 Q59.5176 819.239 67.6657 819.239 Z\" fill=\"#000000\" fill-rule=\"evenodd\" fill-opacity=\"1\" /><path clip-path=\"url(#clip230)\" d=\"M 0 0 M57.8307 792.439 Q57.2578 793.426 57.0032 794.603 Q56.7167 795.749 56.7167 797.15 Q56.7167 802.115 59.9632 804.788 Q63.1779 807.43 69.2253 807.43 L88.0042 807.43 L88.0042 813.319 L52.3562 813.319 L52.3562 807.43 L57.8944 807.43 Q54.6479 805.584 53.0883 802.624 Q51.4968 799.664 51.4968 795.431 Q51.4968 794.826 51.5923 794.094 Q51.656 793.362 51.8151 792.471 L57.8307 792.439 Z\" fill=\"#000000\" fill-rule=\"evenodd\" fill-opacity=\"1\" /><path clip-path=\"url(#clip230)\" d=\"M 0 0 M69.7664 763.984 Q63.4007 763.984 59.8996 766.626 Q56.3984 769.236 56.3984 773.978 Q56.3984 778.689 59.8996 781.331 Q63.4007 783.941 69.7664 783.941 Q76.1003 783.941 79.6014 781.331 Q83.1026 778.689 83.1026 773.978 Q83.1026 769.236 79.6014 766.626 Q76.1003 763.984 69.7664 763.984 M83.58 758.128 Q92.683 758.128 97.1071 762.17 Q101.563 766.212 101.563 774.551 Q101.563 777.639 101.086 780.376 Q100.64 783.113 99.6852 785.691 L93.9879 785.691 Q95.3884 783.113 96.0568 780.599 Q96.7252 778.084 96.7252 775.474 Q96.7252 769.713 93.7015 766.849 Q90.7096 763.984 84.6303 763.984 L81.7339 763.984 Q84.885 765.799 86.4446 768.631 Q88.0042 771.464 88.0042 775.411 Q88.0042 781.967 83.0071 785.978 Q78.01 789.988 69.7664 789.988 Q61.491 789.988 56.4939 785.978 Q51.4968 781.967 51.4968 775.411 Q51.4968 771.464 53.0564 768.631 Q54.616 765.799 57.7671 763.984 L52.3562 763.984 L52.3562 758.128 L83.58 758.128 Z\" fill=\"#000000\" fill-rule=\"evenodd\" fill-opacity=\"1\" /><path clip-path=\"url(#clip230)\" d=\"M 0 0 M68.7161 721.493 L71.5806 721.493 L71.5806 748.42 Q77.6281 748.038 80.8109 744.792 Q83.9619 741.513 83.9619 735.689 Q83.9619 732.315 83.1344 729.164 Q82.3069 725.981 80.6518 722.862 L86.1899 722.862 Q87.5267 726.013 88.227 729.323 Q88.9272 732.633 88.9272 736.039 Q88.9272 744.569 83.9619 749.566 Q78.9967 754.531 70.5303 754.531 Q61.7774 754.531 56.6531 749.821 Q51.4968 745.078 51.4968 737.057 Q51.4968 729.864 56.1438 725.695 Q60.7589 721.493 68.7161 721.493 M66.9973 727.35 Q62.1912 727.413 59.3266 730.055 Q56.4621 732.665 56.4621 736.994 Q56.4621 741.895 59.2312 744.855 Q62.0002 747.784 67.0292 748.229 L66.9973 727.35 Z\" fill=\"#000000\" fill-rule=\"evenodd\" fill-opacity=\"1\" /><path clip-path=\"url(#clip230)\" d=\"M 0 0 M42.2347 709.558 L52.3562 709.558 L52.3562 697.495 L56.9077 697.495 L56.9077 709.558 L76.2594 709.558 Q80.6199 709.558 81.8613 708.38 Q83.1026 707.17 83.1026 703.51 L83.1026 697.495 L88.0042 697.495 L88.0042 703.51 Q88.0042 710.29 85.4897 712.868 Q82.9434 715.446 76.2594 715.446 L56.9077 715.446 L56.9077 719.743 L52.3562 719.743 L52.3562 715.446 L42.2347 715.446 L42.2347 709.558 Z\" fill=\"#000000\" fill-rule=\"evenodd\" fill-opacity=\"1\" /><path clip-path=\"url(#clip230)\" d=\"M 0 0 M38.479 652.584 L43.3487 652.584 L43.3487 658.186 Q43.3487 661.337 44.6219 662.579 Q45.895 663.788 49.2052 663.788 L52.3562 663.788 L52.3562 654.144 L56.9077 654.144 L56.9077 663.788 L88.0042 663.788 L88.0042 669.676 L56.9077 669.676 L56.9077 675.278 L52.3562 675.278 L52.3562 669.676 L49.8736 669.676 Q43.9216 669.676 41.2162 666.907 Q38.479 664.138 38.479 658.123 L38.479 652.584 Z\" fill=\"#000000\" fill-rule=\"evenodd\" fill-opacity=\"1\" /><path clip-path=\"url(#clip230)\" d=\"M 0 0 M52.3562 646.442 L52.3562 640.585 L88.0042 640.585 L88.0042 646.442 L52.3562 646.442 M38.479 646.442 L38.479 640.585 L45.895 640.585 L45.895 646.442 L38.479 646.442 Z\" fill=\"#000000\" fill-rule=\"evenodd\" fill-opacity=\"1\" /><path clip-path=\"url(#clip230)\" d=\"M 0 0 M52.3562 604.81 L69.7028 617.7 L88.0042 604.141 L88.0042 611.048 L73.9996 621.424 L88.0042 631.8 L88.0042 638.707 L69.3526 624.862 L52.3562 637.53 L52.3562 630.623 L65.0558 621.17 L52.3562 611.717 L52.3562 604.81 Z\" fill=\"#000000\" fill-rule=\"evenodd\" fill-opacity=\"1\" /><path clip-path=\"url(#clip230)\" d=\"M 0 0 M70.0847 581.798 Q70.0847 588.896 71.7079 591.633 Q73.3312 594.37 77.2461 594.37 Q80.3653 594.37 82.2114 592.333 Q84.0256 590.264 84.0256 586.731 Q84.0256 581.861 80.5881 578.933 Q77.1188 575.973 71.3897 575.973 L70.0847 575.973 L70.0847 581.798 M67.6657 570.117 L88.0042 570.117 L88.0042 575.973 L82.5933 575.973 Q85.8398 577.978 87.3994 580.97 Q88.9272 583.962 88.9272 588.291 Q88.9272 593.765 85.8716 597.012 Q82.7843 600.227 77.6281 600.227 Q71.6125 600.227 68.5569 596.216 Q65.5014 592.174 65.5014 584.185 L65.5014 575.973 L64.9285 575.973 Q60.8862 575.973 58.6901 578.647 Q56.4621 581.289 56.4621 586.095 Q56.4621 589.15 57.1941 592.047 Q57.9262 594.943 59.3903 597.617 L53.9795 597.617 Q52.7381 594.402 52.1334 591.378 Q51.4968 588.354 51.4968 585.49 Q51.4968 577.756 55.5072 573.936 Q59.5176 570.117 67.6657 570.117 Z\" fill=\"#000000\" fill-rule=\"evenodd\" fill-opacity=\"1\" /><path clip-path=\"url(#clip230)\" d=\"M 0 0 M42.2347 558.181 L52.3562 558.181 L52.3562 546.118 L56.9077 546.118 L56.9077 558.181 L76.2594 558.181 Q80.6199 558.181 81.8613 557.003 Q83.1026 555.794 83.1026 552.134 L83.1026 546.118 L88.0042 546.118 L88.0042 552.134 Q88.0042 558.913 85.4897 561.491 Q82.9434 564.069 76.2594 564.069 L56.9077 564.069 L56.9077 568.366 L52.3562 568.366 L52.3562 564.069 L42.2347 564.069 L42.2347 558.181 Z\" fill=\"#000000\" fill-rule=\"evenodd\" fill-opacity=\"1\" /><path clip-path=\"url(#clip230)\" d=\"M 0 0 M52.3562 539.975 L52.3562 534.119 L88.0042 534.119 L88.0042 539.975 L52.3562 539.975 M38.479 539.975 L38.479 534.119 L45.895 534.119 L45.895 539.975 L38.479 539.975 Z\" fill=\"#000000\" fill-rule=\"evenodd\" fill-opacity=\"1\" /><path clip-path=\"url(#clip230)\" d=\"M 0 0 M56.4621 514.162 Q56.4621 518.873 60.1542 521.61 Q63.8145 524.347 70.212 524.347 Q76.6095 524.347 80.3017 521.642 Q83.9619 518.905 83.9619 514.162 Q83.9619 509.483 80.2698 506.746 Q76.5777 504.009 70.212 504.009 Q63.8781 504.009 60.186 506.746 Q56.4621 509.483 56.4621 514.162 M51.4968 514.162 Q51.4968 506.523 56.4621 502.163 Q61.4273 497.802 70.212 497.802 Q78.9649 497.802 83.9619 502.163 Q88.9272 506.523 88.9272 514.162 Q88.9272 521.833 83.9619 526.193 Q78.9649 530.522 70.212 530.522 Q61.4273 530.522 56.4621 526.193 Q51.4968 521.833 51.4968 514.162 Z\" fill=\"#000000\" fill-rule=\"evenodd\" fill-opacity=\"1\" /><path clip-path=\"url(#clip230)\" d=\"M 0 0 M66.4881 462.027 L88.0042 462.027 L88.0042 467.883 L66.679 467.883 Q61.6183 467.883 59.1038 469.857 Q56.5894 471.83 56.5894 475.777 Q56.5894 480.519 59.6131 483.257 Q62.6368 485.994 67.8567 485.994 L88.0042 485.994 L88.0042 491.882 L52.3562 491.882 L52.3562 485.994 L57.8944 485.994 Q54.6797 483.893 53.0883 481.06 Q51.4968 478.196 51.4968 474.472 Q51.4968 468.329 55.3163 465.178 Q59.1038 462.027 66.4881 462.027 Z\" fill=\"#000000\" fill-rule=\"evenodd\" fill-opacity=\"1\" /><path clip-path=\"url(#clip230)\" d=\"M 0 0 M53.4065 433.159 L58.9447 433.159 Q57.6716 435.641 57.035 438.315 Q56.3984 440.988 56.3984 443.853 Q56.3984 448.213 57.7352 450.41 Q59.072 452.574 61.7456 452.574 Q63.7826 452.574 64.9603 451.014 Q66.1061 449.455 67.1565 444.744 L67.6021 442.739 Q68.9389 436.501 71.3897 433.891 Q73.8086 431.249 78.1691 431.249 Q83.1344 431.249 86.0308 435.196 Q88.9272 439.11 88.9272 445.985 Q88.9272 448.85 88.3543 451.969 Q87.8132 455.057 86.6992 458.494 L80.6518 458.494 Q82.3387 455.248 83.198 452.097 Q84.0256 448.945 84.0256 445.858 Q84.0256 441.72 82.6251 439.492 Q81.1929 437.264 78.6147 437.264 Q76.2276 437.264 74.9545 438.888 Q73.6813 440.479 72.5037 445.922 L72.0262 447.959 Q70.8804 453.401 68.5251 455.82 Q66.138 458.239 62.0002 458.239 Q56.9713 458.239 54.2341 454.675 Q51.4968 451.11 51.4968 444.553 Q51.4968 441.307 51.9743 438.442 Q52.4517 435.578 53.4065 433.159 Z\" fill=\"#000000\" fill-rule=\"evenodd\" fill-opacity=\"1\" /><path clip-path=\"url(#clip230)\" d=\"M 0 0 M659.807 12.096 L710.97 12.096 L710.97 18.9825 L689.5 18.9825 L689.5 72.576 L681.277 72.576 L681.277 18.9825 L659.807 18.9825 L659.807 12.096 Z\" fill=\"#000000\" fill-rule=\"evenodd\" fill-opacity=\"1\" /><path clip-path=\"url(#clip230)\" d=\"M 0 0 M725.675 49.7694 Q716.641 49.7694 713.157 51.8354 Q709.674 53.9013 709.674 58.8839 Q709.674 62.8538 712.266 65.2034 Q714.899 67.5124 719.396 67.5124 Q725.594 67.5124 729.32 63.1374 Q733.088 58.7219 733.088 51.4303 L733.088 49.7694 L725.675 49.7694 M740.541 46.6907 L740.541 72.576 L733.088 72.576 L733.088 65.6895 Q730.536 69.8214 726.728 71.8063 Q722.92 73.7508 717.411 73.7508 Q710.443 73.7508 706.311 69.8619 Q702.22 65.9325 702.22 59.3701 Q702.22 51.7138 707.324 47.825 Q712.469 43.9361 722.636 43.9361 L733.088 43.9361 L733.088 43.2069 Q733.088 38.0623 729.685 35.2672 Q726.323 32.4315 720.206 32.4315 Q716.317 32.4315 712.631 33.3632 Q708.944 34.295 705.542 36.1584 L705.542 29.2718 Q709.633 27.692 713.481 26.9223 Q717.33 26.1121 720.976 26.1121 Q730.819 26.1121 735.68 31.2163 Q740.541 36.3204 740.541 46.6907 Z\" fill=\"#000000\" fill-rule=\"evenodd\" fill-opacity=\"1\" /><path clip-path=\"url(#clip230)\" d=\"M 0 0 M774.65 34.1734 Q773.394 33.4443 771.895 33.1202 Q770.437 32.7556 768.655 32.7556 Q762.335 32.7556 758.933 36.8875 Q755.57 40.9789 755.57 48.6757 L755.57 72.576 L748.076 72.576 L748.076 27.2059 L755.57 27.2059 L755.57 34.2544 Q757.92 30.1225 761.687 28.1376 Q765.455 26.1121 770.842 26.1121 Q771.612 26.1121 772.544 26.2337 Q773.475 26.3147 774.61 26.5172 L774.65 34.1734 Z\" fill=\"#000000\" fill-rule=\"evenodd\" fill-opacity=\"1\" /><path clip-path=\"url(#clip230)\" d=\"M 0 0 M810.865 49.3643 Q810.865 41.2625 807.503 36.8065 Q804.181 32.3505 798.145 32.3505 Q792.15 32.3505 788.788 36.8065 Q785.466 41.2625 785.466 49.3643 Q785.466 57.4256 788.788 61.8816 Q792.15 66.3376 798.145 66.3376 Q804.181 66.3376 807.503 61.8816 Q810.865 57.4256 810.865 49.3643 M818.319 66.9452 Q818.319 78.5308 813.174 84.1616 Q808.03 89.8329 797.416 89.8329 Q793.487 89.8329 790.003 89.2252 Q786.519 88.6581 783.238 87.4428 L783.238 80.1917 Q786.519 81.9741 789.719 82.8248 Q792.92 83.6755 796.241 83.6755 Q803.574 83.6755 807.219 79.8271 Q810.865 76.0193 810.865 68.282 L810.865 64.5957 Q808.556 68.6061 804.951 70.5911 Q801.346 72.576 796.322 72.576 Q787.978 72.576 782.873 66.2161 Q777.769 59.8562 777.769 49.3643 Q777.769 38.832 782.873 32.472 Q787.978 26.1121 796.322 26.1121 Q801.346 26.1121 804.951 28.0971 Q808.556 30.082 810.865 34.0924 L810.865 27.2059 L818.319 27.2059 L818.319 66.9452 Z\" fill=\"#000000\" fill-rule=\"evenodd\" fill-opacity=\"1\" /><path clip-path=\"url(#clip230)\" d=\"M 0 0 M864.945 48.0275 L864.945 51.6733 L830.674 51.6733 Q831.16 59.3701 835.292 63.421 Q839.465 67.4314 846.878 67.4314 Q851.172 67.4314 855.182 66.3781 Q859.233 65.3249 863.203 63.2184 L863.203 70.267 Q859.192 71.9684 854.979 72.8596 Q850.767 73.7508 846.432 73.7508 Q835.576 73.7508 829.216 67.4314 Q822.896 61.1119 822.896 50.3365 Q822.896 39.1965 828.892 32.6746 Q834.928 26.1121 845.136 26.1121 Q854.291 26.1121 859.598 32.0264 Q864.945 37.9003 864.945 48.0275 M857.491 45.84 Q857.41 39.7232 854.048 36.0774 Q850.726 32.4315 845.217 32.4315 Q838.978 32.4315 835.211 35.9558 Q831.484 39.4801 830.917 45.8805 L857.491 45.84 Z\" fill=\"#000000\" fill-rule=\"evenodd\" fill-opacity=\"1\" /><path clip-path=\"url(#clip230)\" d=\"M 0 0 M880.136 14.324 L880.136 27.2059 L895.489 27.2059 L895.489 32.9987 L880.136 32.9987 L880.136 57.6282 Q880.136 63.1779 881.634 64.7578 Q883.174 66.3376 887.832 66.3376 L895.489 66.3376 L895.489 72.576 L887.832 72.576 Q879.204 72.576 875.923 69.3758 Q872.641 66.1351 872.641 57.6282 L872.641 32.9987 L867.173 32.9987 L867.173 27.2059 L872.641 27.2059 L872.641 14.324 L880.136 14.324 Z\" fill=\"#000000\" fill-rule=\"evenodd\" fill-opacity=\"1\" /><path clip-path=\"url(#clip230)\" d=\"M 0 0 M952.647 9.54393 L952.647 15.7418 L945.517 15.7418 Q941.507 15.7418 939.927 17.3622 Q938.388 18.9825 938.388 23.1955 L938.388 27.2059 L950.662 27.2059 L950.662 32.9987 L938.388 32.9987 L938.388 72.576 L930.893 72.576 L930.893 32.9987 L923.764 32.9987 L923.764 27.2059 L930.893 27.2059 L930.893 24.0462 Q930.893 16.471 934.418 13.0277 Q937.942 9.54393 945.598 9.54393 L952.647 9.54393 Z\" fill=\"#000000\" fill-rule=\"evenodd\" fill-opacity=\"1\" /><path clip-path=\"url(#clip230)\" d=\"M 0 0 M960.465 27.2059 L967.919 27.2059 L967.919 72.576 L960.465 72.576 L960.465 27.2059 M960.465 9.54393 L967.919 9.54393 L967.919 18.9825 L960.465 18.9825 L960.465 9.54393 Z\" fill=\"#000000\" fill-rule=\"evenodd\" fill-opacity=\"1\" /><path clip-path=\"url(#clip230)\" d=\"M 0 0 M1013.45 27.2059 L997.045 49.2833 L1014.3 72.576 L1005.51 72.576 L992.305 54.752 L979.099 72.576 L970.309 72.576 L987.93 48.8377 L971.808 27.2059 L980.598 27.2059 L992.629 43.369 L1004.66 27.2059 L1013.45 27.2059 Z\" fill=\"#000000\" fill-rule=\"evenodd\" fill-opacity=\"1\" /><path clip-path=\"url(#clip230)\" d=\"M 0 0 M1042.74 49.7694 Q1033.71 49.7694 1030.22 51.8354 Q1026.74 53.9013 1026.74 58.8839 Q1026.74 62.8538 1029.33 65.2034 Q1031.96 67.5124 1036.46 67.5124 Q1042.66 67.5124 1046.38 63.1374 Q1050.15 58.7219 1050.15 51.4303 L1050.15 49.7694 L1042.74 49.7694 M1057.61 46.6907 L1057.61 72.576 L1050.15 72.576 L1050.15 65.6895 Q1047.6 69.8214 1043.79 71.8063 Q1039.98 73.7508 1034.48 73.7508 Q1027.51 73.7508 1023.38 69.8619 Q1019.28 65.9325 1019.28 59.3701 Q1019.28 51.7138 1024.39 47.825 Q1029.53 43.9361 1039.7 43.9361 L1050.15 43.9361 L1050.15 43.2069 Q1050.15 38.0623 1046.75 35.2672 Q1043.39 32.4315 1037.27 32.4315 Q1033.38 32.4315 1029.69 33.3632 Q1026.01 34.295 1022.61 36.1584 L1022.61 29.2718 Q1026.7 27.692 1030.55 26.9223 Q1034.39 26.1121 1038.04 26.1121 Q1047.88 26.1121 1052.74 31.2163 Q1057.61 36.3204 1057.61 46.6907 Z\" fill=\"#000000\" fill-rule=\"evenodd\" fill-opacity=\"1\" /><path clip-path=\"url(#clip230)\" d=\"M 0 0 M1072.8 14.324 L1072.8 27.2059 L1088.15 27.2059 L1088.15 32.9987 L1072.8 32.9987 L1072.8 57.6282 Q1072.8 63.1779 1074.3 64.7578 Q1075.83 66.3376 1080.49 66.3376 L1088.15 66.3376 L1088.15 72.576 L1080.49 72.576 Q1071.86 72.576 1068.58 69.3758 Q1065.3 66.1351 1065.3 57.6282 L1065.3 32.9987 L1059.83 32.9987 L1059.83 27.2059 L1065.3 27.2059 L1065.3 14.324 L1072.8 14.324 Z\" fill=\"#000000\" fill-rule=\"evenodd\" fill-opacity=\"1\" /><path clip-path=\"url(#clip230)\" d=\"M 0 0 M1095.97 27.2059 L1103.42 27.2059 L1103.42 72.576 L1095.97 72.576 L1095.97 27.2059 M1095.97 9.54393 L1103.42 9.54393 L1103.42 18.9825 L1095.97 18.9825 L1095.97 9.54393 Z\" fill=\"#000000\" fill-rule=\"evenodd\" fill-opacity=\"1\" /><path clip-path=\"url(#clip230)\" d=\"M 0 0 M1128.82 32.4315 Q1122.83 32.4315 1119.34 37.1306 Q1115.86 41.7891 1115.86 49.9314 Q1115.86 58.0738 1119.3 62.7728 Q1122.78 67.4314 1128.82 67.4314 Q1134.78 67.4314 1138.26 62.7323 Q1141.74 58.0333 1141.74 49.9314 Q1141.74 41.8701 1138.26 37.1711 Q1134.78 32.4315 1128.82 32.4315 M1128.82 26.1121 Q1138.54 26.1121 1144.09 32.4315 Q1149.64 38.7509 1149.64 49.9314 Q1149.64 61.0714 1144.09 67.4314 Q1138.54 73.7508 1128.82 73.7508 Q1119.06 73.7508 1113.51 67.4314 Q1108 61.0714 1108 49.9314 Q1108 38.7509 1113.51 32.4315 Q1119.06 26.1121 1128.82 26.1121 Z\" fill=\"#000000\" fill-rule=\"evenodd\" fill-opacity=\"1\" /><path clip-path=\"url(#clip230)\" d=\"M 0 0 M1195.17 45.1919 L1195.17 72.576 L1187.72 72.576 L1187.72 45.4349 Q1187.72 38.994 1185.21 35.7938 Q1182.7 32.5936 1177.67 32.5936 Q1171.64 32.5936 1168.15 36.4419 Q1164.67 40.2903 1164.67 46.9338 L1164.67 72.576 L1157.18 72.576 L1157.18 27.2059 L1164.67 27.2059 L1164.67 34.2544 Q1167.34 30.163 1170.95 28.1376 Q1174.6 26.1121 1179.34 26.1121 Q1187.15 26.1121 1191.16 30.9732 Q1195.17 35.7938 1195.17 45.1919 Z\" fill=\"#000000\" fill-rule=\"evenodd\" fill-opacity=\"1\" /><path clip-path=\"url(#clip230)\" d=\"M 0 0 M1231.92 28.5427 L1231.92 35.5912 Q1228.76 33.9709 1225.35 33.1607 Q1221.95 32.3505 1218.31 32.3505 Q1212.76 32.3505 1209.96 34.0519 Q1207.21 35.7533 1207.21 39.156 Q1207.21 41.7486 1209.19 43.2475 Q1211.18 44.7058 1217.17 46.0426 L1219.72 46.6097 Q1227.66 48.3111 1230.98 51.4303 Q1234.35 54.509 1234.35 60.0587 Q1234.35 66.3781 1229.32 70.0644 Q1224.34 73.7508 1215.59 73.7508 Q1211.95 73.7508 1207.98 73.0216 Q1204.05 72.3329 1199.67 70.9151 L1199.67 63.2184 Q1203.8 65.3654 1207.81 66.4591 Q1211.82 67.5124 1215.75 67.5124 Q1221.02 67.5124 1223.85 65.73 Q1226.69 63.9071 1226.69 60.6258 Q1226.69 57.5877 1224.62 55.9673 Q1222.6 54.3469 1215.67 52.8481 L1213.08 52.2405 Q1206.15 50.7821 1203.07 47.7845 Q1199.99 44.7463 1199.99 39.4801 Q1199.99 33.0797 1204.53 29.5959 Q1209.07 26.1121 1217.41 26.1121 Q1221.55 26.1121 1225.19 26.7198 Q1228.84 27.3274 1231.92 28.5427 Z\" fill=\"#000000\" fill-rule=\"evenodd\" fill-opacity=\"1\" /><path clip-path=\"url(#clip230)\" d=\"M 0 0 M1289.16 49.7694 Q1280.12 49.7694 1276.64 51.8354 Q1273.15 53.9013 1273.15 58.8839 Q1273.15 62.8538 1275.75 65.2034 Q1278.38 67.5124 1282.88 67.5124 Q1289.07 67.5124 1292.8 63.1374 Q1296.57 58.7219 1296.57 51.4303 L1296.57 49.7694 L1289.16 49.7694 M1304.02 46.6907 L1304.02 72.576 L1296.57 72.576 L1296.57 65.6895 Q1294.02 69.8214 1290.21 71.8063 Q1286.4 73.7508 1280.89 73.7508 Q1273.92 73.7508 1269.79 69.8619 Q1265.7 65.9325 1265.7 59.3701 Q1265.7 51.7138 1270.8 47.825 Q1275.95 43.9361 1286.12 43.9361 L1296.57 43.9361 L1296.57 43.2069 Q1296.57 38.0623 1293.17 35.2672 Q1289.8 32.4315 1283.69 32.4315 Q1279.8 32.4315 1276.11 33.3632 Q1272.43 34.295 1269.02 36.1584 L1269.02 29.2718 Q1273.11 27.692 1276.96 26.9223 Q1280.81 26.1121 1284.46 26.1121 Q1294.3 26.1121 1299.16 31.2163 Q1304.02 36.3204 1304.02 46.6907 Z\" fill=\"#000000\" fill-rule=\"evenodd\" fill-opacity=\"1\" /><path clip-path=\"url(#clip230)\" d=\"M 0 0 M1344.49 28.9478 L1344.49 35.9153 Q1341.33 34.1734 1338.13 33.3227 Q1334.97 32.4315 1331.73 32.4315 Q1324.48 32.4315 1320.47 37.0496 Q1316.46 41.6271 1316.46 49.9314 Q1316.46 58.2358 1320.47 62.8538 Q1324.48 67.4314 1331.73 67.4314 Q1334.97 67.4314 1338.13 66.5807 Q1341.33 65.6895 1344.49 63.9476 L1344.49 70.8341 Q1341.37 72.2924 1338.01 73.0216 Q1334.69 73.7508 1330.92 73.7508 Q1320.67 73.7508 1314.64 67.3098 Q1308.6 60.8689 1308.6 49.9314 Q1308.6 38.832 1314.68 32.472 Q1320.79 26.1121 1331.41 26.1121 Q1334.85 26.1121 1338.13 26.8413 Q1341.41 27.5299 1344.49 28.9478 Z\" fill=\"#000000\" fill-rule=\"evenodd\" fill-opacity=\"1\" /><path clip-path=\"url(#clip230)\" d=\"M 0 0 M1378.6 34.1734 Q1377.34 33.4443 1375.84 33.1202 Q1374.39 32.7556 1372.6 32.7556 Q1366.28 32.7556 1362.88 36.8875 Q1359.52 40.9789 1359.52 48.6757 L1359.52 72.576 L1352.03 72.576 L1352.03 27.2059 L1359.52 27.2059 L1359.52 34.2544 Q1361.87 30.1225 1365.64 28.1376 Q1369.4 26.1121 1374.79 26.1121 Q1375.56 26.1121 1376.49 26.2337 Q1377.42 26.3147 1378.56 26.5172 L1378.6 34.1734 Z\" fill=\"#000000\" fill-rule=\"evenodd\" fill-opacity=\"1\" /><path clip-path=\"url(#clip230)\" d=\"M 0 0 M1402.18 32.4315 Q1396.18 32.4315 1392.7 37.1306 Q1389.21 41.7891 1389.21 49.9314 Q1389.21 58.0738 1392.66 62.7728 Q1396.14 67.4314 1402.18 67.4314 Q1408.13 67.4314 1411.61 62.7323 Q1415.1 58.0333 1415.1 49.9314 Q1415.1 41.8701 1411.61 37.1711 Q1408.13 32.4315 1402.18 32.4315 M1402.18 26.1121 Q1411.9 26.1121 1417.45 32.4315 Q1423 38.7509 1423 49.9314 Q1423 61.0714 1417.45 67.4314 Q1411.9 73.7508 1402.18 73.7508 Q1392.41 73.7508 1386.86 67.4314 Q1381.35 61.0714 1381.35 49.9314 Q1381.35 38.7509 1386.86 32.4315 Q1392.41 26.1121 1402.18 26.1121 Z\" fill=\"#000000\" fill-rule=\"evenodd\" fill-opacity=\"1\" /><path clip-path=\"url(#clip230)\" d=\"M 0 0 M1459.74 28.5427 L1459.74 35.5912 Q1456.58 33.9709 1453.18 33.1607 Q1449.77 32.3505 1446.13 32.3505 Q1440.58 32.3505 1437.78 34.0519 Q1435.03 35.7533 1435.03 39.156 Q1435.03 41.7486 1437.01 43.2475 Q1439 44.7058 1444.99 46.0426 L1447.55 46.6097 Q1455.49 48.3111 1458.81 51.4303 Q1462.17 54.509 1462.17 60.0587 Q1462.17 66.3781 1457.15 70.0644 Q1452.16 73.7508 1443.41 73.7508 Q1439.77 73.7508 1435.8 73.0216 Q1431.87 72.3329 1427.49 70.9151 L1427.49 63.2184 Q1431.63 65.3654 1435.64 66.4591 Q1439.65 67.5124 1443.58 67.5124 Q1448.84 67.5124 1451.68 65.73 Q1454.51 63.9071 1454.51 60.6258 Q1454.51 57.5877 1452.45 55.9673 Q1450.42 54.3469 1443.49 52.8481 L1440.9 52.2405 Q1433.98 50.7821 1430.9 47.7845 Q1427.82 44.7463 1427.82 39.4801 Q1427.82 33.0797 1432.35 29.5959 Q1436.89 26.1121 1445.24 26.1121 Q1449.37 26.1121 1453.01 26.7198 Q1456.66 27.3274 1459.74 28.5427 Z\" fill=\"#000000\" fill-rule=\"evenodd\" fill-opacity=\"1\" /><path clip-path=\"url(#clip230)\" d=\"M 0 0 M1498.91 28.5427 L1498.91 35.5912 Q1495.75 33.9709 1492.35 33.1607 Q1488.95 32.3505 1485.3 32.3505 Q1479.75 32.3505 1476.96 34.0519 Q1474.2 35.7533 1474.2 39.156 Q1474.2 41.7486 1476.19 43.2475 Q1478.17 44.7058 1484.17 46.0426 L1486.72 46.6097 Q1494.66 48.3111 1497.98 51.4303 Q1501.34 54.509 1501.34 60.0587 Q1501.34 66.3781 1496.32 70.0644 Q1491.34 73.7508 1482.59 73.7508 Q1478.94 73.7508 1474.97 73.0216 Q1471.04 72.3329 1466.67 70.9151 L1466.67 63.2184 Q1470.8 65.3654 1474.81 66.4591 Q1478.82 67.5124 1482.75 67.5124 Q1488.01 67.5124 1490.85 65.73 Q1493.69 63.9071 1493.69 60.6258 Q1493.69 57.5877 1491.62 55.9673 Q1489.59 54.3469 1482.67 52.8481 L1480.07 52.2405 Q1473.15 50.7821 1470.07 47.7845 Q1466.99 44.7463 1466.99 39.4801 Q1466.99 33.0797 1471.53 29.5959 Q1476.06 26.1121 1484.41 26.1121 Q1488.54 26.1121 1492.19 26.7198 Q1495.83 27.3274 1498.91 28.5427 Z\" fill=\"#000000\" fill-rule=\"evenodd\" fill-opacity=\"1\" /><path clip-path=\"url(#clip230)\" d=\"M 0 0 M1542.9 14.324 L1542.9 27.2059 L1558.26 27.2059 L1558.26 32.9987 L1542.9 32.9987 L1542.9 57.6282 Q1542.9 63.1779 1544.4 64.7578 Q1545.94 66.3376 1550.6 66.3376 L1558.26 66.3376 L1558.26 72.576 L1550.6 72.576 Q1541.97 72.576 1538.69 69.3758 Q1535.41 66.1351 1535.41 57.6282 L1535.41 32.9987 L1529.94 32.9987 L1529.94 27.2059 L1535.41 27.2059 L1535.41 14.324 L1542.9 14.324 Z\" fill=\"#000000\" fill-rule=\"evenodd\" fill-opacity=\"1\" /><path clip-path=\"url(#clip230)\" d=\"M 0 0 M1566.08 27.2059 L1573.53 27.2059 L1573.53 72.576 L1566.08 72.576 L1566.08 27.2059 M1566.08 9.54393 L1573.53 9.54393 L1573.53 18.9825 L1566.08 18.9825 L1566.08 9.54393 Z\" fill=\"#000000\" fill-rule=\"evenodd\" fill-opacity=\"1\" /><path clip-path=\"url(#clip230)\" d=\"M 0 0 M1616.67 35.9153 Q1619.47 30.8922 1623.35 28.5022 Q1627.24 26.1121 1632.51 26.1121 Q1639.6 26.1121 1643.45 31.0947 Q1647.3 36.0368 1647.3 45.1919 L1647.3 72.576 L1639.8 72.576 L1639.8 45.4349 Q1639.8 38.913 1637.49 35.7533 Q1635.18 32.5936 1630.44 32.5936 Q1624.65 32.5936 1621.29 36.4419 Q1617.93 40.2903 1617.93 46.9338 L1617.93 72.576 L1610.43 72.576 L1610.43 45.4349 Q1610.43 38.8725 1608.12 35.7533 Q1605.81 32.5936 1600.99 32.5936 Q1595.28 32.5936 1591.92 36.4824 Q1588.56 40.3308 1588.56 46.9338 L1588.56 72.576 L1581.06 72.576 L1581.06 27.2059 L1588.56 27.2059 L1588.56 34.2544 Q1591.11 30.082 1594.67 28.0971 Q1598.24 26.1121 1603.14 26.1121 Q1608.08 26.1121 1611.53 28.6237 Q1615.01 31.1352 1616.67 35.9153 Z\" fill=\"#000000\" fill-rule=\"evenodd\" fill-opacity=\"1\" /><path clip-path=\"url(#clip230)\" d=\"M 0 0 M1693.92 48.0275 L1693.92 51.6733 L1659.65 51.6733 Q1660.14 59.3701 1664.27 63.421 Q1668.44 67.4314 1675.85 67.4314 Q1680.15 67.4314 1684.16 66.3781 Q1688.21 65.3249 1692.18 63.2184 L1692.18 70.267 Q1688.17 71.9684 1683.96 72.8596 Q1679.74 73.7508 1675.41 73.7508 Q1664.55 73.7508 1658.19 67.4314 Q1651.87 61.1119 1651.87 50.3365 Q1651.87 39.1965 1657.87 32.6746 Q1663.9 26.1121 1674.11 26.1121 Q1683.27 26.1121 1688.57 32.0264 Q1693.92 37.9003 1693.92 48.0275 M1686.47 45.84 Q1686.39 39.7232 1683.02 36.0774 Q1679.7 32.4315 1674.19 32.4315 Q1667.96 32.4315 1664.19 35.9558 Q1660.46 39.4801 1659.89 45.8805 L1686.47 45.84 Z\" fill=\"#000000\" fill-rule=\"evenodd\" fill-opacity=\"1\" /><path clip-path=\"url(#clip230)\" d=\"M 0 0 M1760.68 49.9314 Q1760.68 41.7081 1757.28 37.0496 Q1753.92 32.3505 1748 32.3505 Q1742.09 32.3505 1738.68 37.0496 Q1735.32 41.7081 1735.32 49.9314 Q1735.32 58.1548 1738.68 62.8538 Q1742.09 67.5124 1748 67.5124 Q1753.92 67.5124 1757.28 62.8538 Q1760.68 58.1548 1760.68 49.9314 M1735.32 34.0924 Q1737.67 30.0415 1741.24 28.0971 Q1744.84 26.1121 1749.82 26.1121 Q1758.09 26.1121 1763.23 32.6746 Q1768.42 39.2371 1768.42 49.9314 Q1768.42 60.6258 1763.23 67.1883 Q1758.09 73.7508 1749.82 73.7508 Q1744.84 73.7508 1741.24 71.8063 Q1737.67 69.8214 1735.32 65.7705 L1735.32 72.576 L1727.83 72.576 L1727.83 9.54393 L1735.32 9.54393 L1735.32 34.0924 Z\" fill=\"#000000\" fill-rule=\"evenodd\" fill-opacity=\"1\" /><path clip-path=\"url(#clip230)\" d=\"M 0 0 M1776.24 27.2059 L1783.69 27.2059 L1783.69 72.576 L1776.24 72.576 L1776.24 27.2059 M1776.24 9.54393 L1783.69 9.54393 L1783.69 18.9825 L1776.24 18.9825 L1776.24 9.54393 Z\" fill=\"#000000\" fill-rule=\"evenodd\" fill-opacity=\"1\" /><path clip-path=\"url(#clip230)\" d=\"M 0 0 M1829.22 45.1919 L1829.22 72.576 L1821.77 72.576 L1821.77 45.4349 Q1821.77 38.994 1819.26 35.7938 Q1816.75 32.5936 1811.72 32.5936 Q1805.69 32.5936 1802.2 36.4419 Q1798.72 40.2903 1798.72 46.9338 L1798.72 72.576 L1791.22 72.576 L1791.22 27.2059 L1798.72 27.2059 L1798.72 34.2544 Q1801.39 30.163 1805 28.1376 Q1808.64 26.1121 1813.38 26.1121 Q1821.2 26.1121 1825.21 30.9732 Q1829.22 35.7938 1829.22 45.1919 Z\" fill=\"#000000\" fill-rule=\"evenodd\" fill-opacity=\"1\" /><path clip-path=\"url(#clip230)\" d=\"M 0 0 M1865.96 28.5427 L1865.96 35.5912 Q1862.8 33.9709 1859.4 33.1607 Q1856 32.3505 1852.35 32.3505 Q1846.8 32.3505 1844.01 34.0519 Q1841.25 35.7533 1841.25 39.156 Q1841.25 41.7486 1843.24 43.2475 Q1845.22 44.7058 1851.22 46.0426 L1853.77 46.6097 Q1861.71 48.3111 1865.03 51.4303 Q1868.39 54.509 1868.39 60.0587 Q1868.39 66.3781 1863.37 70.0644 Q1858.39 73.7508 1849.64 73.7508 Q1845.99 73.7508 1842.02 73.0216 Q1838.09 72.3329 1833.72 70.9151 L1833.72 63.2184 Q1837.85 65.3654 1841.86 66.4591 Q1845.87 67.5124 1849.8 67.5124 Q1855.07 67.5124 1857.9 65.73 Q1860.74 63.9071 1860.74 60.6258 Q1860.74 57.5877 1858.67 55.9673 Q1856.65 54.3469 1849.72 52.8481 L1847.13 52.2405 Q1840.2 50.7821 1837.12 47.7845 Q1834.04 44.7463 1834.04 39.4801 Q1834.04 33.0797 1838.58 29.5959 Q1843.12 26.1121 1851.46 26.1121 Q1855.59 26.1121 1859.24 26.7198 Q1862.88 27.3274 1865.96 28.5427 Z\" fill=\"#000000\" fill-rule=\"evenodd\" fill-opacity=\"1\" /><path clip-path=\"url(#clip232)\" d=\"\n",
       "M237.069 1358.22 L345.178 1358.87 L453.286 1357.86 L561.395 1356.49 L669.504 1355.25 L777.612 1354.23 L885.721 1353.43 L993.83 1352.82 L1101.94 1352.37 L1210.05 1352.05 \n",
       "  L1318.16 1351.85 L1426.26 1351.75 L1534.37 1351.73 L1642.48 1351.8 L1750.59 1351.91 L1858.7 1352.05 L1966.81 1352.12 L2074.92 1352 L2183.03 1351.52 L2291.13 1350.45 \n",
       "  L2291.13 215.775 L2183.03 209.83 L2074.92 200.012 L1966.81 188.211 L1858.7 176.341 L1750.59 166.371 L1642.48 160.324 L1534.37 160.256 L1426.26 168.246 L1318.16 186.377 \n",
       "  L1210.05 216.737 L1101.94 261.408 L993.83 322.465 L885.721 401.979 L777.612 502.019 L669.504 624.656 L561.395 771.985 L453.286 946.192 L345.178 1149.87 L237.069 1386.4 \n",
       "   Z\n",
       "  \" fill=\"#009af9\" fill-rule=\"evenodd\" fill-opacity=\"0.15\"/>\n",
       "<polyline clip-path=\"url(#clip232)\" style=\"stroke:#009af9; stroke-width:12; stroke-opacity:1; fill:none\" points=\"\n",
       "  237.069,1372.31 345.178,1254.37 453.286,1152.03 561.395,1064.24 669.504,989.954 777.612,928.126 885.721,877.704 993.83,837.641 1101.94,806.887 1210.05,784.395 \n",
       "  1318.16,769.114 1426.26,759.997 1534.37,755.995 1642.48,756.06 1750.59,759.142 1858.7,764.193 1966.81,770.165 2074.92,776.008 2183.03,780.674 2291.13,783.115 \n",
       "  \n",
       "  \"/>\n",
       "<path clip-path=\"url(#clip232)\" d=\"\n",
       "M237.069 1358.11 L345.178 1358.97 L453.286 1357.96 L561.395 1356.72 L669.504 1355.73 L777.612 1355.04 L885.721 1354.54 L993.83 1354.15 L1101.94 1353.75 L1210.05 1353.28 \n",
       "  L1318.16 1352.71 L1426.26 1352.04 L1534.37 1351.34 L1642.48 1350.68 L1750.59 1350.13 L1858.7 1349.78 L1966.81 1349.7 L2074.92 1349.91 L2183.03 1350.41 L2291.13 1351 \n",
       "  L2291.13 258.496 L2183.03 270.489 L2074.92 267.348 L1966.81 256.76 L1858.7 241.448 L1750.59 224.181 L1642.48 207.756 L1534.37 194.982 L1426.26 188.671 L1318.16 191.628 \n",
       "  L1210.05 206.637 L1101.94 236.446 L993.83 283.755 L885.721 351.222 L777.612 441.477 L669.504 557.146 L561.395 700.882 L453.286 875.439 L345.178 1084.04 L237.069 1331.05 \n",
       "   Z\n",
       "  \" fill=\"#e26f46\" fill-rule=\"evenodd\" fill-opacity=\"0.15\"/>\n",
       "<polyline clip-path=\"url(#clip232)\" style=\"stroke:#e26f46; stroke-width:12; stroke-opacity:1; fill:none\" points=\"\n",
       "  237.069,1344.58 345.178,1221.51 453.286,1116.7 561.395,1028.8 669.504,956.44 777.612,898.257 885.721,852.882 993.83,818.952 1101.94,795.1 1210.05,779.96 \n",
       "  1318.16,772.168 1426.26,770.357 1534.37,773.162 1642.48,779.217 1750.59,787.157 1858.7,795.615 1966.81,803.228 2074.92,808.627 2183.03,810.45 2291.13,804.745 \n",
       "  \n",
       "  \"/>\n",
       "<path clip-path=\"url(#clip232)\" d=\"\n",
       "M237.069 1358.93 L345.178 1359.77 L453.286 1358.95 L561.395 1357.8 L669.504 1356.82 L777.612 1356.08 L885.721 1355.55 L993.83 1355.21 L1101.94 1355.01 L1210.05 1354.92 \n",
       "  L1318.16 1354.9 L1426.26 1354.93 L1534.37 1354.98 L1642.48 1355.06 L1750.59 1355.17 L1858.7 1355.3 L1966.81 1355.46 L2074.92 1355.62 L2183.03 1355.71 L2291.13 1355.59 \n",
       "  L2291.13 311.62 L2183.03 294.517 L2074.92 273.931 L1966.81 252.177 L1858.7 232.07 L1750.59 215.426 L1642.48 204.086 L1534.37 199.896 L1426.26 204.703 L1318.16 220.343 \n",
       "  L1210.05 248.647 L1101.94 291.43 L993.83 350.505 L885.721 427.675 L777.612 524.745 L669.504 643.522 L561.395 785.835 L453.286 953.596 L345.178 1149.14 L237.069 1375.65 \n",
       "   Z\n",
       "  \" fill=\"#3da44d\" fill-rule=\"evenodd\" fill-opacity=\"0.15\"/>\n",
       "<polyline clip-path=\"url(#clip232)\" style=\"stroke:#3da44d; stroke-width:12; stroke-opacity:1; fill:none\" points=\"\n",
       "  237.069,1367.29 345.178,1254.46 453.286,1156.27 561.395,1071.82 669.504,1000.17 777.612,940.412 885.721,891.614 993.83,852.858 1101.94,823.222 1210.05,801.784 \n",
       "  1318.16,787.622 1426.26,779.814 1534.37,777.438 1642.48,779.573 1750.59,785.296 1858.7,793.686 1966.81,803.82 2074.92,814.777 2183.03,825.113 2291.13,833.605 \n",
       "  \n",
       "  \"/>\n",
       "<circle clip-path=\"url(#clip232)\" cx=\"237.067\" cy=\"1296.88\" r=\"18\" fill=\"#c271d2\" fill-rule=\"evenodd\" fill-opacity=\"0.5\" stroke=\"#000000\" stroke-opacity=\"0.5\" stroke-width=\"0\"/>\n",
       "<circle clip-path=\"url(#clip232)\" cx=\"345.175\" cy=\"1294.14\" r=\"18\" fill=\"#c271d2\" fill-rule=\"evenodd\" fill-opacity=\"0.5\" stroke=\"#000000\" stroke-opacity=\"0.5\" stroke-width=\"0\"/>\n",
       "<circle clip-path=\"url(#clip232)\" cx=\"453.283\" cy=\"1245.45\" r=\"18\" fill=\"#c271d2\" fill-rule=\"evenodd\" fill-opacity=\"0.5\" stroke=\"#000000\" stroke-opacity=\"0.5\" stroke-width=\"0\"/>\n",
       "<circle clip-path=\"url(#clip232)\" cx=\"561.391\" cy=\"1075.91\" r=\"18\" fill=\"#c271d2\" fill-rule=\"evenodd\" fill-opacity=\"0.5\" stroke=\"#000000\" stroke-opacity=\"0.5\" stroke-width=\"0\"/>\n",
       "<circle clip-path=\"url(#clip232)\" cx=\"669.498\" cy=\"935.125\" r=\"18\" fill=\"#c271d2\" fill-rule=\"evenodd\" fill-opacity=\"0.5\" stroke=\"#000000\" stroke-opacity=\"0.5\" stroke-width=\"0\"/>\n",
       "<circle clip-path=\"url(#clip232)\" cx=\"777.606\" cy=\"887.529\" r=\"18\" fill=\"#c271d2\" fill-rule=\"evenodd\" fill-opacity=\"0.5\" stroke=\"#000000\" stroke-opacity=\"0.5\" stroke-width=\"0\"/>\n",
       "<circle clip-path=\"url(#clip232)\" cx=\"885.714\" cy=\"890.108\" r=\"18\" fill=\"#c271d2\" fill-rule=\"evenodd\" fill-opacity=\"0.5\" stroke=\"#000000\" stroke-opacity=\"0.5\" stroke-width=\"0\"/>\n",
       "<circle clip-path=\"url(#clip232)\" cx=\"993.822\" cy=\"873.247\" r=\"18\" fill=\"#c271d2\" fill-rule=\"evenodd\" fill-opacity=\"0.5\" stroke=\"#000000\" stroke-opacity=\"0.5\" stroke-width=\"0\"/>\n",
       "<circle clip-path=\"url(#clip232)\" cx=\"1101.93\" cy=\"824.542\" r=\"18\" fill=\"#c271d2\" fill-rule=\"evenodd\" fill-opacity=\"0.5\" stroke=\"#000000\" stroke-opacity=\"0.5\" stroke-width=\"0\"/>\n",
       "<circle clip-path=\"url(#clip232)\" cx=\"1210.04\" cy=\"816.772\" r=\"18\" fill=\"#c271d2\" fill-rule=\"evenodd\" fill-opacity=\"0.5\" stroke=\"#000000\" stroke-opacity=\"0.5\" stroke-width=\"0\"/>\n",
       "<circle clip-path=\"url(#clip232)\" cx=\"1318.15\" cy=\"779.895\" r=\"18\" fill=\"#c271d2\" fill-rule=\"evenodd\" fill-opacity=\"0.5\" stroke=\"#000000\" stroke-opacity=\"0.5\" stroke-width=\"0\"/>\n",
       "<circle clip-path=\"url(#clip232)\" cx=\"1426.25\" cy=\"760.761\" r=\"18\" fill=\"#c271d2\" fill-rule=\"evenodd\" fill-opacity=\"0.5\" stroke=\"#000000\" stroke-opacity=\"0.5\" stroke-width=\"0\"/>\n",
       "<circle clip-path=\"url(#clip232)\" cx=\"1534.36\" cy=\"739.454\" r=\"18\" fill=\"#c271d2\" fill-rule=\"evenodd\" fill-opacity=\"0.5\" stroke=\"#000000\" stroke-opacity=\"0.5\" stroke-width=\"0\"/>\n",
       "<circle clip-path=\"url(#clip232)\" cx=\"1642.47\" cy=\"739.55\" r=\"18\" fill=\"#c271d2\" fill-rule=\"evenodd\" fill-opacity=\"0.5\" stroke=\"#000000\" stroke-opacity=\"0.5\" stroke-width=\"0\"/>\n",
       "<circle clip-path=\"url(#clip232)\" cx=\"1750.58\" cy=\"726.068\" r=\"18\" fill=\"#c271d2\" fill-rule=\"evenodd\" fill-opacity=\"0.5\" stroke=\"#000000\" stroke-opacity=\"0.5\" stroke-width=\"0\"/>\n",
       "<circle clip-path=\"url(#clip232)\" cx=\"1858.68\" cy=\"725.421\" r=\"18\" fill=\"#c271d2\" fill-rule=\"evenodd\" fill-opacity=\"0.5\" stroke=\"#000000\" stroke-opacity=\"0.5\" stroke-width=\"0\"/>\n",
       "<circle clip-path=\"url(#clip232)\" cx=\"1966.79\" cy=\"759.238\" r=\"18\" fill=\"#c271d2\" fill-rule=\"evenodd\" fill-opacity=\"0.5\" stroke=\"#000000\" stroke-opacity=\"0.5\" stroke-width=\"0\"/>\n",
       "<circle clip-path=\"url(#clip232)\" cx=\"2074.9\" cy=\"776.276\" r=\"18\" fill=\"#c271d2\" fill-rule=\"evenodd\" fill-opacity=\"0.5\" stroke=\"#000000\" stroke-opacity=\"0.5\" stroke-width=\"0\"/>\n",
       "<circle clip-path=\"url(#clip232)\" cx=\"2183.01\" cy=\"784.332\" r=\"18\" fill=\"#c271d2\" fill-rule=\"evenodd\" fill-opacity=\"0.5\" stroke=\"#000000\" stroke-opacity=\"0.5\" stroke-width=\"0\"/>\n",
       "<circle clip-path=\"url(#clip232)\" cx=\"2291.12\" cy=\"811.407\" r=\"18\" fill=\"#c271d2\" fill-rule=\"evenodd\" fill-opacity=\"0.5\" stroke=\"#000000\" stroke-opacity=\"0.5\" stroke-width=\"0\"/>\n",
       "<circle clip-path=\"url(#clip232)\" cx=\"237.067\" cy=\"1286.54\" r=\"18\" fill=\"#ac8d18\" fill-rule=\"evenodd\" fill-opacity=\"0.5\" stroke=\"#000000\" stroke-opacity=\"0.5\" stroke-width=\"0\"/>\n",
       "<circle clip-path=\"url(#clip232)\" cx=\"345.175\" cy=\"1280.98\" r=\"18\" fill=\"#ac8d18\" fill-rule=\"evenodd\" fill-opacity=\"0.5\" stroke=\"#000000\" stroke-opacity=\"0.5\" stroke-width=\"0\"/>\n",
       "<circle clip-path=\"url(#clip232)\" cx=\"453.283\" cy=\"1236.91\" r=\"18\" fill=\"#ac8d18\" fill-rule=\"evenodd\" fill-opacity=\"0.5\" stroke=\"#000000\" stroke-opacity=\"0.5\" stroke-width=\"0\"/>\n",
       "<circle clip-path=\"url(#clip232)\" cx=\"561.391\" cy=\"1062.39\" r=\"18\" fill=\"#ac8d18\" fill-rule=\"evenodd\" fill-opacity=\"0.5\" stroke=\"#000000\" stroke-opacity=\"0.5\" stroke-width=\"0\"/>\n",
       "<circle clip-path=\"url(#clip232)\" cx=\"669.498\" cy=\"859.244\" r=\"18\" fill=\"#ac8d18\" fill-rule=\"evenodd\" fill-opacity=\"0.5\" stroke=\"#000000\" stroke-opacity=\"0.5\" stroke-width=\"0\"/>\n",
       "<circle clip-path=\"url(#clip232)\" cx=\"777.606\" cy=\"836.323\" r=\"18\" fill=\"#ac8d18\" fill-rule=\"evenodd\" fill-opacity=\"0.5\" stroke=\"#000000\" stroke-opacity=\"0.5\" stroke-width=\"0\"/>\n",
       "<circle clip-path=\"url(#clip232)\" cx=\"885.714\" cy=\"816.603\" r=\"18\" fill=\"#ac8d18\" fill-rule=\"evenodd\" fill-opacity=\"0.5\" stroke=\"#000000\" stroke-opacity=\"0.5\" stroke-width=\"0\"/>\n",
       "<circle clip-path=\"url(#clip232)\" cx=\"993.822\" cy=\"776.145\" r=\"18\" fill=\"#ac8d18\" fill-rule=\"evenodd\" fill-opacity=\"0.5\" stroke=\"#000000\" stroke-opacity=\"0.5\" stroke-width=\"0\"/>\n",
       "<circle clip-path=\"url(#clip232)\" cx=\"1101.93\" cy=\"778.743\" r=\"18\" fill=\"#ac8d18\" fill-rule=\"evenodd\" fill-opacity=\"0.5\" stroke=\"#000000\" stroke-opacity=\"0.5\" stroke-width=\"0\"/>\n",
       "<circle clip-path=\"url(#clip232)\" cx=\"1210.04\" cy=\"787.465\" r=\"18\" fill=\"#ac8d18\" fill-rule=\"evenodd\" fill-opacity=\"0.5\" stroke=\"#000000\" stroke-opacity=\"0.5\" stroke-width=\"0\"/>\n",
       "<circle clip-path=\"url(#clip232)\" cx=\"1318.15\" cy=\"798.743\" r=\"18\" fill=\"#ac8d18\" fill-rule=\"evenodd\" fill-opacity=\"0.5\" stroke=\"#000000\" stroke-opacity=\"0.5\" stroke-width=\"0\"/>\n",
       "<circle clip-path=\"url(#clip232)\" cx=\"1426.25\" cy=\"811.503\" r=\"18\" fill=\"#ac8d18\" fill-rule=\"evenodd\" fill-opacity=\"0.5\" stroke=\"#000000\" stroke-opacity=\"0.5\" stroke-width=\"0\"/>\n",
       "<circle clip-path=\"url(#clip232)\" cx=\"1534.36\" cy=\"791.831\" r=\"18\" fill=\"#ac8d18\" fill-rule=\"evenodd\" fill-opacity=\"0.5\" stroke=\"#000000\" stroke-opacity=\"0.5\" stroke-width=\"0\"/>\n",
       "<circle clip-path=\"url(#clip232)\" cx=\"1642.47\" cy=\"795.887\" r=\"18\" fill=\"#ac8d18\" fill-rule=\"evenodd\" fill-opacity=\"0.5\" stroke=\"#000000\" stroke-opacity=\"0.5\" stroke-width=\"0\"/>\n",
       "<circle clip-path=\"url(#clip232)\" cx=\"1750.58\" cy=\"811.75\" r=\"18\" fill=\"#ac8d18\" fill-rule=\"evenodd\" fill-opacity=\"0.5\" stroke=\"#000000\" stroke-opacity=\"0.5\" stroke-width=\"0\"/>\n",
       "<circle clip-path=\"url(#clip232)\" cx=\"1858.68\" cy=\"818.466\" r=\"18\" fill=\"#ac8d18\" fill-rule=\"evenodd\" fill-opacity=\"0.5\" stroke=\"#000000\" stroke-opacity=\"0.5\" stroke-width=\"0\"/>\n",
       "<circle clip-path=\"url(#clip232)\" cx=\"1966.79\" cy=\"796.757\" r=\"18\" fill=\"#ac8d18\" fill-rule=\"evenodd\" fill-opacity=\"0.5\" stroke=\"#000000\" stroke-opacity=\"0.5\" stroke-width=\"0\"/>\n",
       "<circle clip-path=\"url(#clip232)\" cx=\"2074.9\" cy=\"806.183\" r=\"18\" fill=\"#ac8d18\" fill-rule=\"evenodd\" fill-opacity=\"0.5\" stroke=\"#000000\" stroke-opacity=\"0.5\" stroke-width=\"0\"/>\n",
       "<circle clip-path=\"url(#clip232)\" cx=\"2183.01\" cy=\"775.838\" r=\"18\" fill=\"#ac8d18\" fill-rule=\"evenodd\" fill-opacity=\"0.5\" stroke=\"#000000\" stroke-opacity=\"0.5\" stroke-width=\"0\"/>\n",
       "<circle clip-path=\"url(#clip232)\" cx=\"2291.12\" cy=\"789.343\" r=\"18\" fill=\"#ac8d18\" fill-rule=\"evenodd\" fill-opacity=\"0.5\" stroke=\"#000000\" stroke-opacity=\"0.5\" stroke-width=\"0\"/>\n",
       "<circle clip-path=\"url(#clip232)\" cx=\"237.067\" cy=\"1302.07\" r=\"18\" fill=\"#00a9ad\" fill-rule=\"evenodd\" fill-opacity=\"0.5\" stroke=\"#000000\" stroke-opacity=\"0.5\" stroke-width=\"0\"/>\n",
       "<circle clip-path=\"url(#clip232)\" cx=\"345.175\" cy=\"1295.02\" r=\"18\" fill=\"#00a9ad\" fill-rule=\"evenodd\" fill-opacity=\"0.5\" stroke=\"#000000\" stroke-opacity=\"0.5\" stroke-width=\"0\"/>\n",
       "<circle clip-path=\"url(#clip232)\" cx=\"453.283\" cy=\"1247.87\" r=\"18\" fill=\"#00a9ad\" fill-rule=\"evenodd\" fill-opacity=\"0.5\" stroke=\"#000000\" stroke-opacity=\"0.5\" stroke-width=\"0\"/>\n",
       "<circle clip-path=\"url(#clip232)\" cx=\"561.391\" cy=\"1091.24\" r=\"18\" fill=\"#00a9ad\" fill-rule=\"evenodd\" fill-opacity=\"0.5\" stroke=\"#000000\" stroke-opacity=\"0.5\" stroke-width=\"0\"/>\n",
       "<circle clip-path=\"url(#clip232)\" cx=\"669.498\" cy=\"914.773\" r=\"18\" fill=\"#00a9ad\" fill-rule=\"evenodd\" fill-opacity=\"0.5\" stroke=\"#000000\" stroke-opacity=\"0.5\" stroke-width=\"0\"/>\n",
       "<circle clip-path=\"url(#clip232)\" cx=\"777.606\" cy=\"887.271\" r=\"18\" fill=\"#00a9ad\" fill-rule=\"evenodd\" fill-opacity=\"0.5\" stroke=\"#000000\" stroke-opacity=\"0.5\" stroke-width=\"0\"/>\n",
       "<circle clip-path=\"url(#clip232)\" cx=\"885.714\" cy=\"883.972\" r=\"18\" fill=\"#00a9ad\" fill-rule=\"evenodd\" fill-opacity=\"0.5\" stroke=\"#000000\" stroke-opacity=\"0.5\" stroke-width=\"0\"/>\n",
       "<circle clip-path=\"url(#clip232)\" cx=\"993.822\" cy=\"867.203\" r=\"18\" fill=\"#00a9ad\" fill-rule=\"evenodd\" fill-opacity=\"0.5\" stroke=\"#000000\" stroke-opacity=\"0.5\" stroke-width=\"0\"/>\n",
       "<circle clip-path=\"url(#clip232)\" cx=\"1101.93\" cy=\"840.52\" r=\"18\" fill=\"#00a9ad\" fill-rule=\"evenodd\" fill-opacity=\"0.5\" stroke=\"#000000\" stroke-opacity=\"0.5\" stroke-width=\"0\"/>\n",
       "<circle clip-path=\"url(#clip232)\" cx=\"1210.04\" cy=\"812.892\" r=\"18\" fill=\"#00a9ad\" fill-rule=\"evenodd\" fill-opacity=\"0.5\" stroke=\"#000000\" stroke-opacity=\"0.5\" stroke-width=\"0\"/>\n",
       "<circle clip-path=\"url(#clip232)\" cx=\"1318.15\" cy=\"798.022\" r=\"18\" fill=\"#00a9ad\" fill-rule=\"evenodd\" fill-opacity=\"0.5\" stroke=\"#000000\" stroke-opacity=\"0.5\" stroke-width=\"0\"/>\n",
       "<circle clip-path=\"url(#clip232)\" cx=\"1426.25\" cy=\"783.751\" r=\"18\" fill=\"#00a9ad\" fill-rule=\"evenodd\" fill-opacity=\"0.5\" stroke=\"#000000\" stroke-opacity=\"0.5\" stroke-width=\"0\"/>\n",
       "<circle clip-path=\"url(#clip232)\" cx=\"1534.36\" cy=\"778.451\" r=\"18\" fill=\"#00a9ad\" fill-rule=\"evenodd\" fill-opacity=\"0.5\" stroke=\"#000000\" stroke-opacity=\"0.5\" stroke-width=\"0\"/>\n",
       "<circle clip-path=\"url(#clip232)\" cx=\"1642.47\" cy=\"777.939\" r=\"18\" fill=\"#00a9ad\" fill-rule=\"evenodd\" fill-opacity=\"0.5\" stroke=\"#000000\" stroke-opacity=\"0.5\" stroke-width=\"0\"/>\n",
       "<circle clip-path=\"url(#clip232)\" cx=\"1750.58\" cy=\"791.238\" r=\"18\" fill=\"#00a9ad\" fill-rule=\"evenodd\" fill-opacity=\"0.5\" stroke=\"#000000\" stroke-opacity=\"0.5\" stroke-width=\"0\"/>\n",
       "<circle clip-path=\"url(#clip232)\" cx=\"1858.68\" cy=\"784.758\" r=\"18\" fill=\"#00a9ad\" fill-rule=\"evenodd\" fill-opacity=\"0.5\" stroke=\"#000000\" stroke-opacity=\"0.5\" stroke-width=\"0\"/>\n",
       "<circle clip-path=\"url(#clip232)\" cx=\"1966.79\" cy=\"793.641\" r=\"18\" fill=\"#00a9ad\" fill-rule=\"evenodd\" fill-opacity=\"0.5\" stroke=\"#000000\" stroke-opacity=\"0.5\" stroke-width=\"0\"/>\n",
       "<circle clip-path=\"url(#clip232)\" cx=\"2074.9\" cy=\"816.376\" r=\"18\" fill=\"#00a9ad\" fill-rule=\"evenodd\" fill-opacity=\"0.5\" stroke=\"#000000\" stroke-opacity=\"0.5\" stroke-width=\"0\"/>\n",
       "<circle clip-path=\"url(#clip232)\" cx=\"2183.01\" cy=\"828.294\" r=\"18\" fill=\"#00a9ad\" fill-rule=\"evenodd\" fill-opacity=\"0.5\" stroke=\"#000000\" stroke-opacity=\"0.5\" stroke-width=\"0\"/>\n",
       "<circle clip-path=\"url(#clip232)\" cx=\"2291.12\" cy=\"845.501\" r=\"18\" fill=\"#00a9ad\" fill-rule=\"evenodd\" fill-opacity=\"0.5\" stroke=\"#000000\" stroke-opacity=\"0.5\" stroke-width=\"0\"/>\n",
       "<path clip-path=\"url(#clip230)\" d=\"\n",
       "M1774.69 1379.86 L2280.18 1379.86 L2280.18 956.496 L1774.69 956.496  Z\n",
       "  \" fill=\"#ffffff\" fill-rule=\"evenodd\" fill-opacity=\"1\"/>\n",
       "<polyline clip-path=\"url(#clip230)\" style=\"stroke:#000000; stroke-width:4; stroke-opacity:1; fill:none\" points=\"\n",
       "  1774.69,1379.86 2280.18,1379.86 2280.18,956.496 1774.69,956.496 1774.69,1379.86 \n",
       "  \"/>\n",
       "<polyline clip-path=\"url(#clip230)\" style=\"stroke:#009af9; stroke-width:4; stroke-opacity:1; fill:none\" points=\"\n",
       "  1798.88,1016.98 1944.04,1016.98 \n",
       "  \"/>\n",
       "<path clip-path=\"url(#clip230)\" d=\"M 0 0 M1996.1 1002.36 L1996.1 1007.29 Q1993.74 1005.09 1991.05 1004 Q1988.39 1002.91 1985.38 1002.91 Q1979.46 1002.91 1976.31 1006.55 Q1973.16 1010.16 1973.16 1017.01 Q1973.16 1023.84 1976.31 1027.47 Q1979.46 1031.08 1985.38 1031.08 Q1988.39 1031.08 1991.05 1030 Q1993.74 1028.91 1996.1 1026.71 L1996.1 1031.59 Q1993.65 1033.26 1990.89 1034.09 Q1988.16 1034.93 1985.11 1034.93 Q1977.26 1034.93 1972.74 1030.14 Q1968.23 1025.32 1968.23 1017.01 Q1968.23 1008.68 1972.74 1003.89 Q1977.26 999.071 1985.11 999.071 Q1988.21 999.071 1990.94 999.905 Q1993.69 1000.71 1996.1 1002.36 Z\" fill=\"#000000\" fill-rule=\"evenodd\" fill-opacity=\"1\" /><path clip-path=\"url(#clip230)\" d=\"M 0 0 M2010.61 1011.32 Q2007.19 1011.32 2005.2 1014 Q2003.21 1016.66 2003.21 1021.32 Q2003.21 1025.97 2005.18 1028.65 Q2007.17 1031.32 2010.61 1031.32 Q2014.02 1031.32 2016.01 1028.63 Q2018 1025.95 2018 1021.32 Q2018 1016.71 2016.01 1014.02 Q2014.02 1011.32 2010.61 1011.32 M2010.61 1007.71 Q2016.17 1007.71 2019.34 1011.32 Q2022.51 1014.93 2022.51 1021.32 Q2022.51 1027.68 2019.34 1031.32 Q2016.17 1034.93 2010.61 1034.93 Q2005.04 1034.93 2001.86 1031.32 Q1998.72 1027.68 1998.72 1021.32 Q1998.72 1014.93 2001.86 1011.32 Q2005.04 1007.71 2010.61 1007.71 Z\" fill=\"#000000\" fill-rule=\"evenodd\" fill-opacity=\"1\" /><path clip-path=\"url(#clip230)\" d=\"M 0 0 M2044.04 1020.99 Q2044.04 1016.36 2042.12 1013.82 Q2040.22 1011.27 2036.77 1011.27 Q2033.35 1011.27 2031.42 1013.82 Q2029.53 1016.36 2029.53 1020.99 Q2029.53 1025.6 2031.42 1028.15 Q2033.35 1030.69 2036.77 1030.69 Q2040.22 1030.69 2042.12 1028.15 Q2044.04 1025.6 2044.04 1020.99 M2048.3 1031.04 Q2048.3 1037.66 2045.36 1040.88 Q2042.42 1044.12 2036.36 1044.12 Q2034.11 1044.12 2032.12 1043.77 Q2030.13 1043.45 2028.25 1042.75 L2028.25 1038.61 Q2030.13 1039.63 2031.96 1040.11 Q2033.79 1040.6 2035.68 1040.6 Q2039.87 1040.6 2041.96 1038.4 Q2044.04 1036.22 2044.04 1031.8 L2044.04 1029.7 Q2042.72 1031.99 2040.66 1033.12 Q2038.6 1034.26 2035.73 1034.26 Q2030.96 1034.26 2028.05 1030.62 Q2025.13 1026.99 2025.13 1020.99 Q2025.13 1014.97 2028.05 1011.34 Q2030.96 1007.71 2035.73 1007.71 Q2038.6 1007.71 2040.66 1008.84 Q2042.72 1009.97 2044.04 1012.27 L2044.04 1008.33 L2048.3 1008.33 L2048.3 1031.04 Z\" fill=\"#000000\" fill-rule=\"evenodd\" fill-opacity=\"1\" /><path clip-path=\"url(#clip230)\" d=\"M 0 0 M2074.32 1018.61 L2074.32 1034.26 L2070.06 1034.26 L2070.06 1018.75 Q2070.06 1015.07 2068.62 1013.24 Q2067.19 1011.41 2064.32 1011.41 Q2060.87 1011.41 2058.88 1013.61 Q2056.89 1015.81 2056.89 1019.6 L2056.89 1034.26 L2052.61 1034.26 L2052.61 1008.33 L2056.89 1008.33 L2056.89 1012.36 Q2058.42 1010.02 2060.48 1008.86 Q2062.56 1007.71 2065.27 1007.71 Q2069.73 1007.71 2072.03 1010.48 Q2074.32 1013.24 2074.32 1018.61 Z\" fill=\"#000000\" fill-rule=\"evenodd\" fill-opacity=\"1\" /><path clip-path=\"url(#clip230)\" d=\"M 0 0 M2090.57 1021.22 Q2085.41 1021.22 2083.42 1022.4 Q2081.42 1023.59 2081.42 1026.43 Q2081.42 1028.7 2082.91 1030.04 Q2084.41 1031.36 2086.98 1031.36 Q2090.52 1031.36 2092.65 1028.86 Q2094.8 1026.34 2094.8 1022.17 L2094.8 1021.22 L2090.57 1021.22 M2099.06 1019.46 L2099.06 1034.26 L2094.8 1034.26 L2094.8 1030.32 Q2093.35 1032.68 2091.17 1033.82 Q2088.99 1034.93 2085.85 1034.93 Q2081.86 1034.93 2079.5 1032.71 Q2077.17 1030.46 2077.17 1026.71 Q2077.17 1022.34 2080.08 1020.11 Q2083.02 1017.89 2088.83 1017.89 L2094.8 1017.89 L2094.8 1017.47 Q2094.8 1014.53 2092.86 1012.94 Q2090.94 1011.32 2087.44 1011.32 Q2085.22 1011.32 2083.11 1011.85 Q2081.01 1012.38 2079.06 1013.45 L2079.06 1009.51 Q2081.4 1008.61 2083.6 1008.17 Q2085.8 1007.71 2087.88 1007.71 Q2093.51 1007.71 2096.29 1010.62 Q2099.06 1013.54 2099.06 1019.46 Z\" fill=\"#000000\" fill-rule=\"evenodd\" fill-opacity=\"1\" /><path clip-path=\"url(#clip230)\" d=\"M 0 0 M2107.74 1000.97 L2107.74 1008.33 L2116.52 1008.33 L2116.52 1011.64 L2107.74 1011.64 L2107.74 1025.71 Q2107.74 1028.89 2108.6 1029.79 Q2109.48 1030.69 2112.14 1030.69 L2116.52 1030.69 L2116.52 1034.26 L2112.14 1034.26 Q2107.21 1034.26 2105.34 1032.43 Q2103.46 1030.58 2103.46 1025.71 L2103.46 1011.64 L2100.34 1011.64 L2100.34 1008.33 L2103.46 1008.33 L2103.46 1000.97 L2107.74 1000.97 Z\" fill=\"#000000\" fill-rule=\"evenodd\" fill-opacity=\"1\" /><path clip-path=\"url(#clip230)\" d=\"M 0 0 M2143.16 1020.23 L2143.16 1022.31 L2123.58 1022.31 Q2123.85 1026.71 2126.22 1029.02 Q2128.6 1031.32 2132.84 1031.32 Q2135.29 1031.32 2137.58 1030.71 Q2139.9 1030.11 2142.17 1028.91 L2142.17 1032.94 Q2139.87 1033.91 2137.47 1034.42 Q2135.06 1034.93 2132.58 1034.93 Q2126.38 1034.93 2122.74 1031.32 Q2119.13 1027.71 2119.13 1021.55 Q2119.13 1015.18 2122.56 1011.46 Q2126.01 1007.71 2131.84 1007.71 Q2137.07 1007.71 2140.1 1011.09 Q2143.16 1014.44 2143.16 1020.23 M2138.9 1018.98 Q2138.85 1015.48 2136.93 1013.4 Q2135.04 1011.32 2131.89 1011.32 Q2128.32 1011.32 2126.17 1013.33 Q2124.04 1015.34 2123.72 1019 L2138.9 1018.98 Z\" fill=\"#000000\" fill-rule=\"evenodd\" fill-opacity=\"1\" /><polyline clip-path=\"url(#clip230)\" style=\"stroke:#e26f46; stroke-width:4; stroke-opacity:1; fill:none\" points=\"\n",
       "  1798.88,1077.46 1944.04,1077.46 \n",
       "  \"/>\n",
       "<path clip-path=\"url(#clip230)\" d=\"M 0 0 M1968.23 1060.18 L1974.53 1060.18 L1989.85 1089.09 L1989.85 1060.18 L1994.39 1060.18 L1994.39 1094.74 L1988.09 1094.74 L1972.77 1065.82 L1972.77 1094.74 L1968.23 1094.74 L1968.23 1060.18 Z\" fill=\"#000000\" fill-rule=\"evenodd\" fill-opacity=\"1\" /><path clip-path=\"url(#clip230)\" d=\"M 0 0 M2008.9 1071.8 Q2005.48 1071.8 2003.49 1074.48 Q2001.49 1077.14 2001.49 1081.8 Q2001.49 1086.45 2003.46 1089.13 Q2005.45 1091.8 2008.9 1091.8 Q2012.3 1091.8 2014.3 1089.11 Q2016.29 1086.43 2016.29 1081.8 Q2016.29 1077.19 2014.3 1074.5 Q2012.3 1071.8 2008.9 1071.8 M2008.9 1068.19 Q2014.46 1068.19 2017.63 1071.8 Q2020.8 1075.41 2020.8 1081.8 Q2020.8 1088.16 2017.63 1091.8 Q2014.46 1095.41 2008.9 1095.41 Q2003.32 1095.41 2000.15 1091.8 Q1997 1088.16 1997 1081.8 Q1997 1075.41 2000.15 1071.8 Q2003.32 1068.19 2008.9 1068.19 Z\" fill=\"#000000\" fill-rule=\"evenodd\" fill-opacity=\"1\" /><path clip-path=\"url(#clip230)\" d=\"M 0 0 M2046.82 1079.09 L2046.82 1094.74 L2042.56 1094.74 L2042.56 1079.23 Q2042.56 1075.55 2041.12 1073.72 Q2039.69 1071.89 2036.82 1071.89 Q2033.37 1071.89 2031.38 1074.09 Q2029.39 1076.29 2029.39 1080.08 L2029.39 1094.74 L2025.11 1094.74 L2025.11 1068.81 L2029.39 1068.81 L2029.39 1072.84 Q2030.92 1070.5 2032.98 1069.34 Q2035.06 1068.19 2037.77 1068.19 Q2042.24 1068.19 2044.53 1070.96 Q2046.82 1073.72 2046.82 1079.09 Z\" fill=\"#000000\" fill-rule=\"evenodd\" fill-opacity=\"1\" /><path clip-path=\"url(#clip230)\" d=\"M 0 0 M2049.13 1079.85 L2061.61 1079.85 L2061.61 1083.65 L2049.13 1083.65 L2049.13 1079.85 Z\" fill=\"#000000\" fill-rule=\"evenodd\" fill-opacity=\"1\" /><path clip-path=\"url(#clip230)\" d=\"M 0 0 M2084.73 1069.81 L2084.73 1073.79 Q2082.93 1072.79 2081.1 1072.31 Q2079.3 1071.8 2077.44 1071.8 Q2073.3 1071.8 2071.01 1074.44 Q2068.72 1077.05 2068.72 1081.8 Q2068.72 1086.54 2071.01 1089.18 Q2073.3 1091.8 2077.44 1091.8 Q2079.3 1091.8 2081.1 1091.31 Q2082.93 1090.8 2084.73 1089.81 L2084.73 1093.74 Q2082.95 1094.57 2081.03 1094.99 Q2079.13 1095.41 2076.98 1095.41 Q2071.12 1095.41 2067.67 1091.73 Q2064.23 1088.05 2064.23 1081.8 Q2064.23 1075.45 2067.7 1071.82 Q2071.19 1068.19 2077.26 1068.19 Q2079.23 1068.19 2081.1 1068.6 Q2082.98 1069 2084.73 1069.81 Z\" fill=\"#000000\" fill-rule=\"evenodd\" fill-opacity=\"1\" /><path clip-path=\"url(#clip230)\" d=\"M 0 0 M2099.25 1071.8 Q2095.82 1071.8 2093.83 1074.48 Q2091.84 1077.14 2091.84 1081.8 Q2091.84 1086.45 2093.81 1089.13 Q2095.8 1091.8 2099.25 1091.8 Q2102.65 1091.8 2104.64 1089.11 Q2106.63 1086.43 2106.63 1081.8 Q2106.63 1077.19 2104.64 1074.5 Q2102.65 1071.8 2099.25 1071.8 M2099.25 1068.19 Q2104.8 1068.19 2107.98 1071.8 Q2111.15 1075.41 2111.15 1081.8 Q2111.15 1088.16 2107.98 1091.8 Q2104.8 1095.41 2099.25 1095.41 Q2093.67 1095.41 2090.5 1091.8 Q2087.35 1088.16 2087.35 1081.8 Q2087.35 1075.41 2090.5 1071.8 Q2093.67 1068.19 2099.25 1068.19 Z\" fill=\"#000000\" fill-rule=\"evenodd\" fill-opacity=\"1\" /><path clip-path=\"url(#clip230)\" d=\"M 0 0 M2132.67 1081.47 Q2132.67 1076.84 2130.75 1074.3 Q2128.85 1071.75 2125.41 1071.75 Q2121.98 1071.75 2120.06 1074.3 Q2118.16 1076.84 2118.16 1081.47 Q2118.16 1086.08 2120.06 1088.63 Q2121.98 1091.17 2125.41 1091.17 Q2128.85 1091.17 2130.75 1088.63 Q2132.67 1086.08 2132.67 1081.47 M2136.93 1091.52 Q2136.93 1098.14 2133.99 1101.36 Q2131.05 1104.6 2124.99 1104.6 Q2122.74 1104.6 2120.75 1104.25 Q2118.76 1103.93 2116.89 1103.23 L2116.89 1099.09 Q2118.76 1100.11 2120.59 1100.59 Q2122.42 1101.08 2124.32 1101.08 Q2128.51 1101.08 2130.59 1098.88 Q2132.67 1096.7 2132.67 1092.28 L2132.67 1090.18 Q2131.35 1092.47 2129.29 1093.6 Q2127.23 1094.74 2124.36 1094.74 Q2119.6 1094.74 2116.68 1091.1 Q2113.76 1087.47 2113.76 1081.47 Q2113.76 1075.45 2116.68 1071.82 Q2119.6 1068.19 2124.36 1068.19 Q2127.23 1068.19 2129.29 1069.32 Q2131.35 1070.45 2132.67 1072.75 L2132.67 1068.81 L2136.93 1068.81 L2136.93 1091.52 Z\" fill=\"#000000\" fill-rule=\"evenodd\" fill-opacity=\"1\" /><path clip-path=\"url(#clip230)\" d=\"M 0 0 M2162.95 1079.09 L2162.95 1094.74 L2158.69 1094.74 L2158.69 1079.23 Q2158.69 1075.55 2157.26 1073.72 Q2155.82 1071.89 2152.95 1071.89 Q2149.5 1071.89 2147.51 1074.09 Q2145.52 1076.29 2145.52 1080.08 L2145.52 1094.74 L2141.24 1094.74 L2141.24 1068.81 L2145.52 1068.81 L2145.52 1072.84 Q2147.05 1070.5 2149.11 1069.34 Q2151.19 1068.19 2153.9 1068.19 Q2158.37 1068.19 2160.66 1070.96 Q2162.95 1073.72 2162.95 1079.09 Z\" fill=\"#000000\" fill-rule=\"evenodd\" fill-opacity=\"1\" /><path clip-path=\"url(#clip230)\" d=\"M 0 0 M2179.2 1081.7 Q2174.04 1081.7 2172.05 1082.88 Q2170.06 1084.07 2170.06 1086.91 Q2170.06 1089.18 2171.54 1090.52 Q2173.04 1091.84 2175.61 1091.84 Q2179.16 1091.84 2181.29 1089.34 Q2183.44 1086.82 2183.44 1082.65 L2183.44 1081.7 L2179.2 1081.7 M2187.7 1079.94 L2187.7 1094.74 L2183.44 1094.74 L2183.44 1090.8 Q2181.98 1093.16 2179.8 1094.3 Q2177.63 1095.41 2174.48 1095.41 Q2170.5 1095.41 2168.14 1093.19 Q2165.8 1090.94 2165.8 1087.19 Q2165.8 1082.82 2168.72 1080.59 Q2171.66 1078.37 2177.47 1078.37 L2183.44 1078.37 L2183.44 1077.95 Q2183.44 1075.01 2181.49 1073.42 Q2179.57 1071.8 2176.08 1071.8 Q2173.85 1071.8 2171.75 1072.33 Q2169.64 1072.86 2167.7 1073.93 L2167.7 1069.99 Q2170.04 1069.09 2172.23 1068.65 Q2174.43 1068.19 2176.52 1068.19 Q2182.14 1068.19 2184.92 1071.1 Q2187.7 1074.02 2187.7 1079.94 Z\" fill=\"#000000\" fill-rule=\"evenodd\" fill-opacity=\"1\" /><path clip-path=\"url(#clip230)\" d=\"M 0 0 M2196.38 1061.45 L2196.38 1068.81 L2205.15 1068.81 L2205.15 1072.12 L2196.38 1072.12 L2196.38 1086.19 Q2196.38 1089.37 2197.23 1090.27 Q2198.11 1091.17 2200.78 1091.17 L2205.15 1091.17 L2205.15 1094.74 L2200.78 1094.74 Q2195.85 1094.74 2193.97 1092.91 Q2192.1 1091.06 2192.1 1086.19 L2192.1 1072.12 L2188.97 1072.12 L2188.97 1068.81 L2192.1 1068.81 L2192.1 1061.45 L2196.38 1061.45 Z\" fill=\"#000000\" fill-rule=\"evenodd\" fill-opacity=\"1\" /><path clip-path=\"url(#clip230)\" d=\"M 0 0 M2231.79 1080.71 L2231.79 1082.79 L2212.21 1082.79 Q2212.49 1087.19 2214.85 1089.5 Q2217.23 1091.8 2221.47 1091.8 Q2223.92 1091.8 2226.22 1091.19 Q2228.53 1090.59 2230.8 1089.39 L2230.8 1093.42 Q2228.51 1094.39 2226.1 1094.9 Q2223.69 1095.41 2221.22 1095.41 Q2215.01 1095.41 2211.38 1091.8 Q2207.77 1088.19 2207.77 1082.03 Q2207.77 1075.66 2211.19 1071.94 Q2214.64 1068.19 2220.47 1068.19 Q2225.71 1068.19 2228.74 1071.57 Q2231.79 1074.92 2231.79 1080.71 M2227.53 1079.46 Q2227.49 1075.96 2225.57 1073.88 Q2223.67 1071.8 2220.52 1071.8 Q2216.96 1071.8 2214.8 1073.81 Q2212.67 1075.82 2212.35 1079.48 L2227.53 1079.46 Z\" fill=\"#000000\" fill-rule=\"evenodd\" fill-opacity=\"1\" /><polyline clip-path=\"url(#clip230)\" style=\"stroke:#3da44d; stroke-width:4; stroke-opacity:1; fill:none\" points=\"\n",
       "  1798.88,1137.94 1944.04,1137.94 \n",
       "  \"/>\n",
       "<path clip-path=\"url(#clip230)\" d=\"M 0 0 M1968.23 1120.66 L1972.93 1120.66 L1972.93 1141.65 Q1972.93 1147.21 1974.94 1149.66 Q1976.96 1152.09 1981.47 1152.09 Q1985.96 1152.09 1987.98 1149.66 Q1989.99 1147.21 1989.99 1141.65 L1989.99 1120.66 L1994.69 1120.66 L1994.69 1142.23 Q1994.69 1148.99 1991.33 1152.44 Q1988 1155.89 1981.47 1155.89 Q1974.92 1155.89 1971.56 1152.44 Q1968.23 1148.99 1968.23 1142.23 L1968.23 1120.66 Z\" fill=\"#000000\" fill-rule=\"evenodd\" fill-opacity=\"1\" /><path clip-path=\"url(#clip230)\" d=\"M 0 0 M2020.71 1139.57 L2020.71 1155.22 L2016.45 1155.22 L2016.45 1139.71 Q2016.45 1136.03 2015.01 1134.2 Q2013.58 1132.37 2010.71 1132.37 Q2007.26 1132.37 2005.27 1134.57 Q2003.28 1136.77 2003.28 1140.56 L2003.28 1155.22 L1998.99 1155.22 L1998.99 1129.29 L2003.28 1129.29 L2003.28 1133.32 Q2004.8 1130.98 2006.86 1129.82 Q2008.95 1128.67 2011.66 1128.67 Q2016.12 1128.67 2018.42 1131.44 Q2020.71 1134.2 2020.71 1139.57 Z\" fill=\"#000000\" fill-rule=\"evenodd\" fill-opacity=\"1\" /><path clip-path=\"url(#clip230)\" d=\"M 0 0 M2040.2 1133.27 Q2039.48 1132.86 2038.62 1132.67 Q2037.79 1132.46 2036.77 1132.46 Q2033.16 1132.46 2031.22 1134.82 Q2029.3 1137.16 2029.3 1141.56 L2029.3 1155.22 L2025.01 1155.22 L2025.01 1129.29 L2029.3 1129.29 L2029.3 1133.32 Q2030.64 1130.96 2032.79 1129.82 Q2034.94 1128.67 2038.02 1128.67 Q2038.46 1128.67 2038.99 1128.73 Q2039.53 1128.78 2040.17 1128.9 L2040.2 1133.27 Z\" fill=\"#000000\" fill-rule=\"evenodd\" fill-opacity=\"1\" /><path clip-path=\"url(#clip230)\" d=\"M 0 0 M2065.8 1141.19 L2065.8 1143.27 L2046.22 1143.27 Q2046.49 1147.67 2048.86 1149.98 Q2051.24 1152.28 2055.48 1152.28 Q2057.93 1152.28 2060.22 1151.67 Q2062.54 1151.07 2064.8 1149.87 L2064.8 1153.9 Q2062.51 1154.87 2060.11 1155.38 Q2057.7 1155.89 2055.22 1155.89 Q2049.02 1155.89 2045.38 1152.28 Q2041.77 1148.67 2041.77 1142.51 Q2041.77 1136.14 2045.2 1132.42 Q2048.65 1128.67 2054.48 1128.67 Q2059.71 1128.67 2062.74 1132.05 Q2065.8 1135.4 2065.8 1141.19 M2061.54 1139.94 Q2061.49 1136.44 2059.57 1134.36 Q2057.67 1132.28 2054.53 1132.28 Q2050.96 1132.28 2048.81 1134.29 Q2046.68 1136.3 2046.36 1139.96 L2061.54 1139.94 Z\" fill=\"#000000\" fill-rule=\"evenodd\" fill-opacity=\"1\" /><path clip-path=\"url(#clip230)\" d=\"M 0 0 M2070.27 1119.2 L2074.53 1119.2 L2074.53 1155.22 L2070.27 1155.22 L2070.27 1119.2 Z\" fill=\"#000000\" fill-rule=\"evenodd\" fill-opacity=\"1\" /><path clip-path=\"url(#clip230)\" d=\"M 0 0 M2090.78 1142.18 Q2085.61 1142.18 2083.62 1143.36 Q2081.63 1144.55 2081.63 1147.39 Q2081.63 1149.66 2083.11 1151 Q2084.62 1152.32 2087.19 1152.32 Q2090.73 1152.32 2092.86 1149.82 Q2095.01 1147.3 2095.01 1143.13 L2095.01 1142.18 L2090.78 1142.18 M2099.27 1140.42 L2099.27 1155.22 L2095.01 1155.22 L2095.01 1151.28 Q2093.55 1153.64 2091.38 1154.78 Q2089.2 1155.89 2086.05 1155.89 Q2082.07 1155.89 2079.71 1153.67 Q2077.37 1151.42 2077.37 1147.67 Q2077.37 1143.3 2080.29 1141.07 Q2083.23 1138.85 2089.04 1138.85 L2095.01 1138.85 L2095.01 1138.43 Q2095.01 1135.49 2093.07 1133.9 Q2091.15 1132.28 2087.65 1132.28 Q2085.43 1132.28 2083.32 1132.81 Q2081.22 1133.34 2079.27 1134.41 L2079.27 1130.47 Q2081.61 1129.57 2083.81 1129.13 Q2086.01 1128.67 2088.09 1128.67 Q2093.72 1128.67 2096.49 1131.58 Q2099.27 1134.5 2099.27 1140.42 Z\" fill=\"#000000\" fill-rule=\"evenodd\" fill-opacity=\"1\" /><path clip-path=\"url(#clip230)\" d=\"M 0 0 M2107.95 1121.93 L2107.95 1129.29 L2116.73 1129.29 L2116.73 1132.6 L2107.95 1132.6 L2107.95 1146.67 Q2107.95 1149.85 2108.81 1150.75 Q2109.69 1151.65 2112.35 1151.65 L2116.73 1151.65 L2116.73 1155.22 L2112.35 1155.22 Q2107.42 1155.22 2105.54 1153.39 Q2103.67 1151.54 2103.67 1146.67 L2103.67 1132.6 L2100.54 1132.6 L2100.54 1129.29 L2103.67 1129.29 L2103.67 1121.93 L2107.95 1121.93 Z\" fill=\"#000000\" fill-rule=\"evenodd\" fill-opacity=\"1\" /><path clip-path=\"url(#clip230)\" d=\"M 0 0 M2143.37 1141.19 L2143.37 1143.27 L2123.79 1143.27 Q2124.06 1147.67 2126.42 1149.98 Q2128.81 1152.28 2133.04 1152.28 Q2135.5 1152.28 2137.79 1151.67 Q2140.1 1151.07 2142.37 1149.87 L2142.37 1153.9 Q2140.08 1154.87 2137.67 1155.38 Q2135.27 1155.89 2132.79 1155.89 Q2126.59 1155.89 2122.95 1152.28 Q2119.34 1148.67 2119.34 1142.51 Q2119.34 1136.14 2122.77 1132.42 Q2126.22 1128.67 2132.05 1128.67 Q2137.28 1128.67 2140.31 1132.05 Q2143.37 1135.4 2143.37 1141.19 M2139.11 1139.94 Q2139.06 1136.44 2137.14 1134.36 Q2135.24 1132.28 2132.1 1132.28 Q2128.53 1132.28 2126.38 1134.29 Q2124.25 1136.3 2123.92 1139.96 L2139.11 1139.94 Z\" fill=\"#000000\" fill-rule=\"evenodd\" fill-opacity=\"1\" /><path clip-path=\"url(#clip230)\" d=\"M 0 0 M2164.9 1133.23 L2164.9 1119.2 L2169.16 1119.2 L2169.16 1155.22 L2164.9 1155.22 L2164.9 1151.33 Q2163.55 1153.64 2161.49 1154.78 Q2159.46 1155.89 2156.59 1155.89 Q2151.89 1155.89 2148.92 1152.14 Q2145.98 1148.39 2145.98 1142.28 Q2145.98 1136.17 2148.92 1132.42 Q2151.89 1128.67 2156.59 1128.67 Q2159.46 1128.67 2161.49 1129.8 Q2163.55 1130.91 2164.9 1133.23 M2150.38 1142.28 Q2150.38 1146.98 2152.3 1149.66 Q2154.25 1152.32 2157.63 1152.32 Q2161.01 1152.32 2162.95 1149.66 Q2164.9 1146.98 2164.9 1142.28 Q2164.9 1137.58 2162.95 1134.92 Q2161.01 1132.23 2157.63 1132.23 Q2154.25 1132.23 2152.3 1134.92 Q2150.38 1137.58 2150.38 1142.28 Z\" fill=\"#000000\" fill-rule=\"evenodd\" fill-opacity=\"1\" /><circle clip-path=\"url(#clip230)\" cx=\"1871.46\" cy=\"1198.42\" r=\"23\" fill=\"#c271d2\" fill-rule=\"evenodd\" fill-opacity=\"0.5\" stroke=\"#000000\" stroke-opacity=\"0.5\" stroke-width=\"0\"/>\n",
       "<path clip-path=\"url(#clip230)\" d=\"M 0 0 M1996.1 1183.8 L1996.1 1188.73 Q1993.74 1186.53 1991.05 1185.44 Q1988.39 1184.35 1985.38 1184.35 Q1979.46 1184.35 1976.31 1187.99 Q1973.16 1191.6 1973.16 1198.45 Q1973.16 1205.28 1976.31 1208.91 Q1979.46 1212.52 1985.38 1212.52 Q1988.39 1212.52 1991.05 1211.44 Q1993.74 1210.35 1996.1 1208.15 L1996.1 1213.03 Q1993.65 1214.7 1990.89 1215.53 Q1988.16 1216.37 1985.11 1216.37 Q1977.26 1216.37 1972.74 1211.58 Q1968.23 1206.76 1968.23 1198.45 Q1968.23 1190.12 1972.74 1185.33 Q1977.26 1180.51 1985.11 1180.51 Q1988.21 1180.51 1990.94 1181.34 Q1993.69 1182.15 1996.1 1183.8 Z\" fill=\"#000000\" fill-rule=\"evenodd\" fill-opacity=\"1\" /><path clip-path=\"url(#clip230)\" d=\"M 0 0 M2010.61 1192.76 Q2007.19 1192.76 2005.2 1195.44 Q2003.21 1198.1 2003.21 1202.76 Q2003.21 1207.41 2005.18 1210.09 Q2007.17 1212.76 2010.61 1212.76 Q2014.02 1212.76 2016.01 1210.07 Q2018 1207.39 2018 1202.76 Q2018 1198.15 2016.01 1195.46 Q2014.02 1192.76 2010.61 1192.76 M2010.61 1189.15 Q2016.17 1189.15 2019.34 1192.76 Q2022.51 1196.37 2022.51 1202.76 Q2022.51 1209.12 2019.34 1212.76 Q2016.17 1216.37 2010.61 1216.37 Q2005.04 1216.37 2001.86 1212.76 Q1998.72 1209.12 1998.72 1202.76 Q1998.72 1196.37 2001.86 1192.76 Q2005.04 1189.15 2010.61 1189.15 Z\" fill=\"#000000\" fill-rule=\"evenodd\" fill-opacity=\"1\" /><path clip-path=\"url(#clip230)\" d=\"M 0 0 M2044.04 1202.43 Q2044.04 1197.8 2042.12 1195.26 Q2040.22 1192.71 2036.77 1192.71 Q2033.35 1192.71 2031.42 1195.26 Q2029.53 1197.8 2029.53 1202.43 Q2029.53 1207.04 2031.42 1209.59 Q2033.35 1212.13 2036.77 1212.13 Q2040.22 1212.13 2042.12 1209.59 Q2044.04 1207.04 2044.04 1202.43 M2048.3 1212.48 Q2048.3 1219.1 2045.36 1222.32 Q2042.42 1225.56 2036.36 1225.56 Q2034.11 1225.56 2032.12 1225.21 Q2030.13 1224.89 2028.25 1224.19 L2028.25 1220.05 Q2030.13 1221.07 2031.96 1221.55 Q2033.79 1222.04 2035.68 1222.04 Q2039.87 1222.04 2041.96 1219.84 Q2044.04 1217.66 2044.04 1213.24 L2044.04 1211.14 Q2042.72 1213.43 2040.66 1214.56 Q2038.6 1215.7 2035.73 1215.7 Q2030.96 1215.7 2028.05 1212.06 Q2025.13 1208.43 2025.13 1202.43 Q2025.13 1196.41 2028.05 1192.78 Q2030.96 1189.15 2035.73 1189.15 Q2038.6 1189.15 2040.66 1190.28 Q2042.72 1191.41 2044.04 1193.71 L2044.04 1189.77 L2048.3 1189.77 L2048.3 1212.48 Z\" fill=\"#000000\" fill-rule=\"evenodd\" fill-opacity=\"1\" /><path clip-path=\"url(#clip230)\" d=\"M 0 0 M2074.32 1200.05 L2074.32 1215.7 L2070.06 1215.7 L2070.06 1200.19 Q2070.06 1196.51 2068.62 1194.68 Q2067.19 1192.85 2064.32 1192.85 Q2060.87 1192.85 2058.88 1195.05 Q2056.89 1197.25 2056.89 1201.04 L2056.89 1215.7 L2052.61 1215.7 L2052.61 1189.77 L2056.89 1189.77 L2056.89 1193.8 Q2058.42 1191.46 2060.48 1190.3 Q2062.56 1189.15 2065.27 1189.15 Q2069.73 1189.15 2072.03 1191.92 Q2074.32 1194.68 2074.32 1200.05 Z\" fill=\"#000000\" fill-rule=\"evenodd\" fill-opacity=\"1\" /><path clip-path=\"url(#clip230)\" d=\"M 0 0 M2090.57 1202.66 Q2085.41 1202.66 2083.42 1203.84 Q2081.42 1205.03 2081.42 1207.87 Q2081.42 1210.14 2082.91 1211.48 Q2084.41 1212.8 2086.98 1212.8 Q2090.52 1212.8 2092.65 1210.3 Q2094.8 1207.78 2094.8 1203.61 L2094.8 1202.66 L2090.57 1202.66 M2099.06 1200.9 L2099.06 1215.7 L2094.8 1215.7 L2094.8 1211.76 Q2093.35 1214.12 2091.17 1215.26 Q2088.99 1216.37 2085.85 1216.37 Q2081.86 1216.37 2079.5 1214.15 Q2077.17 1211.9 2077.17 1208.15 Q2077.17 1203.78 2080.08 1201.55 Q2083.02 1199.33 2088.83 1199.33 L2094.8 1199.33 L2094.8 1198.91 Q2094.8 1195.97 2092.86 1194.38 Q2090.94 1192.76 2087.44 1192.76 Q2085.22 1192.76 2083.11 1193.29 Q2081.01 1193.82 2079.06 1194.89 L2079.06 1190.95 Q2081.4 1190.05 2083.6 1189.61 Q2085.8 1189.15 2087.88 1189.15 Q2093.51 1189.15 2096.29 1192.06 Q2099.06 1194.98 2099.06 1200.9 Z\" fill=\"#000000\" fill-rule=\"evenodd\" fill-opacity=\"1\" /><path clip-path=\"url(#clip230)\" d=\"M 0 0 M2107.74 1182.41 L2107.74 1189.77 L2116.52 1189.77 L2116.52 1193.08 L2107.74 1193.08 L2107.74 1207.15 Q2107.74 1210.33 2108.6 1211.23 Q2109.48 1212.13 2112.14 1212.13 L2116.52 1212.13 L2116.52 1215.7 L2112.14 1215.7 Q2107.21 1215.7 2105.34 1213.87 Q2103.46 1212.02 2103.46 1207.15 L2103.46 1193.08 L2100.34 1193.08 L2100.34 1189.77 L2103.46 1189.77 L2103.46 1182.41 L2107.74 1182.41 Z\" fill=\"#000000\" fill-rule=\"evenodd\" fill-opacity=\"1\" /><path clip-path=\"url(#clip230)\" d=\"M 0 0 M2143.16 1201.67 L2143.16 1203.75 L2123.58 1203.75 Q2123.85 1208.15 2126.22 1210.46 Q2128.6 1212.76 2132.84 1212.76 Q2135.29 1212.76 2137.58 1212.15 Q2139.9 1211.55 2142.17 1210.35 L2142.17 1214.38 Q2139.87 1215.35 2137.47 1215.86 Q2135.06 1216.37 2132.58 1216.37 Q2126.38 1216.37 2122.74 1212.76 Q2119.13 1209.15 2119.13 1202.99 Q2119.13 1196.62 2122.56 1192.9 Q2126.01 1189.15 2131.84 1189.15 Q2137.07 1189.15 2140.1 1192.53 Q2143.16 1195.88 2143.16 1201.67 M2138.9 1200.42 Q2138.85 1196.92 2136.93 1194.84 Q2135.04 1192.76 2131.89 1192.76 Q2128.32 1192.76 2126.17 1194.77 Q2124.04 1196.78 2123.72 1200.44 L2138.9 1200.42 Z\" fill=\"#000000\" fill-rule=\"evenodd\" fill-opacity=\"1\" /><circle clip-path=\"url(#clip230)\" cx=\"1871.46\" cy=\"1258.9\" r=\"23\" fill=\"#ac8d18\" fill-rule=\"evenodd\" fill-opacity=\"0.5\" stroke=\"#000000\" stroke-opacity=\"0.5\" stroke-width=\"0\"/>\n",
       "<path clip-path=\"url(#clip230)\" d=\"M 0 0 M1968.23 1241.62 L1974.53 1241.62 L1989.85 1270.53 L1989.85 1241.62 L1994.39 1241.62 L1994.39 1276.18 L1988.09 1276.18 L1972.77 1247.26 L1972.77 1276.18 L1968.23 1276.18 L1968.23 1241.62 Z\" fill=\"#000000\" fill-rule=\"evenodd\" fill-opacity=\"1\" /><path clip-path=\"url(#clip230)\" d=\"M 0 0 M2008.9 1253.24 Q2005.48 1253.24 2003.49 1255.92 Q2001.49 1258.58 2001.49 1263.24 Q2001.49 1267.89 2003.46 1270.57 Q2005.45 1273.24 2008.9 1273.24 Q2012.3 1273.24 2014.3 1270.55 Q2016.29 1267.87 2016.29 1263.24 Q2016.29 1258.63 2014.3 1255.94 Q2012.3 1253.24 2008.9 1253.24 M2008.9 1249.63 Q2014.46 1249.63 2017.63 1253.24 Q2020.8 1256.85 2020.8 1263.24 Q2020.8 1269.6 2017.63 1273.24 Q2014.46 1276.85 2008.9 1276.85 Q2003.32 1276.85 2000.15 1273.24 Q1997 1269.6 1997 1263.24 Q1997 1256.85 2000.15 1253.24 Q2003.32 1249.63 2008.9 1249.63 Z\" fill=\"#000000\" fill-rule=\"evenodd\" fill-opacity=\"1\" /><path clip-path=\"url(#clip230)\" d=\"M 0 0 M2046.82 1260.53 L2046.82 1276.18 L2042.56 1276.18 L2042.56 1260.67 Q2042.56 1256.99 2041.12 1255.16 Q2039.69 1253.33 2036.82 1253.33 Q2033.37 1253.33 2031.38 1255.53 Q2029.39 1257.73 2029.39 1261.52 L2029.39 1276.18 L2025.11 1276.18 L2025.11 1250.25 L2029.39 1250.25 L2029.39 1254.28 Q2030.92 1251.94 2032.98 1250.78 Q2035.06 1249.63 2037.77 1249.63 Q2042.24 1249.63 2044.53 1252.4 Q2046.82 1255.16 2046.82 1260.53 Z\" fill=\"#000000\" fill-rule=\"evenodd\" fill-opacity=\"1\" /><path clip-path=\"url(#clip230)\" d=\"M 0 0 M2049.13 1261.29 L2061.61 1261.29 L2061.61 1265.09 L2049.13 1265.09 L2049.13 1261.29 Z\" fill=\"#000000\" fill-rule=\"evenodd\" fill-opacity=\"1\" /><path clip-path=\"url(#clip230)\" d=\"M 0 0 M2084.73 1251.25 L2084.73 1255.23 Q2082.93 1254.23 2081.1 1253.75 Q2079.3 1253.24 2077.44 1253.24 Q2073.3 1253.24 2071.01 1255.88 Q2068.72 1258.49 2068.72 1263.24 Q2068.72 1267.98 2071.01 1270.62 Q2073.3 1273.24 2077.44 1273.24 Q2079.3 1273.24 2081.1 1272.75 Q2082.93 1272.24 2084.73 1271.25 L2084.73 1275.18 Q2082.95 1276.01 2081.03 1276.43 Q2079.13 1276.85 2076.98 1276.85 Q2071.12 1276.85 2067.67 1273.17 Q2064.23 1269.49 2064.23 1263.24 Q2064.23 1256.89 2067.7 1253.26 Q2071.19 1249.63 2077.26 1249.63 Q2079.23 1249.63 2081.1 1250.04 Q2082.98 1250.44 2084.73 1251.25 Z\" fill=\"#000000\" fill-rule=\"evenodd\" fill-opacity=\"1\" /><path clip-path=\"url(#clip230)\" d=\"M 0 0 M2099.25 1253.24 Q2095.82 1253.24 2093.83 1255.92 Q2091.84 1258.58 2091.84 1263.24 Q2091.84 1267.89 2093.81 1270.57 Q2095.8 1273.24 2099.25 1273.24 Q2102.65 1273.24 2104.64 1270.55 Q2106.63 1267.87 2106.63 1263.24 Q2106.63 1258.63 2104.64 1255.94 Q2102.65 1253.24 2099.25 1253.24 M2099.25 1249.63 Q2104.8 1249.63 2107.98 1253.24 Q2111.15 1256.85 2111.15 1263.24 Q2111.15 1269.6 2107.98 1273.24 Q2104.8 1276.85 2099.25 1276.85 Q2093.67 1276.85 2090.5 1273.24 Q2087.35 1269.6 2087.35 1263.24 Q2087.35 1256.85 2090.5 1253.24 Q2093.67 1249.63 2099.25 1249.63 Z\" fill=\"#000000\" fill-rule=\"evenodd\" fill-opacity=\"1\" /><path clip-path=\"url(#clip230)\" d=\"M 0 0 M2132.67 1262.91 Q2132.67 1258.28 2130.75 1255.74 Q2128.85 1253.19 2125.41 1253.19 Q2121.98 1253.19 2120.06 1255.74 Q2118.16 1258.28 2118.16 1262.91 Q2118.16 1267.52 2120.06 1270.07 Q2121.98 1272.61 2125.41 1272.61 Q2128.85 1272.61 2130.75 1270.07 Q2132.67 1267.52 2132.67 1262.91 M2136.93 1272.96 Q2136.93 1279.58 2133.99 1282.8 Q2131.05 1286.04 2124.99 1286.04 Q2122.74 1286.04 2120.75 1285.69 Q2118.76 1285.37 2116.89 1284.67 L2116.89 1280.53 Q2118.76 1281.55 2120.59 1282.03 Q2122.42 1282.52 2124.32 1282.52 Q2128.51 1282.52 2130.59 1280.32 Q2132.67 1278.14 2132.67 1273.72 L2132.67 1271.62 Q2131.35 1273.91 2129.29 1275.04 Q2127.23 1276.18 2124.36 1276.18 Q2119.6 1276.18 2116.68 1272.54 Q2113.76 1268.91 2113.76 1262.91 Q2113.76 1256.89 2116.68 1253.26 Q2119.6 1249.63 2124.36 1249.63 Q2127.23 1249.63 2129.29 1250.76 Q2131.35 1251.89 2132.67 1254.19 L2132.67 1250.25 L2136.93 1250.25 L2136.93 1272.96 Z\" fill=\"#000000\" fill-rule=\"evenodd\" fill-opacity=\"1\" /><path clip-path=\"url(#clip230)\" d=\"M 0 0 M2162.95 1260.53 L2162.95 1276.18 L2158.69 1276.18 L2158.69 1260.67 Q2158.69 1256.99 2157.26 1255.16 Q2155.82 1253.33 2152.95 1253.33 Q2149.5 1253.33 2147.51 1255.53 Q2145.52 1257.73 2145.52 1261.52 L2145.52 1276.18 L2141.24 1276.18 L2141.24 1250.25 L2145.52 1250.25 L2145.52 1254.28 Q2147.05 1251.94 2149.11 1250.78 Q2151.19 1249.63 2153.9 1249.63 Q2158.37 1249.63 2160.66 1252.4 Q2162.95 1255.16 2162.95 1260.53 Z\" fill=\"#000000\" fill-rule=\"evenodd\" fill-opacity=\"1\" /><path clip-path=\"url(#clip230)\" d=\"M 0 0 M2179.2 1263.14 Q2174.04 1263.14 2172.05 1264.32 Q2170.06 1265.51 2170.06 1268.35 Q2170.06 1270.62 2171.54 1271.96 Q2173.04 1273.28 2175.61 1273.28 Q2179.16 1273.28 2181.29 1270.78 Q2183.44 1268.26 2183.44 1264.09 L2183.44 1263.14 L2179.2 1263.14 M2187.7 1261.38 L2187.7 1276.18 L2183.44 1276.18 L2183.44 1272.24 Q2181.98 1274.6 2179.8 1275.74 Q2177.63 1276.85 2174.48 1276.85 Q2170.5 1276.85 2168.14 1274.63 Q2165.8 1272.38 2165.8 1268.63 Q2165.8 1264.26 2168.72 1262.03 Q2171.66 1259.81 2177.47 1259.81 L2183.44 1259.81 L2183.44 1259.39 Q2183.44 1256.45 2181.49 1254.86 Q2179.57 1253.24 2176.08 1253.24 Q2173.85 1253.24 2171.75 1253.77 Q2169.64 1254.3 2167.7 1255.37 L2167.7 1251.43 Q2170.04 1250.53 2172.23 1250.09 Q2174.43 1249.63 2176.52 1249.63 Q2182.14 1249.63 2184.92 1252.54 Q2187.7 1255.46 2187.7 1261.38 Z\" fill=\"#000000\" fill-rule=\"evenodd\" fill-opacity=\"1\" /><path clip-path=\"url(#clip230)\" d=\"M 0 0 M2196.38 1242.89 L2196.38 1250.25 L2205.15 1250.25 L2205.15 1253.56 L2196.38 1253.56 L2196.38 1267.63 Q2196.38 1270.81 2197.23 1271.71 Q2198.11 1272.61 2200.78 1272.61 L2205.15 1272.61 L2205.15 1276.18 L2200.78 1276.18 Q2195.85 1276.18 2193.97 1274.35 Q2192.1 1272.5 2192.1 1267.63 L2192.1 1253.56 L2188.97 1253.56 L2188.97 1250.25 L2192.1 1250.25 L2192.1 1242.89 L2196.38 1242.89 Z\" fill=\"#000000\" fill-rule=\"evenodd\" fill-opacity=\"1\" /><path clip-path=\"url(#clip230)\" d=\"M 0 0 M2231.79 1262.15 L2231.79 1264.23 L2212.21 1264.23 Q2212.49 1268.63 2214.85 1270.94 Q2217.23 1273.24 2221.47 1273.24 Q2223.92 1273.24 2226.22 1272.63 Q2228.53 1272.03 2230.8 1270.83 L2230.8 1274.86 Q2228.51 1275.83 2226.1 1276.34 Q2223.69 1276.85 2221.22 1276.85 Q2215.01 1276.85 2211.38 1273.24 Q2207.77 1269.63 2207.77 1263.47 Q2207.77 1257.1 2211.19 1253.38 Q2214.64 1249.63 2220.47 1249.63 Q2225.71 1249.63 2228.74 1253.01 Q2231.79 1256.36 2231.79 1262.15 M2227.53 1260.9 Q2227.49 1257.4 2225.57 1255.32 Q2223.67 1253.24 2220.52 1253.24 Q2216.96 1253.24 2214.8 1255.25 Q2212.67 1257.26 2212.35 1260.92 L2227.53 1260.9 Z\" fill=\"#000000\" fill-rule=\"evenodd\" fill-opacity=\"1\" /><circle clip-path=\"url(#clip230)\" cx=\"1871.46\" cy=\"1319.38\" r=\"23\" fill=\"#00a9ad\" fill-rule=\"evenodd\" fill-opacity=\"0.5\" stroke=\"#000000\" stroke-opacity=\"0.5\" stroke-width=\"0\"/>\n",
       "<path clip-path=\"url(#clip230)\" d=\"M 0 0 M1968.23 1302.1 L1972.93 1302.1 L1972.93 1323.09 Q1972.93 1328.65 1974.94 1331.1 Q1976.96 1333.53 1981.47 1333.53 Q1985.96 1333.53 1987.98 1331.1 Q1989.99 1328.65 1989.99 1323.09 L1989.99 1302.1 L1994.69 1302.1 L1994.69 1323.67 Q1994.69 1330.43 1991.33 1333.88 Q1988 1337.33 1981.47 1337.33 Q1974.92 1337.33 1971.56 1333.88 Q1968.23 1330.43 1968.23 1323.67 L1968.23 1302.1 Z\" fill=\"#000000\" fill-rule=\"evenodd\" fill-opacity=\"1\" /><path clip-path=\"url(#clip230)\" d=\"M 0 0 M2020.71 1321.01 L2020.71 1336.66 L2016.45 1336.66 L2016.45 1321.15 Q2016.45 1317.47 2015.01 1315.64 Q2013.58 1313.81 2010.71 1313.81 Q2007.26 1313.81 2005.27 1316.01 Q2003.28 1318.21 2003.28 1322 L2003.28 1336.66 L1998.99 1336.66 L1998.99 1310.73 L2003.28 1310.73 L2003.28 1314.76 Q2004.8 1312.42 2006.86 1311.26 Q2008.95 1310.11 2011.66 1310.11 Q2016.12 1310.11 2018.42 1312.88 Q2020.71 1315.64 2020.71 1321.01 Z\" fill=\"#000000\" fill-rule=\"evenodd\" fill-opacity=\"1\" /><path clip-path=\"url(#clip230)\" d=\"M 0 0 M2040.2 1314.71 Q2039.48 1314.3 2038.62 1314.11 Q2037.79 1313.9 2036.77 1313.9 Q2033.16 1313.9 2031.22 1316.26 Q2029.3 1318.6 2029.3 1323 L2029.3 1336.66 L2025.01 1336.66 L2025.01 1310.73 L2029.3 1310.73 L2029.3 1314.76 Q2030.64 1312.4 2032.79 1311.26 Q2034.94 1310.11 2038.02 1310.11 Q2038.46 1310.11 2038.99 1310.17 Q2039.53 1310.22 2040.17 1310.34 L2040.2 1314.71 Z\" fill=\"#000000\" fill-rule=\"evenodd\" fill-opacity=\"1\" /><path clip-path=\"url(#clip230)\" d=\"M 0 0 M2065.8 1322.63 L2065.8 1324.71 L2046.22 1324.71 Q2046.49 1329.11 2048.86 1331.42 Q2051.24 1333.72 2055.48 1333.72 Q2057.93 1333.72 2060.22 1333.11 Q2062.54 1332.51 2064.8 1331.31 L2064.8 1335.34 Q2062.51 1336.31 2060.11 1336.82 Q2057.7 1337.33 2055.22 1337.33 Q2049.02 1337.33 2045.38 1333.72 Q2041.77 1330.11 2041.77 1323.95 Q2041.77 1317.58 2045.2 1313.86 Q2048.65 1310.11 2054.48 1310.11 Q2059.71 1310.11 2062.74 1313.49 Q2065.8 1316.84 2065.8 1322.63 M2061.54 1321.38 Q2061.49 1317.88 2059.57 1315.8 Q2057.67 1313.72 2054.53 1313.72 Q2050.96 1313.72 2048.81 1315.73 Q2046.68 1317.74 2046.36 1321.4 L2061.54 1321.38 Z\" fill=\"#000000\" fill-rule=\"evenodd\" fill-opacity=\"1\" /><path clip-path=\"url(#clip230)\" d=\"M 0 0 M2070.27 1300.64 L2074.53 1300.64 L2074.53 1336.66 L2070.27 1336.66 L2070.27 1300.64 Z\" fill=\"#000000\" fill-rule=\"evenodd\" fill-opacity=\"1\" /><path clip-path=\"url(#clip230)\" d=\"M 0 0 M2090.78 1323.62 Q2085.61 1323.62 2083.62 1324.8 Q2081.63 1325.99 2081.63 1328.83 Q2081.63 1331.1 2083.11 1332.44 Q2084.62 1333.76 2087.19 1333.76 Q2090.73 1333.76 2092.86 1331.26 Q2095.01 1328.74 2095.01 1324.57 L2095.01 1323.62 L2090.78 1323.62 M2099.27 1321.86 L2099.27 1336.66 L2095.01 1336.66 L2095.01 1332.72 Q2093.55 1335.08 2091.38 1336.22 Q2089.2 1337.33 2086.05 1337.33 Q2082.07 1337.33 2079.71 1335.11 Q2077.37 1332.86 2077.37 1329.11 Q2077.37 1324.74 2080.29 1322.51 Q2083.23 1320.29 2089.04 1320.29 L2095.01 1320.29 L2095.01 1319.87 Q2095.01 1316.93 2093.07 1315.34 Q2091.15 1313.72 2087.65 1313.72 Q2085.43 1313.72 2083.32 1314.25 Q2081.22 1314.78 2079.27 1315.85 L2079.27 1311.91 Q2081.61 1311.01 2083.81 1310.57 Q2086.01 1310.11 2088.09 1310.11 Q2093.72 1310.11 2096.49 1313.02 Q2099.27 1315.94 2099.27 1321.86 Z\" fill=\"#000000\" fill-rule=\"evenodd\" fill-opacity=\"1\" /><path clip-path=\"url(#clip230)\" d=\"M 0 0 M2107.95 1303.37 L2107.95 1310.73 L2116.73 1310.73 L2116.73 1314.04 L2107.95 1314.04 L2107.95 1328.11 Q2107.95 1331.29 2108.81 1332.19 Q2109.69 1333.09 2112.35 1333.09 L2116.73 1333.09 L2116.73 1336.66 L2112.35 1336.66 Q2107.42 1336.66 2105.54 1334.83 Q2103.67 1332.98 2103.67 1328.11 L2103.67 1314.04 L2100.54 1314.04 L2100.54 1310.73 L2103.67 1310.73 L2103.67 1303.37 L2107.95 1303.37 Z\" fill=\"#000000\" fill-rule=\"evenodd\" fill-opacity=\"1\" /><path clip-path=\"url(#clip230)\" d=\"M 0 0 M2143.37 1322.63 L2143.37 1324.71 L2123.79 1324.71 Q2124.06 1329.11 2126.42 1331.42 Q2128.81 1333.72 2133.04 1333.72 Q2135.5 1333.72 2137.79 1333.11 Q2140.1 1332.51 2142.37 1331.31 L2142.37 1335.34 Q2140.08 1336.31 2137.67 1336.82 Q2135.27 1337.33 2132.79 1337.33 Q2126.59 1337.33 2122.95 1333.72 Q2119.34 1330.11 2119.34 1323.95 Q2119.34 1317.58 2122.77 1313.86 Q2126.22 1310.11 2132.05 1310.11 Q2137.28 1310.11 2140.31 1313.49 Q2143.37 1316.84 2143.37 1322.63 M2139.11 1321.38 Q2139.06 1317.88 2137.14 1315.8 Q2135.24 1313.72 2132.1 1313.72 Q2128.53 1313.72 2126.38 1315.73 Q2124.25 1317.74 2123.92 1321.4 L2139.11 1321.38 Z\" fill=\"#000000\" fill-rule=\"evenodd\" fill-opacity=\"1\" /><path clip-path=\"url(#clip230)\" d=\"M 0 0 M2164.9 1314.67 L2164.9 1300.64 L2169.16 1300.64 L2169.16 1336.66 L2164.9 1336.66 L2164.9 1332.77 Q2163.55 1335.08 2161.49 1336.22 Q2159.46 1337.33 2156.59 1337.33 Q2151.89 1337.33 2148.92 1333.58 Q2145.98 1329.83 2145.98 1323.72 Q2145.98 1317.61 2148.92 1313.86 Q2151.89 1310.11 2156.59 1310.11 Q2159.46 1310.11 2161.49 1311.24 Q2163.55 1312.35 2164.9 1314.67 M2150.38 1323.72 Q2150.38 1328.42 2152.3 1331.1 Q2154.25 1333.76 2157.63 1333.76 Q2161.01 1333.76 2162.95 1331.1 Q2164.9 1328.42 2164.9 1323.72 Q2164.9 1319.02 2162.95 1316.36 Q2161.01 1313.67 2157.63 1313.67 Q2154.25 1313.67 2152.3 1316.36 Q2150.38 1319.02 2150.38 1323.72 Z\" fill=\"#000000\" fill-rule=\"evenodd\" fill-opacity=\"1\" /></svg>\n"
      ]
     },
     "execution_count": 228,
     "metadata": {},
     "output_type": "execute_result"
    }
   ],
   "source": [
    "gr()\n",
    "plot(\n",
    "    d.condition, d.logit_pred_mean,\n",
    "    group = preds.condition,\n",
    "    linewidth=3, \n",
    "    ribbon = (\n",
    "        preds.logit_pred_mean .- preds.logit_pred_sem,\n",
    "        preds.logit_pred_mean .- preds.logit_pred_sem\n",
    "    ),\n",
    "    fillalpha = 0.15\n",
    ")\n",
    "plot!(\n",
    "    d_preds.time1, d_preds.logit_mean,\n",
    "    group = d_preds.condition,\n",
    "    seriestype = :scatter,\n",
    "    ms = 5,\n",
    "    markerstrokewidth = 0,\n",
    "    malpha = 0.5\n",
    ")\n",
    "plot!(\n",
    "    title = \"Target fixations across time bins\",\n",
    "    xguide = \"Time bins (0.1 s)\",\n",
    "    yguide = \"Logit of target fixations\",\n",
    "    legend=:bottomright\n",
    ")\n",
    "\n",
    "\n"
   ]
  }
 ],
 "metadata": {
  "kernelspec": {
   "display_name": "Julia 1.5.3",
   "language": "julia",
   "name": "julia-1.5"
  },
  "language_info": {
   "file_extension": ".jl",
   "mimetype": "application/julia",
   "name": "julia",
   "version": "1.5.3"
  }
 },
 "nbformat": 4,
 "nbformat_minor": 4
}
